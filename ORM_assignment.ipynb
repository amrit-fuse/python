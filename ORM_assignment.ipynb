{
 "cells": [
  {
   "cell_type": "markdown",
   "metadata": {},
   "source": [
    "# Imports and Install"
   ]
  },
  {
   "cell_type": "code",
   "execution_count": 92,
   "metadata": {},
   "outputs": [],
   "source": [
    "# !pip install Sqlalchemy\n",
    "# !pip install mysqlclient\n",
    "import json\n",
    "import requests"
   ]
  },
  {
   "cell_type": "markdown",
   "metadata": {},
   "source": [
    "jprint func"
   ]
  },
  {
   "cell_type": "code",
   "execution_count": 93,
   "metadata": {},
   "outputs": [],
   "source": [
    "\n",
    "def json_print(json_object):\n",
    "    text = json.dumps(json_object, sort_keys=True, indent=4) # sort_keys=True means sort the keys in alphabetical order\n",
    "    # indent 4 means 4 spaces for each indentation\n",
    "    print(text)"
   ]
  },
  {
   "cell_type": "markdown",
   "metadata": {},
   "source": [
    "### Add new customer to database"
   ]
  },
  {
   "cell_type": "code",
   "execution_count": 94,
   "metadata": {},
   "outputs": [
    {
     "name": "stdout",
     "output_type": "stream",
     "text": [
      "http://127.0.0.1:5000/add_customer?first_name=John&last_name=Smith&phone=1234567890&email=hello%40gmail.com\n",
      "{\n",
      "    \"customer_id\": 1,\n",
      "    \"email\": \"hello@gmail.com\",\n",
      "    \"first_name\": \"John\",\n",
      "    \"last_name\": \"Smith\",\n",
      "    \"message\": \"Customer added successfully\",\n",
      "    \"phone\": \"1234567890\"\n",
      "}\n"
     ]
    }
   ],
   "source": [
    "parameters = {'first_name': \"John\", 'last_name': \"Smith\", 'phone': \"1234567890\", 'email': \"hello@gmail.com\"}\n",
    "response = requests.post(\"http://127.0.0.1:5000/add_customer\", params=parameters)\n",
    "print(response.url)\n",
    "json_print(response.json())\n"
   ]
  },
  {
   "cell_type": "markdown",
   "metadata": {},
   "source": [
    "### Insert  multiple customers in the database at once\n"
   ]
  },
  {
   "cell_type": "code",
   "execution_count": 95,
   "metadata": {},
   "outputs": [
    {
     "name": "stdout",
     "output_type": "stream",
     "text": [
      "http://127.0.0.1:5000/add_customer?first_name=amrit&last_name=kumar&phone=45697852164&email=ksksk%40hotmail.com\n",
      "{\n",
      "    \"customer_id\": 2,\n",
      "    \"email\": \"ksksk@hotmail.com\",\n",
      "    \"first_name\": \"amrit\",\n",
      "    \"last_name\": \"kumar\",\n",
      "    \"message\": \"Customer added successfully\",\n",
      "    \"phone\": \"45697852164\"\n",
      "}\n",
      "http://127.0.0.1:5000/add_customer?first_name=william&last_name=smith&phone=9864564164&email=weill%40gg.com\n",
      "{\n",
      "    \"customer_id\": 3,\n",
      "    \"email\": \"weill@gg.com\",\n",
      "    \"first_name\": \"william\",\n",
      "    \"last_name\": \"smith\",\n",
      "    \"message\": \"Customer added successfully\",\n",
      "    \"phone\": \"9864564164\"\n",
      "}\n",
      "http://127.0.0.1:5000/add_customer?first_name=diupendra&last_name=pandey&phone=8988546782&email=dpan%40test.xyz\n",
      "{\n",
      "    \"customer_id\": 4,\n",
      "    \"email\": \"dpan@test.xyz\",\n",
      "    \"first_name\": \"diupendra\",\n",
      "    \"last_name\": \"pandey\",\n",
      "    \"message\": \"Customer added successfully\",\n",
      "    \"phone\": \"8988546782\"\n",
      "}\n",
      "all users added sucessfully\n"
     ]
    }
   ],
   "source": [
    "parameters=[{'first_name': 'amrit', 'last_name': 'kumar', 'phone': '45697852164','email': 'ksksk@hotmail.com'},{'first_name':'william','last_name':'smith','phone':'9864564164','email':'weill@gg.com'},{'first_name':'diupendra','last_name':'pandey','phone':'8988546782','email':'dpan@test.xyz'}]\n",
    "\n",
    "for parameter in parameters:\n",
    "    response = requests.post(\"http://127.0.0.1:5000/add_customer\", params=parameter)\n",
    "    print(response.url) \n",
    "    json_print(response.json())\n",
    "\n",
    "print(\"all users added sucessfully\")\n"
   ]
  },
  {
   "cell_type": "markdown",
   "metadata": {},
   "source": [
    "### Get unbooked room no with its type and price"
   ]
  },
  {
   "cell_type": "code",
   "execution_count": 103,
   "metadata": {},
   "outputs": [
    {
     "name": "stdout",
     "output_type": "stream",
     "text": [
      "http://127.0.0.1:5000/get_unbooked_rooms?check_in=2022-01-01&check_out=2022-01-02\n",
      "All avaailable rooms for the given date range:\n",
      "{\n",
      "    \"unbooked_rooms\": [\n",
      "        {\n",
      "            \"price\": 1000.0,\n",
      "            \"room_id\": 2,\n",
      "            \"room_type\": \"Single\"\n",
      "        },\n",
      "        {\n",
      "            \"price\": 2000.0,\n",
      "            \"room_id\": 4,\n",
      "            \"room_type\": \"Double\"\n",
      "        },\n",
      "        {\n",
      "            \"price\": 3000.0,\n",
      "            \"room_id\": 6,\n",
      "            \"room_type\": \"Deluxe\"\n",
      "        },\n",
      "        {\n",
      "            \"price\": 4000.0,\n",
      "            \"room_id\": 8,\n",
      "            \"room_type\": \"Suite\"\n",
      "        }\n",
      "    ]\n",
      "}\n"
     ]
    }
   ],
   "source": [
    "parameters = {'check_in': \"2022-01-01\", 'check_out': \"2022-01-02\"}\n",
    "response = requests.get(\"http://127.0.0.1:5000/get_unbooked_rooms\", params=parameters)\n",
    "print (response.url)\n",
    "print(\"All avaailable rooms for the given date range:\")\n",
    "json_print(response.json())\n",
    "\n"
   ]
  },
  {
   "cell_type": "markdown",
   "metadata": {},
   "source": [
    "### Check availabiulity of individual rooms"
   ]
  },
  {
   "cell_type": "code",
   "execution_count": 102,
   "metadata": {},
   "outputs": [
    {
     "name": "stdout",
     "output_type": "stream",
     "text": [
      "http://127.0.0.1:5000/check_room_availability?check_in=2022-01-01&check_out=2022-01-02&room_id=3\n",
      "{\n",
      "    \"check_in\": \"Sat, 01 Jan 2022 00:00:00 GMT\",\n",
      "    \"check_out\": \"Sun, 02 Jan 2022 00:00:00 GMT\",\n",
      "    \"message\": \"Room is not available\",\n",
      "    \"room_id\": \"3\"\n",
      "}\n"
     ]
    }
   ],
   "source": [
    "parameters = {'check_in': \"2022-01-01\", 'check_out': \"2022-01-02\",'room_id':2}\n",
    "response = requests.get(\"http://127.0.0.1:5000/check_room_availability\", params=parameters)\n",
    "print (response.url)\n",
    "json_print(response.json())\n",
    "\n",
    "\n"
   ]
  },
  {
   "cell_type": "markdown",
   "metadata": {},
   "source": [
    "### Calculate price of stay for given dates and room no."
   ]
  },
  {
   "cell_type": "code",
   "execution_count": 98,
   "metadata": {},
   "outputs": [
    {
     "name": "stdout",
     "output_type": "stream",
     "text": [
      "http://127.0.0.1:5000/get_total_price?check_in=2022-01-02&check_out=2022-01-05&rooms=2%2C4%2C6\n",
      "Total price for the given rooms:\n",
      "{\n",
      "    \"check_in\": \"Sun, 02 Jan 2022 00:00:00 GMT\",\n",
      "    \"check_out\": \"Wed, 05 Jan 2022 00:00:00 GMT\",\n",
      "    \"rooms\": [\n",
      "        {\n",
      "            \"Room_type\": 1,\n",
      "            \"price_of_stay\": 3000.0,\n",
      "            \"room_id\": \"2\"\n",
      "        },\n",
      "        {\n",
      "            \"Room_type\": 2,\n",
      "            \"price_of_stay\": 6000.0,\n",
      "            \"room_id\": \"4\"\n",
      "        },\n",
      "        {\n",
      "            \"Room_type\": 3,\n",
      "            \"price_of_stay\": 9000.0,\n",
      "            \"room_id\": \"6\"\n",
      "        }\n",
      "    ],\n",
      "    \"total_price_of_stay\": 18000.0\n",
      "}\n"
     ]
    }
   ],
   "source": [
    "parameters = {'check_in': \"2022-01-02\", 'check_out': \"2022-01-05\",'rooms': '2,4,6'}\n",
    "response = requests.get(\"http://127.0.0.1:5000/get_total_price\", params=parameters)\n",
    "print (response.url)\n",
    "print(\"Total price for the given rooms:\")\n",
    "json_print(response.json())\n"
   ]
  },
  {
   "cell_type": "markdown",
   "metadata": {},
   "source": [
    "### Room booking"
   ]
  },
  {
   "cell_type": "code",
   "execution_count": 100,
   "metadata": {},
   "outputs": [
    {
     "name": "stdout",
     "output_type": "stream",
     "text": [
      "http://127.0.0.1:5000/add_booking?check_in=2022-01-01&check_out=2022-01-03&rooms=5&customer_id=3&payment_done=1\n",
      "Booking status:\n",
      "{\n",
      "    \"Room numbers\": [\n",
      "        \"5\"\n",
      "    ],\n",
      "    \"check_in\": \"Sat, 01 Jan 2022 00:00:00 GMT\",\n",
      "    \"check_out\": \"Mon, 03 Jan 2022 00:00:00 GMT\",\n",
      "    \"customer_id\": 3,\n",
      "    \"message\": \"Booked successfully\",\n",
      "    \"payment_done\": true,\n",
      "    \"total_cost for all booking\": 6000.0\n",
      "}\n"
     ]
    }
   ],
   "source": [
    "# payment_done {0: 'False', 1: 'True'}\n",
    "parameters = {'check_in': \"2022-01-01\", 'check_out': \"2022-01-03\",'rooms': '1,3,7', 'customer_id': 2, 'payment_done': 1}\n",
    "response = requests.post(\"http://127.0.0.1:5000/add_booking\", params=parameters)\n",
    "print (response.url)\n",
    "print(\"Booking status:\")\n",
    "json_print(response.json())\n"
   ]
  },
  {
   "cell_type": "code",
   "execution_count": null,
   "metadata": {},
   "outputs": [],
   "source": []
  },
  {
   "cell_type": "code",
   "execution_count": null,
   "metadata": {},
   "outputs": [],
   "source": []
  }
 ],
 "metadata": {
  "kernelspec": {
   "display_name": "Python 3.10.7 ('fuseenv': venv)",
   "language": "python",
   "name": "python3"
  },
  "language_info": {
   "codemirror_mode": {
    "name": "ipython",
    "version": 3
   },
   "file_extension": ".py",
   "mimetype": "text/x-python",
   "name": "python",
   "nbconvert_exporter": "python",
   "pygments_lexer": "ipython3",
   "version": "3.10.7"
  },
  "orig_nbformat": 4,
  "vscode": {
   "interpreter": {
    "hash": "235ff4895111486f0fa3900be5e4aea032cfb3f81c83401085e31d72be069099"
   }
  }
 },
 "nbformat": 4,
 "nbformat_minor": 2
}
