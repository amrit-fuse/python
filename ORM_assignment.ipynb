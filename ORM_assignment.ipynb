{
 "cells": [
  {
   "cell_type": "markdown",
   "metadata": {},
   "source": [
    "# Imports and Install"
   ]
  },
  {
   "cell_type": "code",
   "execution_count": 107,
   "metadata": {},
   "outputs": [],
   "source": [
    "# !pip install Sqlalchemy\n",
    "# !pip install mysqlclient\n",
    "import json\n",
    "import requests"
   ]
  },
  {
   "cell_type": "markdown",
   "metadata": {},
   "source": [
    "jprint func"
   ]
  },
  {
   "cell_type": "code",
   "execution_count": 108,
   "metadata": {},
   "outputs": [],
   "source": [
    "\n",
    "def json_print(json_object):\n",
    "    text = json.dumps(json_object, sort_keys=True, indent=4) # sort_keys=True means sort the keys in alphabetical order\n",
    "    # indent 4 means 4 spaces for each indentation\n",
    "    print(text)"
   ]
  },
  {
   "cell_type": "markdown",
   "metadata": {},
   "source": [
    "### Check  if customer details can be inserted or not in the database\n"
   ]
  },
  {
   "cell_type": "code",
   "execution_count": 109,
   "metadata": {},
   "outputs": [
    {
     "name": "stdout",
     "output_type": "stream",
     "text": [
      "http://127.0.0.1:5000/add_customer?first_name=John&last_name=Smith&phone=1234567890&email=hello%40gmail.com\n",
      "{\n",
      "    \"customer_id\": 2,\n",
      "    \"email\": \"hello@gmail.com\",\n",
      "    \"first_name\": \"John\",\n",
      "    \"last_name\": \"Smith\",\n",
      "    \"message\": \"Customer added successfully\",\n",
      "    \"phone\": \"1234567890\"\n",
      "}\n"
     ]
    }
   ],
   "source": [
    "parameters = {'first_name': \"John\", 'last_name': \"Smith\", 'phone': \"1234567890\", 'email': \"hello@gmail.com\"}\n",
    "response = requests.post(\"http://127.0.0.1:5000/add_customer\", params=parameters)\n",
    "print(response.url)\n",
    "json_print(response.json())\n"
   ]
  },
  {
   "cell_type": "markdown",
   "metadata": {},
   "source": [
    "### Get unbooked room no with its type and price"
   ]
  },
  {
   "cell_type": "code",
   "execution_count": 110,
   "metadata": {},
   "outputs": [
    {
     "name": "stdout",
     "output_type": "stream",
     "text": [
      "http://127.0.0.1:5000/get_unbooked_rooms?check_in=2019-01-01&check_out=2021-01-02\n",
      "All avaailable rooms for the given date range:\n",
      "[\n",
      "    {\n",
      "        \"price/day\": 1000.0,\n",
      "        \"room_id\": 1,\n",
      "        \"type\": \"Single\"\n",
      "    },\n",
      "    {\n",
      "        \"price/day\": 1000.0,\n",
      "        \"room_id\": 2,\n",
      "        \"type\": \"Single\"\n",
      "    },\n",
      "    {\n",
      "        \"price/day\": 1000.0,\n",
      "        \"room_id\": 3,\n",
      "        \"type\": \"Single\"\n",
      "    },\n",
      "    {\n",
      "        \"price/day\": 1000.0,\n",
      "        \"room_id\": 4,\n",
      "        \"type\": \"Single\"\n",
      "    },\n",
      "    {\n",
      "        \"price/day\": 2000.0,\n",
      "        \"room_id\": 5,\n",
      "        \"type\": \"Double\"\n",
      "    },\n",
      "    {\n",
      "        \"price/day\": 2000.0,\n",
      "        \"room_id\": 6,\n",
      "        \"type\": \"Double\"\n",
      "    },\n",
      "    {\n",
      "        \"price/day\": 2000.0,\n",
      "        \"room_id\": 8,\n",
      "        \"type\": \"Double\"\n",
      "    },\n",
      "    {\n",
      "        \"price/day\": 3000.0,\n",
      "        \"room_id\": 9,\n",
      "        \"type\": \"Deluxe\"\n",
      "    },\n",
      "    {\n",
      "        \"price/day\": 3000.0,\n",
      "        \"room_id\": 10,\n",
      "        \"type\": \"Deluxe\"\n",
      "    },\n",
      "    {\n",
      "        \"price/day\": 3000.0,\n",
      "        \"room_id\": 11,\n",
      "        \"type\": \"Deluxe\"\n",
      "    },\n",
      "    {\n",
      "        \"price/day\": 3000.0,\n",
      "        \"room_id\": 12,\n",
      "        \"type\": \"Deluxe\"\n",
      "    },\n",
      "    {\n",
      "        \"price/day\": 4000.0,\n",
      "        \"room_id\": 13,\n",
      "        \"type\": \"Suite\"\n",
      "    },\n",
      "    {\n",
      "        \"price/day\": 4000.0,\n",
      "        \"room_id\": 14,\n",
      "        \"type\": \"Suite\"\n",
      "    },\n",
      "    {\n",
      "        \"price/day\": 4000.0,\n",
      "        \"room_id\": 15,\n",
      "        \"type\": \"Suite\"\n",
      "    },\n",
      "    {\n",
      "        \"price/day\": 4000.0,\n",
      "        \"room_id\": 16,\n",
      "        \"type\": \"Suite\"\n",
      "    }\n",
      "]\n"
     ]
    }
   ],
   "source": [
    "parameters = {'check_in': \"2019-01-01\", 'check_out': \"2021-01-02\"}\n",
    "response = requests.get(\"http://127.0.0.1:5000/get_unbooked_rooms\", params=parameters)\n",
    "print (response.url)\n",
    "print(\"All avaailable rooms for the given date range:\")\n",
    "json_print(response.json())\n",
    "\n"
   ]
  },
  {
   "cell_type": "code",
   "execution_count": 111,
   "metadata": {},
   "outputs": [
    {
     "data": {
      "text/plain": [
       "True"
      ]
     },
     "execution_count": 111,
     "metadata": {},
     "output_type": "execute_result"
    }
   ],
   "source": [
    "'2019-01-01' > '2018-01-02'"
   ]
  },
  {
   "cell_type": "markdown",
   "metadata": {},
   "source": [
    "### get total price of all the rooms supplied  for given dates"
   ]
  },
  {
   "cell_type": "code",
   "execution_count": 112,
   "metadata": {},
   "outputs": [
    {
     "name": "stdout",
     "output_type": "stream",
     "text": [
      "http://127.0.0.1:5000/get_total_price?check_in=2021-01-01&check_out=2021-01-03&rooms=1%2C6%2C10\n",
      "Total price for the given rooms:\n",
      "{\n",
      "    \"check_in\": \"Fri, 01 Jan 2021 00:00:00 GMT\",\n",
      "    \"check_out\": \"Sun, 03 Jan 2021 00:00:00 GMT\",\n",
      "    \"rooms\": [\n",
      "        \"1\",\n",
      "        \"6\",\n",
      "        \"10\"\n",
      "    ],\n",
      "    \"total_price\": 12000.0\n",
      "}\n"
     ]
    }
   ],
   "source": [
    "parameters = {'check_in': \"2021-01-01\", 'check_out': \"2021-01-03\",'rooms': '1,6,10'}\n",
    "response = requests.get(\"http://127.0.0.1:5000/get_total_price\", params=parameters)\n",
    "print (response.url)\n",
    "print(\"Total price for the given rooms:\")\n",
    "json_print(response.json())\n"
   ]
  },
  {
   "cell_type": "markdown",
   "metadata": {},
   "source": [
    "### check if booking can be done or not"
   ]
  },
  {
   "cell_type": "code",
   "execution_count": 146,
   "metadata": {},
   "outputs": [
    {
     "name": "stdout",
     "output_type": "stream",
     "text": [
      "http://127.0.0.1:5000/add_booking?check_in=2022-01-01&check_out=2022-01-03&rooms=1%2C6%2C10&customer_id=1&payment_done=1\n",
      "Booking status:\n",
      "{\n",
      "    \"check_in\": \"Sat, 01 Jan 2022 00:00:00 GMT\",\n",
      "    \"check_out\": \"Mon, 03 Jan 2022 00:00:00 GMT\",\n",
      "    \"customer_id\": 1,\n",
      "    \"message\": \"Booked successfully\",\n",
      "    \"payment_done\": true,\n",
      "    \"room_id\": [\n",
      "        \"1\",\n",
      "        \"6\",\n",
      "        \"10\"\n",
      "    ],\n",
      "    \"total_cost\": 12000.0\n",
      "}\n"
     ]
    }
   ],
   "source": [
    "# payment_done {0: 'False', 1: 'True'}\n",
    "parameters = {'check_in': \"2022-01-01\", 'check_out': \"2022-01-03\",'rooms': '1,6,10', 'customer_id': 1, 'payment_done': 1}\n",
    "response = requests.post(\"http://127.0.0.1:5000/add_booking\", params=parameters)\n",
    "print (response.url)\n",
    "print(\"Booking status:\")\n",
    "json_print(response.json())\n"
   ]
  },
  {
   "cell_type": "code",
   "execution_count": null,
   "metadata": {},
   "outputs": [],
   "source": []
  },
  {
   "cell_type": "code",
   "execution_count": null,
   "metadata": {},
   "outputs": [],
   "source": []
  }
 ],
 "metadata": {
  "kernelspec": {
   "display_name": "Python 3.10.7 ('fuseenv': venv)",
   "language": "python",
   "name": "python3"
  },
  "language_info": {
   "codemirror_mode": {
    "name": "ipython",
    "version": 3
   },
   "file_extension": ".py",
   "mimetype": "text/x-python",
   "name": "python",
   "nbconvert_exporter": "python",
   "pygments_lexer": "ipython3",
   "version": "3.10.7"
  },
  "orig_nbformat": 4,
  "vscode": {
   "interpreter": {
    "hash": "235ff4895111486f0fa3900be5e4aea032cfb3f81c83401085e31d72be069099"
   }
  }
 },
 "nbformat": 4,
 "nbformat_minor": 2
}
