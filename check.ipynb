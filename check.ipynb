{
 "cells": [
  {
   "cell_type": "markdown",
   "metadata": {},
   "source": [
    "# Imports"
   ]
  },
  {
   "cell_type": "code",
   "execution_count": 69,
   "metadata": {},
   "outputs": [],
   "source": [
    "import json\n",
    "import requests"
   ]
  },
  {
   "cell_type": "markdown",
   "metadata": {},
   "source": [
    "## json print function\n"
   ]
  },
  {
   "cell_type": "code",
   "execution_count": 70,
   "metadata": {},
   "outputs": [],
   "source": [
    "def json_print(json_object):\n",
    "    text = json.dumps(json_object, sort_keys=True, indent=4) # sort_keys=True means sort the keys in alphabetical order\n",
    "    # indent 4 means 4 spaces for each indentation\n",
    "    print(text)"
   ]
  },
  {
   "cell_type": "markdown",
   "metadata": {},
   "source": [
    "### 1. Create an API to return  body ,username based on comments id."
   ]
  },
  {
   "cell_type": "code",
   "execution_count": 75,
   "metadata": {},
   "outputs": [
    {
     "name": "stdout",
     "output_type": "stream",
     "text": [
      "{\n",
      "    \"body\": \"My goodness, how impressive!\",\n",
      "    \"username\": \"xisherwoodr\"\n",
      "}\n",
      "http://127.0.0.1:5000/comments/13\n"
     ]
    }
   ],
   "source": [
    "id=13\n",
    "response=requests.get(f'http://127.0.0.1:5000/comments/{id}')\n",
    "json_print(response.json())\n",
    "# print url\n",
    "print(response.url)\n"
   ]
  },
  {
   "cell_type": "markdown",
   "metadata": {},
   "source": [
    "### 2. Create an API to update the body of the comment into uppercase and return comment id, body and status in json format based on  comment id provided.\n",
    " "
   ]
  },
  {
   "cell_type": "code",
   "execution_count": 24,
   "metadata": {},
   "outputs": [
    {
     "name": "stdout",
     "output_type": "stream",
     "text": [
      "{\n",
      "    \"body\": \"WONDERFUL IDEAS!\",\n",
      "    \"id\": 10,\n",
      "    \"status\": \"updated\"\n",
      "}\n"
     ]
    }
   ],
   "source": [
    "id=10\n",
    "response=requests.put(f'http://127.0.0.1:5000/comments/{id}')\n",
    "json_print(response.json())"
   ]
  },
  {
   "cell_type": "markdown",
   "metadata": {},
   "source": [
    "### 3. Create an API that delete record and return response message based on comment id.\n"
   ]
  },
  {
   "cell_type": "code",
   "execution_count": 60,
   "metadata": {},
   "outputs": [
    {
     "name": "stdout",
     "output_type": "stream",
     "text": [
      "{\n",
      "    \"message\": \"No comment found!\"\n",
      "}\n"
     ]
    }
   ],
   "source": [
    "id=40\n",
    "response=requests.delete(f'http://127.0.0.1:5000/comments/{id}')\n",
    "json_print(response.json())"
   ]
  },
  {
   "cell_type": "markdown",
   "metadata": {},
   "source": [
    "###  4. Create an API to insert new record and display response message along with data that has been inserted. "
   ]
  },
  {
   "cell_type": "code",
   "execution_count": 68,
   "metadata": {},
   "outputs": [
    {
     "name": "stdout",
     "output_type": "stream",
     "text": [
      "http://127.0.0.1:5000/comments/46/45%20This%20is%20a%20new%20comment/999/1000/who%20are%20you\n",
      "200\n",
      "{\n",
      "    \"message\": \"Comment added sucessfully \"\n",
      "}\n"
     ]
    }
   ],
   "source": [
    "# http://127.0.0.1:5000/comments/int:id/string:body/int:postId/int:u_Id/string:username\n",
    "# parameters={ 'id': 40, 'body': 'This is a new comment', 'postId': 999, 'u_id': 1000, 'username': 'Amright' }\n",
    "# response=requests.post('http://127.0.0.1:5000/comments', params=parameters)\n",
    "\n",
    "parameters={ 'id': 46, 'body': '45 This is a new comment', 'postId': 999, 'u_id': 1000, 'username': 'who are you' }\n",
    "response=requests.post('http://127.0.0.1:5000/comments/{}/{}/{}/{}/{}'.format(parameters['id'], parameters['body'], parameters['postId'], parameters['u_id'], parameters['username']))\n",
    "print(response.url)\n",
    "print(response.status_code)\n",
    "json_print(response.json())"
   ]
  },
  {
   "cell_type": "markdown",
   "metadata": {},
   "source": [
    "### 5. Create an API that returns count of comments along with username and status in JSON format.\n"
   ]
  },
  {
   "cell_type": "code",
   "execution_count": null,
   "metadata": {},
   "outputs": [],
   "source": []
  },
  {
   "cell_type": "markdown",
   "metadata": {},
   "source": [
    "### 6. Find any external API besides that given in the assignment. Retrieve the data from that api with the GET operation,, clean the data and load it in your local as \"example.json\" file. Finally, perform all crud operations in that data.\n"
   ]
  },
  {
   "cell_type": "code",
   "execution_count": null,
   "metadata": {},
   "outputs": [],
   "source": []
  }
 ],
 "metadata": {
  "kernelspec": {
   "display_name": "Python 3.10.7 ('fuseenv': venv)",
   "language": "python",
   "name": "python3"
  },
  "language_info": {
   "codemirror_mode": {
    "name": "ipython",
    "version": 3
   },
   "file_extension": ".py",
   "mimetype": "text/x-python",
   "name": "python",
   "nbconvert_exporter": "python",
   "pygments_lexer": "ipython3",
   "version": "3.10.7"
  },
  "orig_nbformat": 4,
  "vscode": {
   "interpreter": {
    "hash": "69f0e7c2f68833cab2413a38a7ab4cd36a562471866a82103712b58ddc6e4e9a"
   }
  }
 },
 "nbformat": 4,
 "nbformat_minor": 2
}
