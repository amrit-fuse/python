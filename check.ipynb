{
 "cells": [
  {
   "cell_type": "markdown",
   "metadata": {},
   "source": [
    "# Imports"
   ]
  },
  {
   "cell_type": "code",
   "execution_count": 2,
   "metadata": {},
   "outputs": [],
   "source": [
    "import json\n",
    "import requests"
   ]
  },
  {
   "cell_type": "markdown",
   "metadata": {},
   "source": [
    "## json print function\n"
   ]
  },
  {
   "cell_type": "code",
   "execution_count": 3,
   "metadata": {},
   "outputs": [],
   "source": [
    "def json_print(json_object):\n",
    "    text = json.dumps(json_object, sort_keys=True, indent=4) # sort_keys=True means sort the keys in alphabetical order\n",
    "    # indent 4 means 4 spaces for each indentation\n",
    "    print(text)"
   ]
  },
  {
   "cell_type": "markdown",
   "metadata": {},
   "source": [
    "### 1. Create an API to return  body ,username based on comments id."
   ]
  },
  {
   "cell_type": "code",
   "execution_count": 14,
   "metadata": {},
   "outputs": [
    {
     "name": "stdout",
     "output_type": "stream",
     "text": [
      "http://127.0.0.1:5000/comments?id=11\n",
      "{\n",
      "    \"body\": \"It was a pleasure to grade this!\",\n",
      "    \"username\": \"rstrettle1v\"\n",
      "}\n"
     ]
    }
   ],
   "source": [
    "parameters={'id': 11}\n",
    "response=requests.get('http://127.0.0.1:5000/comments', params=parameters)\n",
    "print(response.url)\n",
    "json_print(response.json())\n"
   ]
  },
  {
   "cell_type": "markdown",
   "metadata": {},
   "source": [
    "### 2. Create an API to update the body of the comment into uppercase and return comment id, body and status in json format based on  comment id provided.\n",
    " "
   ]
  },
  {
   "cell_type": "code",
   "execution_count": 33,
   "metadata": {},
   "outputs": [
    {
     "name": "stdout",
     "output_type": "stream",
     "text": [
      "http://127.0.0.1:5000/update?id=10\n",
      "{\n",
      "    \"body\": \"WONDERFUL IDEAS!\",\n",
      "    \"id\": 10,\n",
      "    \"status\": \"updated\"\n",
      "}\n"
     ]
    }
   ],
   "source": [
    "parameters={'id':10}\n",
    "response=requests.put(f'http://127.0.0.1:5000/update', params=parameters)\n",
    "print(response.url)\n",
    "json_print(response.json())"
   ]
  },
  {
   "cell_type": "markdown",
   "metadata": {},
   "source": [
    "### 3. Create an API that delete record and return response message based on comment id.\n"
   ]
  },
  {
   "cell_type": "code",
   "execution_count": 62,
   "metadata": {},
   "outputs": [
    {
     "name": "stdout",
     "output_type": "stream",
     "text": [
      "http://127.0.0.1:5000/delete?id=16\n"
     ]
    },
    {
     "ename": "JSONDecodeError",
     "evalue": "Expecting value: line 1 column 1 (char 0)",
     "output_type": "error",
     "traceback": [
      "\u001b[1;31m---------------------------------------------------------------------------\u001b[0m",
      "\u001b[1;31mJSONDecodeError\u001b[0m                           Traceback (most recent call last)",
      "File \u001b[1;32me:\\Fusemachines GIT\\python\\fuseenv\\lib\\site-packages\\requests\\models.py:971\u001b[0m, in \u001b[0;36mResponse.json\u001b[1;34m(self, **kwargs)\u001b[0m\n\u001b[0;32m    970\u001b[0m \u001b[39mtry\u001b[39;00m:\n\u001b[1;32m--> 971\u001b[0m     \u001b[39mreturn\u001b[39;00m complexjson\u001b[39m.\u001b[39mloads(\u001b[39mself\u001b[39m\u001b[39m.\u001b[39mtext, \u001b[39m*\u001b[39m\u001b[39m*\u001b[39mkwargs)\n\u001b[0;32m    972\u001b[0m \u001b[39mexcept\u001b[39;00m JSONDecodeError \u001b[39mas\u001b[39;00m e:\n\u001b[0;32m    973\u001b[0m     \u001b[39m# Catch JSON-related errors and raise as requests.JSONDecodeError\u001b[39;00m\n\u001b[0;32m    974\u001b[0m     \u001b[39m# This aliases json.JSONDecodeError and simplejson.JSONDecodeError\u001b[39;00m\n",
      "File \u001b[1;32mC:\\Program Files\\WindowsApps\\PythonSoftwareFoundation.Python.3.10_3.10.2032.0_x64__qbz5n2kfra8p0\\lib\\json\\__init__.py:346\u001b[0m, in \u001b[0;36mloads\u001b[1;34m(s, cls, object_hook, parse_float, parse_int, parse_constant, object_pairs_hook, **kw)\u001b[0m\n\u001b[0;32m    343\u001b[0m \u001b[39mif\u001b[39;00m (\u001b[39mcls\u001b[39m \u001b[39mis\u001b[39;00m \u001b[39mNone\u001b[39;00m \u001b[39mand\u001b[39;00m object_hook \u001b[39mis\u001b[39;00m \u001b[39mNone\u001b[39;00m \u001b[39mand\u001b[39;00m\n\u001b[0;32m    344\u001b[0m         parse_int \u001b[39mis\u001b[39;00m \u001b[39mNone\u001b[39;00m \u001b[39mand\u001b[39;00m parse_float \u001b[39mis\u001b[39;00m \u001b[39mNone\u001b[39;00m \u001b[39mand\u001b[39;00m\n\u001b[0;32m    345\u001b[0m         parse_constant \u001b[39mis\u001b[39;00m \u001b[39mNone\u001b[39;00m \u001b[39mand\u001b[39;00m object_pairs_hook \u001b[39mis\u001b[39;00m \u001b[39mNone\u001b[39;00m \u001b[39mand\u001b[39;00m \u001b[39mnot\u001b[39;00m kw):\n\u001b[1;32m--> 346\u001b[0m     \u001b[39mreturn\u001b[39;00m _default_decoder\u001b[39m.\u001b[39;49mdecode(s)\n\u001b[0;32m    347\u001b[0m \u001b[39mif\u001b[39;00m \u001b[39mcls\u001b[39m \u001b[39mis\u001b[39;00m \u001b[39mNone\u001b[39;00m:\n",
      "File \u001b[1;32mC:\\Program Files\\WindowsApps\\PythonSoftwareFoundation.Python.3.10_3.10.2032.0_x64__qbz5n2kfra8p0\\lib\\json\\decoder.py:337\u001b[0m, in \u001b[0;36mJSONDecoder.decode\u001b[1;34m(self, s, _w)\u001b[0m\n\u001b[0;32m    333\u001b[0m \u001b[39m\"\"\"Return the Python representation of ``s`` (a ``str`` instance\u001b[39;00m\n\u001b[0;32m    334\u001b[0m \u001b[39mcontaining a JSON document).\u001b[39;00m\n\u001b[0;32m    335\u001b[0m \n\u001b[0;32m    336\u001b[0m \u001b[39m\"\"\"\u001b[39;00m\n\u001b[1;32m--> 337\u001b[0m obj, end \u001b[39m=\u001b[39m \u001b[39mself\u001b[39;49m\u001b[39m.\u001b[39;49mraw_decode(s, idx\u001b[39m=\u001b[39;49m_w(s, \u001b[39m0\u001b[39;49m)\u001b[39m.\u001b[39;49mend())\n\u001b[0;32m    338\u001b[0m end \u001b[39m=\u001b[39m _w(s, end)\u001b[39m.\u001b[39mend()\n",
      "File \u001b[1;32mC:\\Program Files\\WindowsApps\\PythonSoftwareFoundation.Python.3.10_3.10.2032.0_x64__qbz5n2kfra8p0\\lib\\json\\decoder.py:355\u001b[0m, in \u001b[0;36mJSONDecoder.raw_decode\u001b[1;34m(self, s, idx)\u001b[0m\n\u001b[0;32m    354\u001b[0m \u001b[39mexcept\u001b[39;00m \u001b[39mStopIteration\u001b[39;00m \u001b[39mas\u001b[39;00m err:\n\u001b[1;32m--> 355\u001b[0m     \u001b[39mraise\u001b[39;00m JSONDecodeError(\u001b[39m\"\u001b[39m\u001b[39mExpecting value\u001b[39m\u001b[39m\"\u001b[39m, s, err\u001b[39m.\u001b[39mvalue) \u001b[39mfrom\u001b[39;00m \u001b[39mNone\u001b[39m\n\u001b[0;32m    356\u001b[0m \u001b[39mreturn\u001b[39;00m obj, end\n",
      "\u001b[1;31mJSONDecodeError\u001b[0m: Expecting value: line 1 column 1 (char 0)",
      "\nDuring handling of the above exception, another exception occurred:\n",
      "\u001b[1;31mJSONDecodeError\u001b[0m                           Traceback (most recent call last)",
      "\u001b[1;32me:\\Fusemachines GIT\\python\\check.ipynb Cell 10\u001b[0m in \u001b[0;36m<cell line: 4>\u001b[1;34m()\u001b[0m\n\u001b[0;32m      <a href='vscode-notebook-cell:/e%3A/Fusemachines%20GIT/python/check.ipynb#X12sZmlsZQ%3D%3D?line=1'>2</a>\u001b[0m response\u001b[39m=\u001b[39mrequests\u001b[39m.\u001b[39mdelete(\u001b[39m'\u001b[39m\u001b[39mhttp://127.0.0.1:5000/delete\u001b[39m\u001b[39m'\u001b[39m, params\u001b[39m=\u001b[39mparameters)\n\u001b[0;32m      <a href='vscode-notebook-cell:/e%3A/Fusemachines%20GIT/python/check.ipynb#X12sZmlsZQ%3D%3D?line=2'>3</a>\u001b[0m \u001b[39mprint\u001b[39m(response\u001b[39m.\u001b[39murl)\n\u001b[1;32m----> <a href='vscode-notebook-cell:/e%3A/Fusemachines%20GIT/python/check.ipynb#X12sZmlsZQ%3D%3D?line=3'>4</a>\u001b[0m json_print(response\u001b[39m.\u001b[39;49mjson())\n",
      "File \u001b[1;32me:\\Fusemachines GIT\\python\\fuseenv\\lib\\site-packages\\requests\\models.py:975\u001b[0m, in \u001b[0;36mResponse.json\u001b[1;34m(self, **kwargs)\u001b[0m\n\u001b[0;32m    971\u001b[0m     \u001b[39mreturn\u001b[39;00m complexjson\u001b[39m.\u001b[39mloads(\u001b[39mself\u001b[39m\u001b[39m.\u001b[39mtext, \u001b[39m*\u001b[39m\u001b[39m*\u001b[39mkwargs)\n\u001b[0;32m    972\u001b[0m \u001b[39mexcept\u001b[39;00m JSONDecodeError \u001b[39mas\u001b[39;00m e:\n\u001b[0;32m    973\u001b[0m     \u001b[39m# Catch JSON-related errors and raise as requests.JSONDecodeError\u001b[39;00m\n\u001b[0;32m    974\u001b[0m     \u001b[39m# This aliases json.JSONDecodeError and simplejson.JSONDecodeError\u001b[39;00m\n\u001b[1;32m--> 975\u001b[0m     \u001b[39mraise\u001b[39;00m RequestsJSONDecodeError(e\u001b[39m.\u001b[39mmsg, e\u001b[39m.\u001b[39mdoc, e\u001b[39m.\u001b[39mpos)\n",
      "\u001b[1;31mJSONDecodeError\u001b[0m: Expecting value: line 1 column 1 (char 0)"
     ]
    }
   ],
   "source": [
    "parameters={'id': 16}\n",
    "response=requests.delete('http://127.0.0.1:5000/delete', params=parameters)\n",
    "print(response.url)\n",
    "json_print(response.json())"
   ]
  },
  {
   "cell_type": "markdown",
   "metadata": {},
   "source": [
    "###  4. Create an API to insert new record and display response message along with data that has been inserted. "
   ]
  },
  {
   "cell_type": "code",
   "execution_count": 39,
   "metadata": {},
   "outputs": [
    {
     "name": "stdout",
     "output_type": "stream",
     "text": [
      "http://127.0.0.1:5000/insert?id=50&body=This+is+a+new+comment&post_id=999&user_id=1000&username=Am+I+Right%3F\n",
      "200\n",
      "{\n",
      "    \"message\": \"comment already exist! with id = 50\"\n",
      "}\n"
     ]
    }
   ],
   "source": [
    "parameters={ 'id': 50, 'body': 'This is a new comment', 'post_id': 999, 'user_id': 1000, 'username': 'Am I Right?' }\n",
    "response=requests.post('http://127.0.0.1:5000/insert', params=parameters)\n",
    "print(response.url)\n",
    "print(response.status_code)\n",
    "json_print(response.json())"
   ]
  },
  {
   "cell_type": "markdown",
   "metadata": {},
   "source": [
    "### 5. Create an API that returns count of comments along with username and status in JSON format.\n"
   ]
  },
  {
   "cell_type": "code",
   "execution_count": 30,
   "metadata": {},
   "outputs": [
    {
     "name": "stdout",
     "output_type": "stream",
     "text": [
      "http://127.0.0.1:5000/count\n",
      "{\n",
      "    \"Am I Right?\": 1,\n",
      "    \"Am I right \": 3,\n",
      "    \"ahinckes21\": 1,\n",
      "    \"bleveragei\": 1,\n",
      "    \"bpickering1k\": 1,\n",
      "    \"cdavydochkin2o\": 1,\n",
      "    \"cgaber23\": 1,\n",
      "    \"cmasurel1x\": 1,\n",
      "    \"dalmondz\": 1,\n",
      "    \"dbuist25\": 1,\n",
      "    \"dlambarth1n\": 1,\n",
      "    \"dpierrof\": 1,\n",
      "    \"eburras1q\": 1,\n",
      "    \"froachel\": 1,\n",
      "    \"kdulyt\": 1,\n",
      "    \"kmeus4\": 1,\n",
      "    \"kogilvy29\": 2,\n",
      "    \"kpondjones2c\": 1,\n",
      "    \"mbrooksbanky\": 1,\n",
      "    \"mturleyd\": 1,\n",
      "    \"nwytchard10\": 1,\n",
      "    \"omarsland1y\": 1,\n",
      "    \"pcumbes2r\": 1,\n",
      "    \"smargiottau\": 3,\n",
      "    \"vcholdcroftg\": 1,\n",
      "    \"who are you\": 2,\n",
      "    \"xisherwoodr\": 1\n",
      "}\n"
     ]
    }
   ],
   "source": [
    "response=requests.get('http://127.0.0.1:5000/count')\n",
    "print(response.url)\n",
    "json_print(response.json())\n"
   ]
  },
  {
   "cell_type": "markdown",
   "metadata": {},
   "source": [
    "### 6. Find any external API besides that given in the assignment. Retrieve the data from that api with the GET operation,, clean the data and load it in your local as \"example.json\" file. Finally, perform all crud operations in that data.\n"
   ]
  },
  {
   "cell_type": "markdown",
   "metadata": {},
   "source": [
    "Read more about the  Art institute of Chicago API here: https://api.artic.edu/docs/#quick-start "
   ]
  },
  {
   "cell_type": "markdown",
   "metadata": {},
   "source": [
    "acquire jason and save it as example.json"
   ]
  },
  {
   "cell_type": "code",
   "execution_count": 74,
   "metadata": {},
   "outputs": [
    {
     "name": "stdout",
     "output_type": "stream",
     "text": [
      "200\n"
     ]
    }
   ],
   "source": [
    "response=requests.get('https://api.artic.edu/api/v1/artworks?fields=id,title,date_display&limit=5')\n",
    "print(response.status_code)\n",
    "# json_print(response.json())\n",
    "# save to example.json file\n",
    "with open('example.json', 'w') as f:\n",
    "    json.dump(response.json(), f, indent=4) # indent 4 means 4 spaces for each indentation\n"
   ]
  },
  {
   "cell_type": "markdown",
   "metadata": {},
   "source": [
    "Get the date of display and title of the art work with given id"
   ]
  },
  {
   "cell_type": "code",
   "execution_count": 75,
   "metadata": {},
   "outputs": [
    {
     "name": "stdout",
     "output_type": "stream",
     "text": [
      "http://127.0.0.1:5000/art?id=18759\n",
      "{\n",
      "    \"date_diaplay\": \"19th to early 20th century\",\n",
      "    \"id\": 18759,\n",
      "    \"title\": \"Helmet Mask (Kponyungo)\"\n",
      "}\n"
     ]
    }
   ],
   "source": [
    "parameters={'id': 18759}\n",
    "response=requests.get('http://127.0.0.1:5000/art', params=parameters)\n",
    "print(response.url)\n",
    "json_print(response.json())"
   ]
  },
  {
   "cell_type": "markdown",
   "metadata": {},
   "source": [
    "Update the title of the art work for given id"
   ]
  },
  {
   "cell_type": "code",
   "execution_count": 76,
   "metadata": {},
   "outputs": [
    {
     "name": "stdout",
     "output_type": "stream",
     "text": [
      "http://127.0.0.1:5000/update?id=18759\n",
      "{\n",
      "    \"date_diaplay\": \"19th to early 20th century\",\n",
      "    \"id\": 18759,\n",
      "    \"title\": \"HELMET MASK (KPONYUNGO)\"\n",
      "}\n"
     ]
    }
   ],
   "source": [
    "parameters={'id': 18759}\n",
    "response=requests.put('http://127.0.0.1:5000/update', params=parameters)\n",
    "print(response.url)\n",
    "json_print(response.json())\n"
   ]
  },
  {
   "cell_type": "markdown",
   "metadata": {},
   "source": [
    "Delete the art work with given id"
   ]
  },
  {
   "cell_type": "code",
   "execution_count": 79,
   "metadata": {},
   "outputs": [
    {
     "name": "stdout",
     "output_type": "stream",
     "text": [
      "http://127.0.0.1:5000/delete?id=18759\n",
      "{\n",
      "    \"message\": \"No art found! with  id = 18759\"\n",
      "}\n"
     ]
    }
   ],
   "source": [
    "parameters={'id': 18759}\n",
    "response=requests.delete('http://127.0.0.1:5000/delete', params=parameters)\n",
    "print(response.url)\n",
    "json_print(response.json())\n"
   ]
  },
  {
   "cell_type": "markdown",
   "metadata": {},
   "source": [
    "create /insert new art work with given id , title and date of display"
   ]
  },
  {
   "cell_type": "code",
   "execution_count": 81,
   "metadata": {},
   "outputs": [
    {
     "name": "stdout",
     "output_type": "stream",
     "text": [
      "http://127.0.0.1:5000/create?id=7&title=Bond+james+Bond&date_display=2020\n",
      "{\n",
      "    \"date_diaplay\": \"2020\",\n",
      "    \"id\": 7,\n",
      "    \"title\": \"Bond james Bond\"\n",
      "}\n"
     ]
    }
   ],
   "source": [
    "parameters={'id': 7, 'title': 'Bond james Bond', 'date_display': '2020'}\n",
    "response=requests.post('http://127.0.0.1:5000/create', params=parameters)\n",
    "print(response.url)\n",
    "json_print(response.json())\n"
   ]
  },
  {
   "cell_type": "code",
   "execution_count": null,
   "metadata": {},
   "outputs": [],
   "source": []
  }
 ],
 "metadata": {
  "kernelspec": {
   "display_name": "Python 3.10.7 ('fuseenv': venv)",
   "language": "python",
   "name": "python3"
  },
  "language_info": {
   "codemirror_mode": {
    "name": "ipython",
    "version": 3
   },
   "file_extension": ".py",
   "mimetype": "text/x-python",
   "name": "python",
   "nbconvert_exporter": "python",
   "pygments_lexer": "ipython3",
   "version": "3.10.7"
  },
  "orig_nbformat": 4,
  "vscode": {
   "interpreter": {
    "hash": "235ff4895111486f0fa3900be5e4aea032cfb3f81c83401085e31d72be069099"
   }
  }
 },
 "nbformat": 4,
 "nbformat_minor": 2
}
