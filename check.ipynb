{
 "cells": [
  {
   "cell_type": "markdown",
   "metadata": {},
   "source": [
    "# Imports"
   ]
  },
  {
   "cell_type": "code",
   "execution_count": 1,
   "metadata": {},
   "outputs": [],
   "source": [
    "import json\n",
    "import requests"
   ]
  },
  {
   "cell_type": "markdown",
   "metadata": {},
   "source": [
    "## json print function\n"
   ]
  },
  {
   "cell_type": "code",
   "execution_count": 2,
   "metadata": {},
   "outputs": [],
   "source": [
    "def json_print(json_object):\n",
    "    text = json.dumps(json_object, sort_keys=True, indent=4) # sort_keys=True means sort the keys in alphabetical order\n",
    "    # indent 4 means 4 spaces for each indentation\n",
    "    print(text)"
   ]
  },
  {
   "cell_type": "markdown",
   "metadata": {},
   "source": [
    "### 1. Create an API to return  body ,username based on comments id."
   ]
  },
  {
   "cell_type": "code",
   "execution_count": 3,
   "metadata": {},
   "outputs": [
    {
     "name": "stdout",
     "output_type": "stream",
     "text": [
      "http://127.0.0.1:5000/comments?id=11\n",
      "{\n",
      "    \"body\": \"It was a pleasure to grade this!\",\n",
      "    \"username\": \"rstrettle1v\"\n",
      "}\n"
     ]
    }
   ],
   "source": [
    "parameters={'id': 11}\n",
    "response=requests.get('http://127.0.0.1:5000/comments', params=parameters)\n",
    "print(response.url)\n",
    "json_print(response.json())\n"
   ]
  },
  {
   "cell_type": "markdown",
   "metadata": {},
   "source": [
    "### 2. Create an API to update the body of the comment into uppercase and return comment id, body and status in json format based on  comment id provided.\n",
    " "
   ]
  },
  {
   "cell_type": "code",
   "execution_count": 4,
   "metadata": {},
   "outputs": [
    {
     "name": "stdout",
     "output_type": "stream",
     "text": [
      "http://127.0.0.1:5000/update?id=10\n",
      "{\n",
      "    \"body\": \"WONDERFUL IDEAS!\",\n",
      "    \"id\": 10,\n",
      "    \"status\": \"updated\"\n",
      "}\n"
     ]
    }
   ],
   "source": [
    "parameters={'id':10}\n",
    "response=requests.put(f'http://127.0.0.1:5000/update', params=parameters)\n",
    "print(response.url)\n",
    "json_print(response.json())"
   ]
  },
  {
   "cell_type": "markdown",
   "metadata": {},
   "source": [
    "### 3. Create an API that delete record and return response message based on comment id.\n"
   ]
  },
  {
   "cell_type": "code",
   "execution_count": 5,
   "metadata": {},
   "outputs": [
    {
     "name": "stdout",
     "output_type": "stream",
     "text": [
      "http://127.0.0.1:5000/delete?id=16\n",
      "{\n",
      "    \"message\": \"comment deleted! with id = 16\"\n",
      "}\n"
     ]
    }
   ],
   "source": [
    "parameters={'id': 16}\n",
    "response=requests.delete('http://127.0.0.1:5000/delete', params=parameters)\n",
    "print(response.url)\n",
    "json_print(response.json())"
   ]
  },
  {
   "cell_type": "markdown",
   "metadata": {},
   "source": [
    "###  4. Create an API to insert new record and display response message along with data that has been inserted. "
   ]
  },
  {
   "cell_type": "code",
   "execution_count": 6,
   "metadata": {},
   "outputs": [
    {
     "name": "stdout",
     "output_type": "stream",
     "text": [
      "http://127.0.0.1:5000/insert?id=50&body=This+is+a+new+comment&post_id=999&user_id=1000&username=Am+I+Right%3F\n",
      "200\n",
      "{\n",
      "    \"message\": \"comment inserted! with id = 50\"\n",
      "}\n"
     ]
    }
   ],
   "source": [
    "parameters={ 'id': 50, 'body': 'This is a new comment', 'post_id': 999, 'user_id': 1000, 'username': 'Am I Right?' }\n",
    "response=requests.post('http://127.0.0.1:5000/insert', params=parameters)\n",
    "print(response.url)\n",
    "print(response.status_code)\n",
    "json_print(response.json())"
   ]
  },
  {
   "cell_type": "markdown",
   "metadata": {},
   "source": [
    "### 5. Create an API that returns count of comments along with username and status in JSON format.\n"
   ]
  },
  {
   "cell_type": "code",
   "execution_count": 7,
   "metadata": {},
   "outputs": [
    {
     "name": "stdout",
     "output_type": "stream",
     "text": [
      "http://127.0.0.1:5000/count\n",
      "{\n",
      "    \"Am I Right?\": 1,\n",
      "    \"ahinckes21\": 1,\n",
      "    \"bleveragei\": 1,\n",
      "    \"bpickering1k\": 1,\n",
      "    \"cdavydochkin2o\": 1,\n",
      "    \"cgaber23\": 1,\n",
      "    \"cmasurel1x\": 1,\n",
      "    \"dalmondz\": 1,\n",
      "    \"dbuist25\": 1,\n",
      "    \"dlambarth1n\": 1,\n",
      "    \"dpierrof\": 1,\n",
      "    \"eburras1q\": 1,\n",
      "    \"froachel\": 1,\n",
      "    \"jissetts\": 1,\n",
      "    \"kdulyt\": 1,\n",
      "    \"kmeus4\": 1,\n",
      "    \"kogilvy29\": 2,\n",
      "    \"kpondjones2c\": 1,\n",
      "    \"mbrooksbanky\": 1,\n",
      "    \"mturleyd\": 1,\n",
      "    \"nwytchard10\": 1,\n",
      "    \"omarsland1y\": 1,\n",
      "    \"rkingswood24\": 1,\n",
      "    \"rstrettle1v\": 1,\n",
      "    \"smargiottau\": 3,\n",
      "    \"vcholdcroftg\": 1,\n",
      "    \"xisherwoodr\": 1\n",
      "}\n"
     ]
    }
   ],
   "source": [
    "response=requests.get('http://127.0.0.1:5000/count')\n",
    "print(response.url)\n",
    "json_print(response.json())\n"
   ]
  },
  {
   "cell_type": "markdown",
   "metadata": {},
   "source": [
    "### 6. Find any external API besides that given in the assignment. Retrieve the data from that api with the GET operation,, clean the data and load it in your local as \"example.json\" file. Finally, perform all crud operations in that data.\n"
   ]
  },
  {
   "cell_type": "markdown",
   "metadata": {},
   "source": [
    "Read more about the  Art institute of Chicago API here: https://api.artic.edu/docs/#quick-start "
   ]
  },
  {
   "cell_type": "markdown",
   "metadata": {},
   "source": [
    "acquire jason and save it as example.json"
   ]
  },
  {
   "cell_type": "code",
   "execution_count": 8,
   "metadata": {},
   "outputs": [
    {
     "name": "stdout",
     "output_type": "stream",
     "text": [
      "200\n"
     ]
    }
   ],
   "source": [
    "response=requests.get('https://api.artic.edu/api/v1/artworks?fields=id,title,date_display&limit=5')\n",
    "print(response.status_code)\n",
    "# json_print(response.json())\n",
    "# save to example.json file\n",
    "with open('example.json', 'w') as f:\n",
    "    json.dump(response.json(), f, indent=4) # indent 4 means 4 spaces for each indentation\n"
   ]
  },
  {
   "cell_type": "markdown",
   "metadata": {},
   "source": [
    "Get the date of display and title of the art work with given id"
   ]
  },
  {
   "cell_type": "code",
   "execution_count": 15,
   "metadata": {},
   "outputs": [
    {
     "name": "stdout",
     "output_type": "stream",
     "text": [
      "http://127.0.0.1:5000/art?id=207100\n",
      "{\n",
      "    \"date_diaplay\": \"1969\",\n",
      "    \"id\": 207100,\n",
      "    \"title\": \"Untitled, from Portfolio from the School of the Art Institute of Chicago\"\n",
      "}\n"
     ]
    }
   ],
   "source": [
    "parameters={'id': 207100}\n",
    "response=requests.get('http://127.0.0.1:5000/art', params=parameters)\n",
    "print(response.url)\n",
    "json_print(response.json())"
   ]
  },
  {
   "cell_type": "markdown",
   "metadata": {},
   "source": [
    "Update the title of the art work for given id"
   ]
  },
  {
   "cell_type": "code",
   "execution_count": 16,
   "metadata": {},
   "outputs": [
    {
     "name": "stdout",
     "output_type": "stream",
     "text": [
      "http://127.0.0.1:5000/update?id=207100\n",
      "{\n",
      "    \"date_diaplay\": \"1969\",\n",
      "    \"id\": 207100,\n",
      "    \"title\": \"UNTITLED, FROM PORTFOLIO FROM THE SCHOOL OF THE ART INSTITUTE OF CHICAGO\"\n",
      "}\n"
     ]
    }
   ],
   "source": [
    "parameters={'id': 207100}\n",
    "response=requests.put('http://127.0.0.1:5000/update', params=parameters)\n",
    "print(response.url)\n",
    "json_print(response.json())\n"
   ]
  },
  {
   "cell_type": "markdown",
   "metadata": {},
   "source": [
    "Delete the art work with given id"
   ]
  },
  {
   "cell_type": "code",
   "execution_count": 17,
   "metadata": {},
   "outputs": [
    {
     "name": "stdout",
     "output_type": "stream",
     "text": [
      "http://127.0.0.1:5000/delete?id=198538\n",
      "{\n",
      "    \"message\": \"Art with id = 198538 deleted!\"\n",
      "}\n"
     ]
    }
   ],
   "source": [
    "parameters={'id': 198538}\n",
    "response=requests.delete('http://127.0.0.1:5000/delete', params=parameters)\n",
    "print(response.url)\n",
    "json_print(response.json())\n"
   ]
  },
  {
   "cell_type": "markdown",
   "metadata": {},
   "source": [
    "create /insert new art work with given id , title and date of display"
   ]
  },
  {
   "cell_type": "code",
   "execution_count": 21,
   "metadata": {},
   "outputs": [
    {
     "name": "stdout",
     "output_type": "stream",
     "text": [
      "http://127.0.0.1:5000/create?id=7&title=Bond+james+Bond&date_display=2020\n",
      "{\n",
      "    \"date_display\": \"2020\",\n",
      "    \"id\": 7,\n",
      "    \"title\": \"Bond james Bond\"\n",
      "}\n"
     ]
    }
   ],
   "source": [
    "parameters={'id': 7, 'title': 'Bond james Bond', 'date_display': '2020'}\n",
    "response=requests.post('http://127.0.0.1:5000/create', params=parameters)\n",
    "print(response.url)\n",
    "json_print(response.json())\n"
   ]
  },
  {
   "cell_type": "code",
   "execution_count": null,
   "metadata": {},
   "outputs": [],
   "source": []
  }
 ],
 "metadata": {
  "kernelspec": {
   "display_name": "Python 3.10.7 ('fuseenv': venv)",
   "language": "python",
   "name": "python3"
  },
  "language_info": {
   "codemirror_mode": {
    "name": "ipython",
    "version": 3
   },
   "file_extension": ".py",
   "mimetype": "text/x-python",
   "name": "python",
   "nbconvert_exporter": "python",
   "pygments_lexer": "ipython3",
   "version": "3.10.7"
  },
  "orig_nbformat": 4,
  "vscode": {
   "interpreter": {
    "hash": "235ff4895111486f0fa3900be5e4aea032cfb3f81c83401085e31d72be069099"
   }
  }
 },
 "nbformat": 4,
 "nbformat_minor": 2
}
