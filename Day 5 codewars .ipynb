{
 "cells": [
  {
   "cell_type": "markdown",
   "metadata": {},
   "source": [
    "## Multiples of 3 or 5 (6 kyu)"
   ]
  },
  {
   "cell_type": "code",
   "execution_count": 4,
   "metadata": {},
   "outputs": [
    {
     "name": "stdout",
     "output_type": "stream",
     "text": [
      "60\n"
     ]
    }
   ],
   "source": [
    "def solution(number): # number is an integer  (supplied by user)\n",
    "    if number < 0: # if number is negative, return 0\n",
    "        return 0\n",
    "    else:\n",
    "        return sum([x for x in range(number) if x % 3 == 0 or x % 5 == 0]) # sum of all numbers divisible by 3 or 5 below number (supplied by user) \n",
    "\n",
    "# Test\n",
    "print(solution(16)) \n"
   ]
  },
  {
   "cell_type": "markdown",
   "metadata": {},
   "source": [
    "## Moving Zeros To The End (5 kyu)"
   ]
  },
  {
   "cell_type": "code",
   "execution_count": 7,
   "metadata": {},
   "outputs": [
    {
     "name": "stdout",
     "output_type": "stream",
     "text": [
      "[9, 9, 1, 2, 1, 1, 3, 1, 9, 9, 0, 0, 0, 0, 0, 0, 0, 0, 0, 0]\n"
     ]
    }
   ],
   "source": [
    "def move_zeros(lst): # lst is a list (supplied by user)\n",
    "    for i in lst:\n",
    "        if i == 0:\n",
    "            lst.remove(i) # remove all zeros from list \n",
    "            lst.append(i) # add zeros to end of list \n",
    "    return lst # return list with zeros at end\n",
    "\n",
    "# Test\n",
    "l1=[9, 0, 0, 9, 1, 2, 0, 1, 0, 1, 0, 3, 0, 1, 9, 0, 0, 0, 0, 9]\n",
    "print(move_zeros(l1))\n"
   ]
  },
  {
   "cell_type": "markdown",
   "metadata": {},
   "source": [
    "## Range extraction (4 kyu)"
   ]
  },
  {
   "cell_type": "code",
   "execution_count": 23,
   "metadata": {},
   "outputs": [
    {
     "data": {
      "text/plain": [
       "'-6,-3-1,3-5,7-11,14,15,17-20'"
      ]
     },
     "execution_count": 23,
     "metadata": {},
     "output_type": "execute_result"
    }
   ],
   "source": [
    "\n",
    "# Range extraction (codewars)\n",
    "def solution(args):\n",
    "    out = [] # empty list\n",
    "    i = 0\n",
    "    while i < len(args): # while i is less than length of args\n",
    "        start = args[i]\n",
    "        while i < len(args) - 1 and args[i] + 1 == args[i + 1]: # while i is less than length of args - 1 and args[i] + 1 is equal to args[i + 1] i.e consecutive numbers \n",
    "            i += 1 \n",
    "        if args[i] == start: # if args[i] is equal to start\n",
    "            out.append(str(start))\n",
    "        elif args[i] - start == 1: # if args[i] - start is equal to 1 # elimiinate  only two consecutive numbers\n",
    "            out.extend([str(start), str(args[i])])\n",
    "        else: \n",
    "            out.append(str(start) + '-' + str(args[i]))  # if args[i] and  start is not equal and difference is not equal to 1 then append start and args[i] to out with a dash between them \n",
    "            #acccept only 3 or more consecutive numbers\n",
    "        i += 1\n",
    "    return ','.join(out)\n",
    "\n",
    "solution([-6,-3,-2,-1,0,1,3,4,5,7,8,9,10,11,14,15,17,18,19,20])\n"
   ]
  },
  {
   "cell_type": "markdown",
   "metadata": {},
   "source": [
    "## Calculationg with Functions (5 kyu)"
   ]
  },
  {
   "cell_type": "code",
   "execution_count": 33,
   "metadata": {},
   "outputs": [
    {
     "data": {
      "text/plain": [
       "7"
      ]
     },
     "execution_count": 33,
     "metadata": {},
     "output_type": "execute_result"
    }
   ],
   "source": [
    "def zero(y = None): return 0 if y == None else y(0) # if y is equal to none return 0 else return y(0) y(0) is a function that takes 0 as an argument\n",
    "def one(y = None): return 1 if y == None else y(1) # if y is equal to none return 1 else return y(1) \n",
    "def two(y = None): return 2 if y == None else y(2) # if y is equal to none return 2 else return y(2)\n",
    "def three(y = None): return 3 if y == None else y(3) # if y is equal to none return 3 else return y(3)\n",
    "def four(y = None): return 4 if y == None else y(4) # if y is equal to none return 4 else return y(4)\n",
    "def five(y = None): return 5 if y == None else y(5) # if y is equal to none return 5 else return y(5)\n",
    "def six(y = None): return 6 if y == None else y(6) # if y is equal to none return 6 else return y(6)\n",
    "def seven(y = None): return 7 if y == None else y(7) # if y is equal to none return 7 else return y(7)\n",
    "def eight(y = None): return 8 if y == None else y(8) # if y is equal to none return 8 else return y(8)\n",
    "def nine(y = None): return 9 if y == None else y(9) # if y is equal to none return 9 else return y(9)\n",
    "\n",
    "def plus(x): return lambda y: y + x # return lambda function that takes y as an argument and returns y + x\n",
    "def minus (x): return lambda y: y - x\n",
    "def times (x): return lambda y: y * x\n",
    "def divided_by (x): return lambda y: y // x # // is integer division\n",
    "\n",
    "four (plus(three()))\n"
   ]
  },
  {
   "cell_type": "markdown",
   "metadata": {},
   "source": [
    "## memorized fibonacci (5 kyu)"
   ]
  },
  {
   "cell_type": "code",
   "execution_count": 38,
   "metadata": {},
   "outputs": [
    {
     "data": {
      "text/plain": [
       "2"
      ]
     },
     "execution_count": 38,
     "metadata": {},
     "output_type": "execute_result"
    }
   ],
   "source": [
    "#memorized fibonacci\n",
    "def fibonacci(n, memo = {}): # n is an integer (supplied by user) memo is a dictionary\n",
    "    if n in memo: # if n is in memo\n",
    "        return memo[n] # return memo[n]\n",
    "    elif n <= 2: # if n is less than or equal to 2\n",
    "        return 1 \n",
    "    else:\n",
    "        memo[n] = fibonacci(n - 1, memo) + fibonacci(n - 2, memo)  #memo is a dictionary with key n and value fibonacci(n - 1, memo) + fibonacci(n - 2, memo)\n",
    "        return memo[n]\n",
    "\n",
    "fibonacci(3)\n"
   ]
  },
  {
   "cell_type": "markdown",
   "metadata": {},
   "source": [
    "## Gap in primes (5 kyu)\n",
    "\n",
    "colunot pass the test due to execution timed out\n"
   ]
  },
  {
   "cell_type": "code",
   "execution_count": 47,
   "metadata": {},
   "outputs": [
    {
     "data": {
      "text/plain": [
       "[101, 103]"
      ]
     },
     "execution_count": 47,
     "metadata": {},
     "output_type": "execute_result"
    }
   ],
   "source": [
    "#gap in primes\n",
    "def gap(g, m, n): # g is an integer (gap)  m and n are integers  (start and end of range)\n",
    "    primes = [] # empty list\n",
    "    for i in range(m, n + 1): # for i in range m to n + 1\n",
    "        if is_prime(i): # if i is prime\n",
    "            primes.append(i) # append i to primes\n",
    "    for i in range(len(primes) - 1): # for i in range length of primes - 1\n",
    "        if primes[i + 1] - primes[i] == g: # if primes[i + 1] - primes[i] is equal to g\n",
    "            return [primes[i], primes[i + 1]] # return primes[i] and primes[i + 1]\n",
    "    return None # return none\n",
    "\n",
    "def is_prime(n):  # most efficient way to check if a number is prime  complexity is O(sqrt(n))\n",
    "    if n==1:\n",
    "        return False\n",
    "    i=2\n",
    "    while i*i<=n: \n",
    "        if n%i==0:\n",
    "            return False\n",
    "        i+=1\n",
    "    return True\n",
    "\n",
    "gap(2,100,110)\n"
   ]
  },
  {
   "cell_type": "markdown",
   "metadata": {},
   "source": [
    "## Compare version (6kyu)"
   ]
  },
  {
   "cell_type": "code",
   "execution_count": 56,
   "metadata": {},
   "outputs": [
    {
     "data": {
      "text/plain": [
       "True"
      ]
     },
     "execution_count": 56,
     "metadata": {},
     "output_type": "execute_result"
    }
   ],
   "source": [
    "def compare_versions(version1,version2): #return true or false\n",
    "    v1=version1.split('.') # split version1 at '.' and convert to integers\n",
    "    v2=version2.split('.') # split version2 at '.' and convert to integers\n",
    "    for i in range(max(len(v1),len(v2))): # for i in range max length of v1 and v2\n",
    "        if i < len(v1):\n",
    "              v1[i] = int(v1[i])     # convert v1[i] to integer\n",
    "        else:\n",
    "                v1.append(0) # append 0 to v1\n",
    "        if i < len(v2):  \n",
    "                v2[i] = int(v2[i]) \n",
    "        else:\n",
    "                v2.append(0)\n",
    "\n",
    "        if v1[i] > v2[i]:\n",
    "            return True \n",
    "        elif v1[i] < v2[i]: \n",
    "            return False \n",
    "    return True # if both versions are equal return true\n",
    "\n",
    "compare_versions('1.0.0','1.0')"
   ]
  },
  {
   "cell_type": "markdown",
   "metadata": {},
   "source": [
    "## The Hashtag Generator (5 kyu)"
   ]
  },
  {
   "cell_type": "code",
   "execution_count": 57,
   "metadata": {},
   "outputs": [
    {
     "data": {
      "text/plain": [
       "'#HelloWorld'"
      ]
     },
     "execution_count": 57,
     "metadata": {},
     "output_type": "execute_result"
    }
   ],
   "source": [
    "def generate_hashtag(s):\n",
    "    if len(s) == 0 or len(s) > 140: # if length of s is equal to 0 or length of s is greater than 140\n",
    "        return False\n",
    "    else:\n",
    "        return '#' + ''.join([word.capitalize() for word in s.split()]) # return '#' + join a list of words that are capitalized\n",
    "\n",
    "generate_hashtag('hello world')"
   ]
  }
 ],
 "metadata": {
  "kernelspec": {
   "display_name": "Python 3.10.6 ('fuseenv': venv)",
   "language": "python",
   "name": "python3"
  },
  "language_info": {
   "codemirror_mode": {
    "name": "ipython",
    "version": 3
   },
   "file_extension": ".py",
   "mimetype": "text/x-python",
   "name": "python",
   "nbconvert_exporter": "python",
   "pygments_lexer": "ipython3",
   "version": "3.10.7"
  },
  "orig_nbformat": 4,
  "vscode": {
   "interpreter": {
    "hash": "69f0e7c2f68833cab2413a38a7ab4cd36a562471866a82103712b58ddc6e4e9a"
   }
  }
 },
 "nbformat": 4,
 "nbformat_minor": 2
}
