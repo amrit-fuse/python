{
 "cells": [
  {
   "cell_type": "markdown",
   "metadata": {},
   "source": [
    "### Files"
   ]
  },
  {
   "cell_type": "code",
   "execution_count": 2,
   "metadata": {},
   "outputs": [],
   "source": [
    "#open files\n",
    "f=open(\"test.txt\",\"r\")\n",
    "\n",
    "#r is read mode and w is write mode\n",
    "#r+ is read and write mode (overwrites)\n",
    "#w is write mode (overwrites existing file or creates a new file)\n",
    "#w+ is write and read mode (overwrites existing file or creates a new file)\n",
    "#a is append mode (adds new information to the end of the file)\n",
    "#a+ is append and read mode (adds new information to the end of the file)\n",
    "\n",
    "# can additionally specify encoding too\n",
    "f=open(\"test.txt\",\"r\",encoding=\"utf-8\")\n",
    "\n",
    "\n",
    "\n"
   ]
  },
  {
   "cell_type": "code",
   "execution_count": 3,
   "metadata": {},
   "outputs": [],
   "source": [
    "#close files\n",
    "f.close()"
   ]
  },
  {
   "cell_type": "code",
   "execution_count": 13,
   "metadata": {},
   "outputs": [],
   "source": [
    "# editing /writing to files\n",
    "with open(\"test.txt\",\"w\") as f: # with automatically closes the file\n",
    "    f.write(\"This is a test string \")\n",
    "    f.write('this is not new line \\n  this is new line')\n"
   ]
  },
  {
   "cell_type": "code",
   "execution_count": 12,
   "metadata": {},
   "outputs": [
    {
     "name": "stdout",
     "output_type": "stream",
     "text": [
      "This is a test stringthis is not new line \n",
      "  this is new line\n"
     ]
    }
   ],
   "source": [
    "#reading files\n",
    "with open(\"test.txt\",\"r\") as f:\n",
    "    file_stuff=f.read()\n",
    "    print(file_stuff)"
   ]
  },
  {
   "cell_type": "code",
   "execution_count": 14,
   "metadata": {},
   "outputs": [
    {
     "name": "stdout",
     "output_type": "stream",
     "text": [
      "This is a test string this is not new line \n",
      "\n",
      "  this is new line\n"
     ]
    }
   ],
   "source": [
    "#reading files line by line\n",
    "with open(\"test.txt\",\"r\") as f:\n",
    "    for line in f:\n",
    "        print(line)\n",
    "        "
   ]
  },
  {
   "cell_type": "code",
   "execution_count": 18,
   "metadata": {},
   "outputs": [
    {
     "name": "stdout",
     "output_type": "stream",
     "text": [
      "['This', 'is', 'a', 'test', 'string', 'this', 'is', 'not', 'new', 'line']\n",
      "['this', 'is', 'new', 'line', 'this', 'is', 'appended', 'text', 'this', 'is', 'appended', 'text', 'this', 'is', 'appended', 'text', 'this', 'is', 'appended', 'text']\n"
     ]
    }
   ],
   "source": [
    "# appending to files\n",
    "with open(\"test.txt\",\"a\") as f:\n",
    "    f.write(\" this is appended text\")\n",
    "\n",
    "with open(\"test.txt\",\"r\") as f: \n",
    "    file_stuff=f.readlines() # reads all lines into a list\n",
    "    for line in file_stuff:\n",
    "        word_by_word=line.split() # splits each line into a list of words\n",
    "        print(word_by_word) # prints each word in the line\n"
   ]
  },
  {
   "cell_type": "markdown",
   "metadata": {},
   "source": [
    "### iterators"
   ]
  },
  {
   "cell_type": "code",
   "execution_count": 27,
   "metadata": {},
   "outputs": [
    {
     "name": "stdout",
     "output_type": "stream",
     "text": [
      "1\n",
      "2\n",
      "3\n"
     ]
    }
   ],
   "source": [
    "# iterators are objects that return data one element at a time\n",
    "# list, tuple, string, dictionary, set, file are all iterable objects\n",
    "# iter() function returns an iterator from an iterable object\n",
    "# next() function returns the next item in an iterator\n",
    "\n",
    "#iterating over a list\n",
    "my_list=[1,2,3,4,5]\n",
    "my_iter=iter(my_list)\n",
    "print(next(my_iter))\n",
    "print(my_iter.__next__())\n",
    "print(next(my_iter))\n",
    "\n"
   ]
  },
  {
   "cell_type": "code",
   "execution_count": 28,
   "metadata": {},
   "outputs": [
    {
     "name": "stdout",
     "output_type": "stream",
     "text": [
      "1\n",
      "2\n",
      "3\n",
      "4\n",
      "5\n"
     ]
    }
   ],
   "source": [
    "# for loop automatically creates an iterator object and executes the next() function\n",
    "for element in my_list:\n",
    "    print(element)"
   ]
  },
  {
   "cell_type": "markdown",
   "metadata": {},
   "source": [
    "### Decorators"
   ]
  },
  {
   "cell_type": "code",
   "execution_count": 29,
   "metadata": {},
   "outputs": [],
   "source": [
    "# decorator is a function that takes another function and extends the behavior of the latter function without explicitly modifying it\n",
    "# @ is a python decorator\n",
    "def make_pretty(func):\n",
    "    def inner():\n",
    "        print(\"I got decorated\")\n",
    "        func()\n",
    "    return inner\n",
    "\n",
    "\n",
    "def ordinary():\n",
    "    print(\"I am ordinary\")"
   ]
  },
  {
   "cell_type": "code",
   "execution_count": 32,
   "metadata": {},
   "outputs": [
    {
     "name": "stdout",
     "output_type": "stream",
     "text": [
      "I am ordinary\n",
      "I got decorated\n",
      "I am ordinary\n"
     ]
    }
   ],
   "source": [
    "ordinary()\n",
    "pretty=make_pretty(ordinary)\n",
    "pretty()"
   ]
  },
  {
   "cell_type": "code",
   "execution_count": 12,
   "metadata": {},
   "outputs": [
    {
     "data": {
      "text/plain": [
       "['HELLO', 'THERE']"
      ]
     },
     "execution_count": 12,
     "metadata": {},
     "output_type": "execute_result"
    }
   ],
   "source": [
    "# Decorators prequisites \n",
    "# 1. Functions should be passed as arguments to another function\n",
    "# 2. The function passed as an argument should be returned from the calling function\n",
    "\n",
    "#decorator 2\n",
    "def uppercase_decorator(function): #datacamp exmple # This function takes in a function as an argument\n",
    "    def wrapper(): # This function is the wrapper function  \n",
    "        func=function()\n",
    "        make_uppercase=func.upper()\n",
    "        # print('first')\n",
    "        return make_uppercase\n",
    "    return wrapper # This function returns the wrapper function\n",
    "\n",
    "#decorator 2\n",
    "def split_string(function):\n",
    "    def wrapper():\n",
    "        func=function()\n",
    "        splitted=func.split()\n",
    "        # print('2')\n",
    "        return splitted\n",
    "    return wrapper\n",
    "\n",
    "@split_string\n",
    "@uppercase_decorator \n",
    "def say_hi():\n",
    "    return 'hello there'\n",
    "\n",
    "say_hi() # returns ['HELLO', 'THERE'] as a list . first uppercase_decorator is called to Upper case the string  and then split_string is called to split that Capaitalized string into a list\n",
    "\n"
   ]
  },
  {
   "cell_type": "markdown",
   "metadata": {},
   "source": [
    "### List comprehension"
   ]
  },
  {
   "cell_type": "code",
   "execution_count": 14,
   "metadata": {},
   "outputs": [
    {
     "name": "stdout",
     "output_type": "stream",
     "text": [
      "['even', 'odd', 'even', 'odd', 'even', 'odd', 'even', 'odd', 'even', 'odd']\n",
      "[(1, 3), (1, 4), (2, 3), (2, 1), (2, 4), (3, 1), (3, 4)]\n"
     ]
    }
   ],
   "source": [
    "# list comprehension is a way to create a list in a single line of code \n",
    "# syntax: [expression for item in list]\n",
    "# syntax: [expression for item in list if conditional]\n",
    "# expression can be anything that can be done with an item in the list\n",
    "# list comprehension can be used to create a new list from an existing list\n",
    "#more human readable than lambda function\n",
    "# conditionals and nested loops can be used in list comprehension\n",
    "# each list comprehension can be rewritten as a for loop but not vice versa\n",
    "\n",
    "# progamiz example\n",
    "result=[\"even\" if i%2==0 else \"odd\" for i in range(10)]\n",
    "print(result)\n",
    "\n",
    "# list comprehension with nested loops\n",
    "#syntax: [expression for item1 in Innerlist1 for item2 in Outerlist2]\n",
    "result=[(x,y) for x in [1,2,3] for y in [3,1,4] if x!=y] \n",
    "print(result)\n"
   ]
  },
  {
   "cell_type": "markdown",
   "metadata": {},
   "source": [
    "### Dictionary comprehension "
   ]
  },
  {
   "cell_type": "code",
   "execution_count": 18,
   "metadata": {},
   "outputs": [
    {
     "name": "stdout",
     "output_type": "stream",
     "text": [
      "{0: 0, 1: 1, 2: 4, 3: 9, 4: 16, 5: 25}\n",
      "{'jill': 40, 'jack': 50, 'joe': 60}\n"
     ]
    }
   ],
   "source": [
    "#similar to list comprehension but uses {} instead of [] and has a key value pair\n",
    "#syntax: {key:value for (key,value) in dictonary.items()}\n",
    "\n",
    "square={x:x*x for x in range(6)}\n",
    "print(square)\n",
    "\n",
    "\n",
    "# conditionals in dictionary comprehension\n",
    "#syntax: {key:value for (key,value) in dictonary.items() if condition}\n",
    "\n",
    "# dict with {person:age} \n",
    "people_age={\"john\":20,\"jane\":30,\"jill\":40,\"jack\":50,\"joe\":60}\n",
    "# dict with person above 30\n",
    "people_above_30={person:age for (person,age) in people_age.items() if age>30}\n",
    "print(people_above_30)"
   ]
  },
  {
   "cell_type": "markdown",
   "metadata": {},
   "source": [
    "### **args and **kwargs"
   ]
  },
  {
   "cell_type": "code",
   "execution_count": 20,
   "metadata": {},
   "outputs": [
    {
     "name": "stdout",
     "output_type": "stream",
     "text": [
      "2\n",
      "3\n",
      "4\n",
      "5\n",
      "6\n",
      "7\n",
      "8\n",
      "9\n",
      "10\n"
     ]
    }
   ],
   "source": [
    "# **args and **kwargs are used to pass a variable number of arguments to a function\n",
    "#makes the function more flexible\n",
    "# *args is used to send a non-keyworded argument list to the function (tuple)\n",
    "\n",
    "# sqaure root of numbers\n",
    "def square_root(*nums): # arugments are passed as a tuple and can beof any length\n",
    "   for num in nums:\n",
    "       print (int(num**0.5))\n",
    "\n",
    "square_root(4,9,16,25,36,49,64,81,100)"
   ]
  },
  {
   "cell_type": "code",
   "execution_count": 23,
   "metadata": {},
   "outputs": [
    {
     "name": "stdout",
     "output_type": "stream",
     "text": [
      "his  name  is  john\n",
      "his  age  is  20\n",
      "his  address  is  123 main street\n",
      "his  phone  is  1234567890\n"
     ]
    }
   ],
   "source": [
    "# **kwargs to pass keyworded  arguments to a function (dictionary)\n",
    "\n",
    "# personbal details in dictionary\n",
    "infos={\"name\":\"john\",\"age\":20,\"address\":\"123 main street\",\"phone\":\"1234567890\"}\n",
    "\n",
    "def personal_details(**infos): # arugments are passed as a dictionary and can be of any length\n",
    "    for key,value in infos.items(): # key value pairs are unpacked as a tuple\n",
    "        print('his ',key,\" is \",value) \n",
    "\n",
    "personal_details(**infos) \n"
   ]
  },
  {
   "cell_type": "markdown",
   "metadata": {},
   "source": [
    "### Classes"
   ]
  },
  {
   "cell_type": "code",
   "execution_count": 24,
   "metadata": {},
   "outputs": [
    {
     "name": "stdout",
     "output_type": "stream",
     "text": [
      "The Honda City car gives the mileage of 24.1km/l\n",
      "The Honda City runs at the maximum speed of 150km/hr\n",
      "Sedan\n",
      "The Honda City runs at the maximum speed of 150km/hr\n",
      "The Skoda Octavia runs at the maximum speed of 210km/hr\n"
     ]
    }
   ],
   "source": [
    "# class is a blueprint for creating objects\n",
    "# objects have properties and methods\n",
    "# properties are variables that belong to the object\n",
    "# methods are functions that belong to the object\n",
    "\n",
    "# class syntax\n",
    "class ClassName:\n",
    "    \"\"\"docstring\"\"\"\n",
    "    def __init__(self, arg): # constructor function that initializes the object and executed when initilized\n",
    "        super(ClassName, self).__init__()\n",
    "        self.arg = arg\n",
    "\n",
    "# class example\n",
    "class Car:\n",
    "    car_type = \"Sedan\"  # class variable ( attribute)  will be unique for all objects in this class\n",
    "    def __init__(self, name, mileage): # constructor method \n",
    "        self.name = name # instance variable ( attribute) name and assign value of name parameter to it \n",
    "        self.mileage = mileage # instance variable mileage and assign value of mileage parameter to it\n",
    "\n",
    "    def description(self):          # instance method       \n",
    "        return f\"The {self.name} car gives the mileage of {self.mileage}km/l\"\n",
    "\n",
    "    def max_speed(self, speed): # instance method\n",
    "        return f\"The {self.name} runs at the maximum speed of {speed}km/hr\"\n",
    "\n",
    "\n",
    "obj2 = Car(\"Honda City\",24.1) # object of class Car\n",
    "print(obj2.description()) # calling instance method\n",
    "print(obj2.max_speed(150)) # calling instance method\n",
    "print(obj2.car_type) # class variable\n",
    "\n",
    "\n",
    "Honda = Car(\"Honda City\",21.4)\n",
    "print(Honda.max_speed(150))\n",
    "\n",
    "Skoda = Car(\"Skoda Octavia\",13)\n",
    "print(Skoda.max_speed(210))\n"
   ]
  },
  {
   "cell_type": "markdown",
   "metadata": {},
   "source": [
    "### Inheritance"
   ]
  },
  {
   "cell_type": "code",
   "execution_count": 29,
   "metadata": {},
   "outputs": [
    {
     "name": "stdout",
     "output_type": "stream",
     "text": [
      "The BMW X5 car gives the mileage of 12.4km/l\n",
      "The Audi A6 car gives the mileage of 18.6km/l\n",
      "This is the description method of class Audi.\n",
      "The Benz C class car gives the mileage of 10.4km/l\n",
      "('Thius car cost ', 50000)\n"
     ]
    }
   ],
   "source": [
    "# Class inheritance is a way to form new classes using classes that have already been defined\n",
    "# The newly formed classes are called derived classes, the classes that we derive from are called base classes  \n",
    "# derived classes override or extend the functionality of base classes\n",
    "# syntax: class DerivedClassName(BaseClassName1, BaseClassName2, ...):\n",
    "# derived class inherits and can override all the methods and attributes of the base class\n",
    "\n",
    "class Car:          #parent class \n",
    "    def __init__(self, name, mileage): # constructor method\n",
    "        self.name = name \n",
    "        self.mileage = mileage \n",
    "\n",
    "    def description(self):                \n",
    "        return f\"The {self.name} car gives the mileage of {self.mileage}km/l\"\n",
    "\n",
    "class BMW(Car):     #child class \n",
    "    pass\n",
    "\n",
    "class Audi(Car):     #child class \n",
    "    def audi_desc(self):   # here in addition to the parent class attributes and methods, child class has its own method\n",
    "        return \"This is the description method of class Audi.\"\n",
    "\n",
    "class Benz(Car):     #child class \n",
    "    def __init__ (self, name, mileage, price):\n",
    "        super().__init__(name, mileage) # super() method is used to call the parent class constructor\n",
    "        self.price = price # child class has its own attribute price and has addiional argument in the constructor\n",
    "\n",
    "    def benz_desc(self):   # here in addition to the parent class attributes and methods, child class has its own method\n",
    "        return (\"Thius car cost \", self.price)\n",
    "\n",
    "Bmw1=BMW(\"BMW X5\", 12.4)\n",
    "print(Bmw1.description())\n",
    "\n",
    "Audi1=Audi(\"Audi A6\", 18.6)\n",
    "print(Audi1.description())\n",
    "print(Audi1.audi_desc())\n",
    "\n",
    "Benz1=Benz(\"Benz C class\", 10.4, 50000)\n",
    "print(Benz1.description())\n",
    "print(Benz1.benz_desc())"
   ]
  },
  {
   "cell_type": "markdown",
   "metadata": {},
   "source": [
    "### Exceptions handling\n"
   ]
  },
  {
   "cell_type": "code",
   "execution_count": 33,
   "metadata": {},
   "outputs": [
    {
     "name": "stdout",
     "output_type": "stream",
     "text": [
      "An exception occurred\n",
      "I really dont care if there is an exception or not, I will always be here to greet you\n"
     ]
    }
   ],
   "source": [
    "# exception handling is a way to handle errors in a program\n",
    "#  try: block of code that can raise an exception \n",
    "#  except: block of code that will execute if there is an exception in the try block\n",
    "#  else: block of code that will execute if there is no exception in the try block\n",
    "#  finally: block of code that will execute no matter if there is an exception or not\n",
    "\n",
    "\n",
    "# x1=5\n",
    "\n",
    "try:\n",
    "    print(x2)\n",
    "except:\n",
    "    print(\"An exception occurred\")\n",
    "else:\n",
    "    print(\"No exception occurred, so value is : \",x2)\n",
    "finally:\n",
    "    print('I really dont care if there is an exception or not, I will always be here to greet you')"
   ]
  },
  {
   "cell_type": "markdown",
   "metadata": {},
   "source": [
    "Incomplete"
   ]
  },
  {
   "cell_type": "code",
   "execution_count": 56,
   "metadata": {},
   "outputs": [
    {
     "ename": "ValueError",
     "evalue": "could not convert string to float: 'hh'",
     "output_type": "error",
     "traceback": [
      "\u001b[1;31m---------------------------------------------------------------------------\u001b[0m",
      "\u001b[1;31mValueError\u001b[0m                                Traceback (most recent call last)",
      "\u001b[1;32me:\\Fusemachines GIT\\Python\\Task 2 advanced topics python.ipynb Cell 28\u001b[0m in \u001b[0;36m<cell line: 5>\u001b[1;34m()\u001b[0m\n\u001b[0;32m      <a href='vscode-notebook-cell:/e%3A/Fusemachines%20GIT/Python/Task%202%20advanced%20topics%20python.ipynb#X42sZmlsZQ%3D%3D?line=0'>1</a>\u001b[0m \u001b[39m#we can raise an exception using the raise keyword\u001b[39;00m\n\u001b[0;32m      <a href='vscode-notebook-cell:/e%3A/Fusemachines%20GIT/Python/Task%202%20advanced%20topics%20python.ipynb#X42sZmlsZQ%3D%3D?line=1'>2</a>\u001b[0m \u001b[39m# raise Exception(\"Something went wrong\")\u001b[39;00m\n\u001b[0;32m      <a href='vscode-notebook-cell:/e%3A/Fusemachines%20GIT/Python/Task%202%20advanced%20topics%20python.ipynb#X42sZmlsZQ%3D%3D?line=3'>4</a>\u001b[0m num\u001b[39m=\u001b[39m\u001b[39m25\u001b[39m\n\u001b[1;32m----> <a href='vscode-notebook-cell:/e%3A/Fusemachines%20GIT/Python/Task%202%20advanced%20topics%20python.ipynb#X42sZmlsZQ%3D%3D?line=4'>5</a>\u001b[0m divider\u001b[39m=\u001b[39m\u001b[39mfloat\u001b[39;49m(\u001b[39minput\u001b[39;49m(\u001b[39m\"\u001b[39;49m\u001b[39mEnter a number to divide 25 by: \u001b[39;49m\u001b[39m\"\u001b[39;49m))\n\u001b[0;32m      <a href='vscode-notebook-cell:/e%3A/Fusemachines%20GIT/Python/Task%202%20advanced%20topics%20python.ipynb#X42sZmlsZQ%3D%3D?line=5'>6</a>\u001b[0m \u001b[39mtry\u001b[39;00m:\n\u001b[0;32m      <a href='vscode-notebook-cell:/e%3A/Fusemachines%20GIT/Python/Task%202%20advanced%20topics%20python.ipynb#X42sZmlsZQ%3D%3D?line=6'>7</a>\u001b[0m     num\u001b[39m/\u001b[39mdivider\n",
      "\u001b[1;31mValueError\u001b[0m: could not convert string to float: 'hh'"
     ]
    }
   ],
   "source": [
    "#we can raise an exception using the raise keyword\n",
    "# raise Exception(\"Something went wrong\")\n",
    "\n",
    "num=25\n",
    "divider=float(input(\"Enter a number to divide 25 by: \"))\n",
    "try:\n",
    "    num/divider\n",
    "except ZeroDivisionError:\n",
    "    raise Exception(\"\\n and its beacuse You cannot divide a number  by zero\")\n",
    "except ValueError():  \n",
    "    raise Exception(\"Dont enter a string\")\n",
    "else:\n",
    "    print(\"No exception occurred, so value is : \",num/divider)\n",
    "finally:\n",
    "    print('I really dont care if there is an exception or not, I will always be here to greet you')\n",
    "\n"
   ]
  },
  {
   "cell_type": "code",
   "execution_count": null,
   "metadata": {},
   "outputs": [],
   "source": []
  },
  {
   "cell_type": "code",
   "execution_count": null,
   "metadata": {},
   "outputs": [],
   "source": [
    "0"
   ]
  }
 ],
 "metadata": {
  "kernelspec": {
   "display_name": "Python 3.10.6 ('fuseenv': venv)",
   "language": "python",
   "name": "python3"
  },
  "language_info": {
   "codemirror_mode": {
    "name": "ipython",
    "version": 3
   },
   "file_extension": ".py",
   "mimetype": "text/x-python",
   "name": "python",
   "nbconvert_exporter": "python",
   "pygments_lexer": "ipython3",
   "version": "3.10.6"
  },
  "orig_nbformat": 4,
  "vscode": {
   "interpreter": {
    "hash": "69f0e7c2f68833cab2413a38a7ab4cd36a562471866a82103712b58ddc6e4e9a"
   }
  }
 },
 "nbformat": 4,
 "nbformat_minor": 2
}
