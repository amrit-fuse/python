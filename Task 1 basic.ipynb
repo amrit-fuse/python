{
 "cells": [
  {
   "cell_type": "markdown",
   "metadata": {},
   "source": [
    "## DAY 1"
   ]
  },
  {
   "cell_type": "markdown",
   "metadata": {},
   "source": [
    "### Doc string "
   ]
  },
  {
   "cell_type": "code",
   "execution_count": 1,
   "metadata": {},
   "outputs": [
    {
     "name": "stdout",
     "output_type": "stream",
     "text": [
      "Takes in a number n, returns the square of n\n"
     ]
    }
   ],
   "source": [
    "def square(n):\n",
    "    '''Takes in a number n, returns the square of n'''\n",
    "    return n**2\n",
    "\n",
    "print(square.__doc__) # prints the docstring"
   ]
  },
  {
   "cell_type": "markdown",
   "metadata": {},
   "source": [
    "### data types\n"
   ]
  },
  {
   "cell_type": "code",
   "execution_count": 3,
   "metadata": {},
   "outputs": [
    {
     "name": "stdout",
     "output_type": "stream",
     "text": [
      "<class 'int'>\n",
      "<class 'float'>\n",
      "<class 'complex'>\n",
      "<class 'list'>\n",
      "<class 'tuple'>\n",
      "<class 'set'>\n",
      "<class 'dict'>\n"
     ]
    }
   ],
   "source": [
    "a=1 #int\n",
    "b=2.5 #float\n",
    "c=3+2j #complex\n",
    "d=[1,2,3] #list\n",
    "e=(1,2,3)   #tuple\n",
    "f={1,2,3} #set\n",
    "g={'a':1,'b':2,'c':3} #dict\n",
    "\n",
    "\n",
    "print (type(a))\n",
    "print (type(b))\n",
    "print (type(c))\n",
    "print (type(d))\n",
    "print (type(e))\n",
    "print (type(f))\n",
    "print (type(g))\n"
   ]
  },
  {
   "cell_type": "markdown",
   "metadata": {},
   "source": [
    "### type conversion  and casting\n",
    "\n"
   ]
  },
  {
   "cell_type": "code",
   "execution_count": 3,
   "metadata": {},
   "outputs": [
    {
     "name": "stdout",
     "output_type": "stream",
     "text": [
      "3.5\n",
      "<class 'int'>\n",
      "<class 'float'>\n",
      "<class 'float'>\n"
     ]
    }
   ],
   "source": [
    "#  implicit type conversion\n",
    "a = 1\n",
    "b = 2.5\n",
    "c = a + b\n",
    "print(c)\n",
    "print(type(a)) # int\n",
    "print(type(b)) # float\n",
    "print(type(c)) # float"
   ]
  },
  {
   "cell_type": "code",
   "execution_count": 6,
   "metadata": {},
   "outputs": [
    {
     "name": "stdout",
     "output_type": "stream",
     "text": [
      "<class 'str'>\n",
      "<class 'float'>\n",
      "<class 'float'>\n"
     ]
    }
   ],
   "source": [
    "# Explicit type conversion\n",
    "a='1' # str\n",
    "b=2.5 # float\n",
    "c=int(a)+b #  here string a is converted to int with int() function\n",
    "print(type(a)) # str\n",
    "print(type(b)) # float\n",
    "print(type(c)) # float\n",
    "\n",
    "# similar conversion can be perfporrmed for float to int, int to float, float to str, str to float, int to str, str to int\n",
    "\n"
   ]
  },
  {
   "cell_type": "markdown",
   "metadata": {},
   "source": [
    "### python input ,output import"
   ]
  },
  {
   "cell_type": "code",
   "execution_count": 7,
   "metadata": {},
   "outputs": [
    {
     "name": "stdout",
     "output_type": "stream",
     "text": [
      "Hello World\n",
      "when a1 and b2.5 are added, the result is 3.5\n",
      "when a1 and b2.5 are added, the result is 3.5\n"
     ]
    }
   ],
   "source": [
    "# output \n",
    "print(\"Hello World\")\n",
    "\n",
    "#outputy formating\n",
    "a=1\n",
    "b=2.5\n",
    "print ('when a{} and b{} are added, the result is {}'.format(a,b,a+b))\n",
    "print(f'when a{a} and b{b} are added, the result is {a+b}')"
   ]
  },
  {
   "cell_type": "code",
   "execution_count": 9,
   "metadata": {},
   "outputs": [
    {
     "name": "stdout",
     "output_type": "stream",
     "text": [
      "8\n",
      "a is of type <class 'str'>\n",
      "9\n",
      "b is of type <class 'int'>\n"
     ]
    }
   ],
   "source": [
    "# input ( gives prompt to user)\n",
    "a=input('Enter a number')\n",
    "print(a)\n",
    "print('a is of type',type(a))\n",
    "\n",
    "# input with type conversion\n",
    "b=int(input('Enter a number'))\n",
    "print(b)\n",
    "print('b is of type',type(b))\n"
   ]
  },
  {
   "cell_type": "code",
   "execution_count": 10,
   "metadata": {},
   "outputs": [
    {
     "name": "stdout",
     "output_type": "stream",
     "text": [
      "3.141592653589793\n",
      "3.141592653589793\n",
      "3.141592653589793\n"
     ]
    }
   ],
   "source": [
    "# import  is used to import modules which are used in the program \n",
    "\n",
    "import math\n",
    "print(math.pi)\n",
    "\n",
    "\n",
    "# import with alias\n",
    "import math as m\n",
    "print(m.pi)\n",
    "\n",
    "# import specific functions from a module\n",
    "from math import pi\n",
    "print(pi)"
   ]
  },
  {
   "cell_type": "markdown",
   "metadata": {},
   "source": [
    "### python operators"
   ]
  },
  {
   "cell_type": "code",
   "execution_count": 11,
   "metadata": {},
   "outputs": [
    {
     "name": "stdout",
     "output_type": "stream",
     "text": [
      "3\n",
      "-1\n",
      "2\n",
      "0.5\n",
      "1\n",
      "1\n",
      "0\n"
     ]
    }
   ],
   "source": [
    "\n",
    "# arithmetic operators\n",
    "a=1\n",
    "b=2\n",
    "print(a+b)\n",
    "print(a-b)\n",
    "print(a*b)\n",
    "print(a/b)\n",
    "print(a%b) # modulus operator (remainder)\n",
    "print(a**b) # exponent   (a to the power b)\n",
    "print(a//b) # floor division (quotient)\n",
    "\n"
   ]
  },
  {
   "cell_type": "code",
   "execution_count": 12,
   "metadata": {},
   "outputs": [
    {
     "name": "stdout",
     "output_type": "stream",
     "text": [
      "False\n",
      "True\n",
      "False\n",
      "True\n",
      "False\n",
      "True\n"
     ]
    }
   ],
   "source": [
    "# Comaprison operators\n",
    "a=1\n",
    "b=2 \n",
    "print(a==b) # equal to \n",
    "print(a!=b) # not equal to \n",
    "print(a>b) # greater than\n",
    "print(a<b) # less than\n",
    "print(a>=b) # greater than or equal to\n",
    "print(a<=b) # less than or equal to\n",
    "\n"
   ]
  },
  {
   "cell_type": "code",
   "execution_count": 13,
   "metadata": {},
   "outputs": [
    {
     "name": "stdout",
     "output_type": "stream",
     "text": [
      "True\n",
      "True\n",
      "False\n"
     ]
    }
   ],
   "source": [
    "# Logical operators\n",
    "a=1\n",
    "b=2\n",
    "print(a==1 and b==2) # and operator\n",
    "print(a==1 or b==2) # or operator\n",
    "print(not(a==1 and b==2)) # not operator\n"
   ]
  },
  {
   "cell_type": "code",
   "execution_count": 14,
   "metadata": {},
   "outputs": [
    {
     "name": "stdout",
     "output_type": "stream",
     "text": [
      "0\n",
      "3\n",
      "-2\n",
      "3\n",
      "0\n",
      "4\n"
     ]
    }
   ],
   "source": [
    "# Bitwise operators\n",
    "a=1\n",
    "b=2\n",
    "print(a&b) # bitwise and\n",
    "print(a|b) # bitwise or\n",
    "print(~a) # bitwise not\n",
    "print(a^b) # bitwise xor\n",
    "print(a>>b) # bitwise right shift\n",
    "print(a<<b) # bitwise left shift\n"
   ]
  },
  {
   "cell_type": "code",
   "execution_count": 15,
   "metadata": {},
   "outputs": [
    {
     "name": "stdout",
     "output_type": "stream",
     "text": [
      "3\n",
      "1\n",
      "2\n",
      "1.0\n",
      "1.0\n",
      "1.0\n",
      "0.0\n"
     ]
    }
   ],
   "source": [
    "# assignment operators\n",
    "a=1\n",
    "b=2\n",
    "a+=b # a=a+b\n",
    "print(a)\n",
    "a-=b # a=a-b\n",
    "print(a)\n",
    "a*=b # a=a*b\n",
    "print(a)\n",
    "a/=b # a=a/b\n",
    "print(a)\n",
    "a%=b # a=a%b\n",
    "print(a)\n",
    "a**=b # a=a**b\n",
    "print(a)\n",
    "a//=b # a=a//b\n",
    "print(a)\n",
    "\n"
   ]
  },
  {
   "cell_type": "code",
   "execution_count": 16,
   "metadata": {},
   "outputs": [
    {
     "name": "stdout",
     "output_type": "stream",
     "text": [
      "False\n",
      "True\n"
     ]
    }
   ],
   "source": [
    "# identity operators\n",
    "a=1\n",
    "b=2\n",
    "print(a is b) # is operator\n",
    "print(a is not b) # is not operator\n"
   ]
  },
  {
   "cell_type": "code",
   "execution_count": 17,
   "metadata": {},
   "outputs": [
    {
     "name": "stdout",
     "output_type": "stream",
     "text": [
      "True\n",
      "False\n"
     ]
    }
   ],
   "source": [
    "# membership operators\n",
    "a=1\n",
    "b=2\n",
    "c=[1,2,3]\n",
    "print(a in c) # in operator\n",
    "print(a not in c) # not in operator\n"
   ]
  },
  {
   "cell_type": "markdown",
   "metadata": {},
   "source": [
    "### Python namespace"
   ]
  },
  {
   "cell_type": "code",
   "execution_count": 24,
   "metadata": {},
   "outputs": [
    {
     "name": "stdout",
     "output_type": "stream",
     "text": [
      "3\n",
      "3\n",
      "3\n",
      "3\n"
     ]
    }
   ],
   "source": [
    "#namespace is a collection of names. Names are simply identifiers that refer to objects.\n",
    "\n",
    "#scope is a textual region of a Python program where a namespace is directly accessible.\n",
    "\n",
    "#example of namespace\n",
    "a=1\n",
    "b=2\n",
    "def add(a,b):\n",
    "    return a+b\n",
    "print(add(1,2))\n",
    "\n",
    "#example of scope\n",
    "a=1\n",
    "b=2\n",
    "def add(a,b):\n",
    "    add1=a+b\n",
    "    return add1\n",
    "\n",
    "print(add(1,2))\n",
    "# print(add1) # add1  is not defined as it is not in the scope of the program\n",
    "\n",
    "# gloabl and local variables\n",
    "a=1\n",
    "b=2\n",
    "def add(a,b):\n",
    "    global c # c is a global variable can be assessed anywhere in the program\n",
    "    c=a+b\n",
    "    return c\n",
    "\n",
    "print(add(1,2))\n",
    "print(c) # c is defined as it is in the scope of the program\n",
    "\n",
    "\n"
   ]
  },
  {
   "cell_type": "markdown",
   "metadata": {},
   "source": [
    "### Python if else"
   ]
  },
  {
   "cell_type": "code",
   "execution_count": 26,
   "metadata": {},
   "outputs": [
    {
     "name": "stdout",
     "output_type": "stream",
     "text": [
      "a is less than b\n",
      "a is less than b\n"
     ]
    }
   ],
   "source": [
    "#if else statement\n",
    "a=1\n",
    "b=2\n",
    "if a>b:\n",
    "    print('a is greater than b')\n",
    "elif a==b:\n",
    "    print('a is equal to b')\n",
    "\n",
    "else:\n",
    "    print('a is less than b')\n",
    "\n",
    "\n",
    "# nested if else\n",
    "a=1\n",
    "b=2\n",
    "if a>b:\n",
    "    print('a is greater than b')\n",
    "else:\n",
    "    if a==b:\n",
    "        print('a is equal to b')\n",
    "    else:\n",
    "        print('a is less than b')\n",
    "            \n"
   ]
  },
  {
   "cell_type": "markdown",
   "metadata": {},
   "source": [
    "### Python for loop\n"
   ]
  },
  {
   "cell_type": "code",
   "execution_count": 31,
   "metadata": {},
   "outputs": [
    {
     "name": "stdout",
     "output_type": "stream",
     "text": [
      "1\n",
      "2\n",
      "3\n",
      "4\n",
      "for loop with else\n",
      "1\n",
      "2\n",
      "3\n",
      "4\n",
      "loop is over\n"
     ]
    }
   ],
   "source": [
    "#for loop\n",
    "for i in range(1,5): # range(start,stop,step)\n",
    "    print(i)\n",
    "\n",
    "# for with else\n",
    "print('for loop with else')\n",
    "for i in range(1,5):\n",
    "    print(i)\n",
    "else:\n",
    "    print('loop is over')\n",
    "\n",
    "\n"
   ]
  },
  {
   "cell_type": "code",
   "execution_count": 32,
   "metadata": {},
   "outputs": [
    {
     "name": "stdout",
     "output_type": "stream",
     "text": [
      "1\n",
      "2\n",
      "3\n",
      "4\n",
      "while loop with else\n",
      "1\n",
      "2\n",
      "3\n",
      "4\n",
      "loop is over\n"
     ]
    }
   ],
   "source": [
    "# while loop\n",
    "i=1\n",
    "while i<5:\n",
    "    print(i)\n",
    "    i+=1\n",
    "    \n",
    "#while with else\n",
    "print('while loop with else')\n",
    "i=1\n",
    "while i<5:\n",
    "    print(i)\n",
    "    i+=1\n",
    "else:\n",
    "    print('loop is over')\n",
    "    "
   ]
  },
  {
   "cell_type": "markdown",
   "metadata": {},
   "source": [
    "### Break continue pass \n"
   ]
  },
  {
   "cell_type": "code",
   "execution_count": 33,
   "metadata": {},
   "outputs": [
    {
     "name": "stdout",
     "output_type": "stream",
     "text": [
      "1\n",
      "2\n"
     ]
    }
   ],
   "source": [
    "#break statement\n",
    "for i in range(1,5):\n",
    "    if i==3:\n",
    "        break # break statement terminates the loop\n",
    "    print(i)\n",
    "\n"
   ]
  },
  {
   "cell_type": "code",
   "execution_count": 34,
   "metadata": {},
   "outputs": [
    {
     "name": "stdout",
     "output_type": "stream",
     "text": [
      "1\n",
      "2\n",
      "4\n"
     ]
    }
   ],
   "source": [
    "#continue statement\n",
    "for i in range(1,5): \n",
    "    if i==3:\n",
    "        continue # skips the current iteration\n",
    "    print(i)"
   ]
  },
  {
   "cell_type": "code",
   "execution_count": 35,
   "metadata": {},
   "outputs": [
    {
     "name": "stdout",
     "output_type": "stream",
     "text": [
      "1\n",
      "2\n",
      "3\n",
      "4\n"
     ]
    }
   ],
   "source": [
    "#pass statement\n",
    "for i in range(1,5):\n",
    "    if i==3:\n",
    "        pass # pass statement does nothing\n",
    "    print(i)\n",
    "    "
   ]
  },
  {
   "cell_type": "markdown",
   "metadata": {},
   "source": [
    "### Python Function"
   ]
  },
  {
   "cell_type": "code",
   "execution_count": 37,
   "metadata": {},
   "outputs": [
    {
     "name": "stdout",
     "output_type": "stream",
     "text": [
      "3\n",
      "1\n",
      "True\n",
      "True\n",
      "0b1010\n",
      "True\n",
      "a\n",
      "97\n",
      "(3, 1)\n",
      "1.0\n",
      "0xa\n",
      "1\n",
      "3\n",
      "[1, 2, 3]\n",
      "3\n",
      "1\n",
      "0o12\n",
      "8\n",
      "2\n",
      "{1, 2, 3}\n",
      "1\n",
      "(1, 2, 3)\n",
      "<class 'int'>\n",
      "<zip object at 0x00000203AEC00F00>\n"
     ]
    }
   ],
   "source": [
    "#functions\n",
    "def add(a,b): # function definition\n",
    "    return a+b # function body # return statement is used to return the value from the function to the caller\n",
    "print(add(1,2)) # function call  \n",
    "# above function can be called as many times as required \n",
    "\n",
    "#built in functions\n",
    "print(abs(-1)) # absolute value\n",
    "print(all([1,2,3])) # returns true if all elements in the iterable are true\n",
    "print(any([1,2,3])) # returns true if any element in the iterable is true\n",
    "print(bin(10)) # returns binary equivalent of the number\n",
    "print(bool(1)) # returns boolean value of the argument\n",
    "print(chr(97)) # returns character of the ascii value\n",
    "print(ord('a')) # returns ascii value of the character\n",
    "print(divmod(10,3)) # returns quotient and remainder\n",
    "print(float(1)) # returns float value of the argument\n",
    "print(hex(10)) # returns hexadecimal equivalent of the number\n",
    "print(int(1.0)) # returns integer value of the argument\n",
    "print(len([1,2,3])) # returns length of the argument\n",
    "print(list((1,2,3))) # returns list of the argument\n",
    "print(max([1,2,3])) # returns maximum value of the argument\n",
    "print(min([1,2,3])) # returns minimum value of the argument\n",
    "print(oct(10)) # returns octal equivalent of the number\n",
    "print(pow(2,3)) # returns power of the number\n",
    "print(round(1.5)) # returns rounded value of the number\n",
    "print(set([1,2,3])) # returns set of the argument\n",
    "print(str(1)) # returns string value of the argument\n",
    "print(tuple([1,2,3])) # returns tuple of the argument\n",
    "print(type(1)) # returns type of the argument\n",
    "print(zip([1,2,3],[4,5,6])) # returns zip object of the argument\n",
    "\n"
   ]
  },
  {
   "cell_type": "markdown",
   "metadata": {},
   "source": [
    "### function arguments\n"
   ]
  },
  {
   "cell_type": "code",
   "execution_count": 39,
   "metadata": {},
   "outputs": [
    {
     "name": "stdout",
     "output_type": "stream",
     "text": [
      "3\n",
      "4\n"
     ]
    }
   ],
   "source": [
    "#default arguments\n",
    "def add(a,b=2): # b is a default argument\n",
    "    return a+b\n",
    "print(add(1)) # if b is not passed then default value is used\n",
    "print(add(1,3)) # if b is passed then the passed value is used\n"
   ]
  },
  {
   "cell_type": "code",
   "execution_count": 40,
   "metadata": {},
   "outputs": [
    {
     "name": "stdout",
     "output_type": "stream",
     "text": [
      "3\n",
      "3\n"
     ]
    }
   ],
   "source": [
    "#keyword arguments\n",
    "def add(a,b):\n",
    "    return a+b\n",
    "print(add(a=1,b=2)) # keyword arguments are passed as name=value pairs\n",
    "print(add(b=2,a=1)) # order of the arguments does not matter\n",
    "\n",
    "\n"
   ]
  },
  {
   "cell_type": "code",
   "execution_count": 41,
   "metadata": {},
   "outputs": [
    {
     "name": "stdout",
     "output_type": "stream",
     "text": [
      "15\n"
     ]
    }
   ],
   "source": [
    "#arbitrary arguments\n",
    "def add(*args): # *args is a tuple of arguments passed , we dont know how many arguments will be passed\n",
    "    return sum(args)\n",
    "print(add(1,2,3,4,5)) # any number of arguments can be passed\n"
   ]
  },
  {
   "cell_type": "markdown",
   "metadata": {},
   "source": [
    "### lambda function"
   ]
  },
  {
   "cell_type": "code",
   "execution_count": 2,
   "metadata": {},
   "outputs": [
    {
     "name": "stdout",
     "output_type": "stream",
     "text": [
      "3\n",
      "[2, 4]\n",
      "[2, 4, 6, 8, 10]\n"
     ]
    }
   ],
   "source": [
    "#lambda functions\n",
    "#  anonymous functions, used when we require a nameless function for a short period of time, used along with built in functions like filter(), map() and reduce()\n",
    "#  used along with list comprehensions, used along with generators\n",
    "#  syntax: lambda arguments: expression\n",
    "add=lambda a,b:a+b # lambda function definition # lambda function can be assigned to a variable and can be called using the variable name . here a,b is argument and a+b is expression\n",
    "print(add(1,2)) \n",
    "\n",
    "# lambda with filter()\n",
    "# filter(function, iterable) # returns an iterator yielding those items of iterable for which function(item) is true\n",
    "# syntax: filter(lambda arguments: expression, iterable)\n",
    "print(list(filter(lambda a:a%2==0,[1,2,3,4,5]))) # returns list of  even numbers from the list\n",
    "\n",
    "# lambda with map()\n",
    "# map(function, iterable) # returns an iterator that applies function to every item of iterable, yielding the results\n",
    "# syntax: map(lambda arguments: expression, iterable)\n",
    "print(list(map(lambda a:a*2,[1,2,3,4,5]))) # returns list of  double of the numbers from the list\n",
    "\n"
   ]
  },
  {
   "cell_type": "markdown",
   "metadata": {},
   "source": [
    "### Global and local variable\n"
   ]
  },
  {
   "cell_type": "code",
   "execution_count": 5,
   "metadata": {},
   "outputs": [
    {
     "name": "stdout",
     "output_type": "stream",
     "text": [
      "3\n"
     ]
    },
    {
     "ename": "NameError",
     "evalue": "name 'b' is not defined",
     "output_type": "error",
     "traceback": [
      "\u001b[1;31m---------------------------------------------------------------------------\u001b[0m",
      "\u001b[1;31mNameError\u001b[0m                                 Traceback (most recent call last)",
      "\u001b[1;32me:\\Fusemachines GIT\\Python\\task1.ipynb Cell 41\u001b[0m in \u001b[0;36m<cell line: 7>\u001b[1;34m()\u001b[0m\n\u001b[0;32m      <a href='vscode-notebook-cell:/e%3A/Fusemachines%20GIT/Python/task1.ipynb#X54sZmlsZQ%3D%3D?line=4'>5</a>\u001b[0m     \u001b[39mreturn\u001b[39;00m a\u001b[39m+\u001b[39mb\n\u001b[0;32m      <a href='vscode-notebook-cell:/e%3A/Fusemachines%20GIT/Python/task1.ipynb#X54sZmlsZQ%3D%3D?line=5'>6</a>\u001b[0m \u001b[39mprint\u001b[39m(add())\n\u001b[1;32m----> <a href='vscode-notebook-cell:/e%3A/Fusemachines%20GIT/Python/task1.ipynb#X54sZmlsZQ%3D%3D?line=6'>7</a>\u001b[0m \u001b[39mprint\u001b[39m(b) \u001b[39m# 'b' is not defined as it is not in the scope of the program\u001b[39;00m\n\u001b[0;32m      <a href='vscode-notebook-cell:/e%3A/Fusemachines%20GIT/Python/task1.ipynb#X54sZmlsZQ%3D%3D?line=8'>9</a>\u001b[0m \u001b[39m# global and local variables with same name\u001b[39;00m\n\u001b[0;32m     <a href='vscode-notebook-cell:/e%3A/Fusemachines%20GIT/Python/task1.ipynb#X54sZmlsZQ%3D%3D?line=9'>10</a>\u001b[0m a\u001b[39m=\u001b[39m\u001b[39m1\u001b[39m \u001b[39m# global variable\u001b[39;00m\n",
      "\u001b[1;31mNameError\u001b[0m: name 'b' is not defined"
     ]
    }
   ],
   "source": [
    "#global variables can be accessed anywhere in the program.  local variables can be accessed only in the scope of the program\n",
    "a=1 # global variable\n",
    "def add():\n",
    "    b=2 # local variable\n",
    "    return a+b\n",
    "print(add())\n",
    "print(b) # 'b' is not defined as it is not in the scope of the program\n",
    "\n",
    "\n"
   ]
  },
  {
   "cell_type": "code",
   "execution_count": 6,
   "metadata": {},
   "outputs": [
    {
     "name": "stdout",
     "output_type": "stream",
     "text": [
      "2\n",
      "1\n"
     ]
    }
   ],
   "source": [
    "# global and local variables with same name\n",
    "a=1 # global variable\n",
    "def add():\n",
    "    a=2 # local variable\n",
    "    return a\n",
    "print(add())\n",
    "print(a) # global variable is accessed as it is in the scope of the program\n",
    " # final print statement prints the global variable i.e a=1 and not the local variable i.e a=2."
   ]
  },
  {
   "cell_type": "code",
   "execution_count": 7,
   "metadata": {},
   "outputs": [
    {
     "name": "stdout",
     "output_type": "stream",
     "text": [
      "2\n",
      "2\n"
     ]
    }
   ],
   "source": [
    "# global keyword is used to access the global variable inside the function\n",
    "a=1 # global variable\n",
    "def add():\n",
    "    global a # global keyword is used to access the global variable inside the functioni.e to modify the global variable inside the function\n",
    "    a=2 # local variable\n",
    "    return a\n",
    "print(add())\n",
    "print(a) # global variable is accessed as it is in the scope of the program\n",
    "    # final print statement prints the updated global variable i.e a=2 "
   ]
  },
  {
   "cell_type": "markdown",
   "metadata": {},
   "source": [
    "### List"
   ]
  },
  {
   "cell_type": "code",
   "execution_count": 9,
   "metadata": {},
   "outputs": [
    {
     "name": "stdout",
     "output_type": "stream",
     "text": [
      "1\n",
      "5\n",
      "[2, 3]\n",
      "1\n",
      "5\n",
      "9\n"
     ]
    }
   ],
   "source": [
    "#create list \n",
    "a=[1,2,3,4,5] # list of integers \n",
    "b=[] # empty list\n",
    "c=[1,2.0,'a','b'] # list of different data types\n",
    "\n",
    "#accesing list elements\n",
    "print(a[0]) # accessing first element of the list\n",
    "print(a[-1]) # accessing last element of the list\n",
    "print(a[1:3]) # accessing elements from index 1 to 2 i.e 2 and 3 \n",
    "#[start:end] # end is not included\n",
    "\n",
    "#nested list or multidimenstion list\n",
    "a=[[1,2,3],[4,5,6],[7,8,9]] # nested list\n",
    "print(a[0][0]) # accessing first element of the first list\n",
    "print(a[1][1]) # accessing second element of the second list\n",
    "print(a[2][2]) # accessing third element of the third list\n",
    "\n"
   ]
  },
  {
   "cell_type": "code",
   "execution_count": 12,
   "metadata": {},
   "outputs": [
    {
     "name": "stdout",
     "output_type": "stream",
     "text": [
      "[10, 2, 3, 4, 5]\n",
      "[10, 20, 30, 40, 5]\n"
     ]
    }
   ],
   "source": [
    "#modify/change list elements\n",
    "a=[1,2,3,4,5]\n",
    "a[0]=10 # modifying first element of the list\n",
    "print(a)\n",
    "a[1:4]=[20,30,40] # modifying elements from index 1 to 3 i.e 2,3 and 4 to 20,30 and 40\n",
    "print(a)"
   ]
  },
  {
   "cell_type": "code",
   "execution_count": 14,
   "metadata": {},
   "outputs": [
    {
     "name": "stdout",
     "output_type": "stream",
     "text": [
      "[1, 2, 3, 4, 5, 6]\n",
      "[1, 2, 3, 4, 5, 6, 7, 8, 9, 10]\n"
     ]
    }
   ],
   "source": [
    "#append elements to the list\n",
    "a=[1,2,3,4,5]\n",
    "a.append(6) # appending 6 to the list\n",
    "print (a)\n",
    "\n",
    "#extend list with other list\n",
    "a=[1,2,3,4,5]\n",
    "b=[6,7,8,9,10] \n",
    "a.extend(b) # extending list a with list b\n",
    "print(a)\n"
   ]
  },
  {
   "cell_type": "code",
   "execution_count": 25,
   "metadata": {},
   "outputs": [
    {
     "name": "stdout",
     "output_type": "stream",
     "text": [
      "[0, 1, 2, 3, 2, 5]\n",
      "[1, 2, 3, 2, 5]\n",
      "[1, 3, 2, 5]\n",
      "[3, 2, 5]\n",
      "[2, 3, 5]\n",
      "[5, 3, 2]\n",
      "[1, 2, 3, 4, 5]\n"
     ]
    }
   ],
   "source": [
    "#inserting elements to the list in specific position\n",
    "a=[1,2,3,2,5]\n",
    "a.insert(0,0) # inserting 0 at index 0 . 0 is inserted at the beginning of the list and other elements are shifted to right\n",
    "print(a)\n",
    "\n",
    "#removing elements from the list\n",
    "del a[0] # deleting element at index 0\n",
    "print(a)\n",
    "\n",
    "a.remove(2) # removing element 2 from the list . only remove first occurrance of the element\n",
    "print(a)\n",
    "\n",
    "a.pop(0) # removing element at index 0\n",
    "print(a)\n",
    "\n",
    "a.sort() # sorting the list\n",
    "print(a)\n",
    "\n",
    "a.reverse() # reversing the list\n",
    "print(a)\n",
    "\n",
    "# copy list\n",
    "a=[1,2,3,4,5]\n",
    "b=a.copy() # copying list a to list b\n",
    "print(b)\n"
   ]
  },
  {
   "cell_type": "markdown",
   "metadata": {},
   "source": [
    "### Tuple\n"
   ]
  },
  {
   "cell_type": "code",
   "execution_count": 26,
   "metadata": {},
   "outputs": [
    {
     "name": "stdout",
     "output_type": "stream",
     "text": [
      "1 2 3 4 5\n"
     ]
    }
   ],
   "source": [
    "#creating tuple \n",
    "a=(1,2,3,4,5) # tuple of integers\n",
    "b=() # empty tuple\n",
    "c=(1,2.0,'a','b') # tuple of different data types\n",
    "d=(1,(2,3),[4,5]) # tuple with nested tuple and list\n",
    "\n",
    "#unpacking tuple\n",
    "T=(1,2,3,4,5)\n",
    "x,y,z,a,b=T # unpacking tuple T to variables x,y,z,a,b\n",
    "print(x,y,z,a,b)\n",
    "\n",
    "#indexing and slicing tuple\n",
    "T=(1,2,3,4,5)\n",
    "print(T[0]) # accessing first element of the tuple\n",
    "print(T[-1]) # accessing last element of the tuple\n",
    "print(T[1:3]) # accessing elements from index 1 to 2 i.e 2 and 3\n",
    "#[start:end] # end is not included\n",
    "\n"
   ]
  },
  {
   "cell_type": "code",
   "execution_count": 28,
   "metadata": {},
   "outputs": [
    {
     "name": "stdout",
     "output_type": "stream",
     "text": [
      "(10, 2, 3, 4, 5)\n",
      "(1, 2, 3, 4, 5, 6, 7, 8, 9, 10)\n"
     ]
    }
   ],
   "source": [
    "# modify tuple elements , since tuple is immutable we cannot modify the elements of the tuple . what we can do is convert to list, modify the list and convert back to tuple\n",
    "\n",
    "T=(1,2,3,4,5)\n",
    "L=list(T) # converting tuple to list\n",
    "L[0]=10 # modifying first element of the list\n",
    "T=tuple(L) # converting list to tuple\n",
    "print(T)\n",
    "\n",
    "#concatenate tuples with + operator\n",
    "T1=(1,2,3,4,5)\n",
    "T2=(6,7,8,9,10)\n",
    "T3=T1+T2 # concatenating tuples\n",
    "print(T3)\n"
   ]
  },
  {
   "cell_type": "code",
   "execution_count": 30,
   "metadata": {},
   "outputs": [
    {
     "name": "stdout",
     "output_type": "stream",
     "text": [
      "5\n",
      "4\n",
      "1\n",
      "2\n",
      "0\n"
     ]
    }
   ],
   "source": [
    "# methods of tuple\n",
    "T=(1,2,3,4,1)\n",
    "print(len(T)) # length of the tuple\n",
    "print(max(T)) # maximum element of the tuple\n",
    "print(min(T)) # minimum element of the tuple\n",
    "print(T.count(1)) # count of element 1 in the tuple\n",
    "print(T.index(1)) # index of element 1 in the tuple. only first occurance\n"
   ]
  },
  {
   "cell_type": "markdown",
   "metadata": {},
   "source": [
    "### String"
   ]
  },
  {
   "cell_type": "code",
   "execution_count": 31,
   "metadata": {},
   "outputs": [
    {
     "name": "stdout",
     "output_type": "stream",
     "text": [
      "h\n",
      "d\n",
      "el\n",
      "dlrow olleh\n"
     ]
    }
   ],
   "source": [
    "#creating string\n",
    "s='hello world' # string\n",
    "s1=\"hello world\" # string\n",
    "s2=\"\"\"hello world\"\"\" # string\n",
    "s3='''hello world''' # string\n",
    "\n",
    "#accessing string elements\n",
    "print(s[0]) # accessing first element of the string\n",
    "print(s[-1]) # accessing last element of the string\n",
    "print(s[1:3]) # accessing elements from index 1 to 2 i.e 2 and 3\n",
    "#[start:end] # end is not included\n",
    "\n",
    "#reverse string\n",
    "print(s[::-1]) # reverse string\n",
    "\n",
    "\n"
   ]
  },
  {
   "cell_type": "code",
   "execution_count": 32,
   "metadata": {},
   "outputs": [
    {
     "name": "stdout",
     "output_type": "stream",
     "text": [
      "Hello world\n"
     ]
    }
   ],
   "source": [
    "# similar to tuple , string is immutable . we cannot modify the elements of the string . what we can do is convert to list, modify the list and convert back to string\n",
    "\n",
    "s='hello world'\n",
    "L=list(s) # converting string to list\n",
    "L[0]='H' # modifying first element of the list to capital H\n",
    "s=''.join(L) # converting list to string\n",
    "print(s)"
   ]
  },
  {
   "cell_type": "code",
   "execution_count": 33,
   "metadata": {},
   "outputs": [
    {
     "name": "stdout",
     "output_type": "stream",
     "text": [
      "helloworld\n"
     ]
    }
   ],
   "source": [
    "#concatenate strings with + operator\n",
    "s1='hello'\n",
    "s2='world'\n",
    "s3=s1+s2 # concatenating strings\n",
    "print(s3)\n"
   ]
  },
  {
   "cell_type": "markdown",
   "metadata": {},
   "source": [
    "### SET"
   ]
  },
  {
   "cell_type": "code",
   "execution_count": 38,
   "metadata": {},
   "outputs": [
    {
     "name": "stdout",
     "output_type": "stream",
     "text": [
      "<class 'set'>\n",
      "<class 'set'>\n",
      "<class 'set'>\n",
      "<class 'set'>\n"
     ]
    }
   ],
   "source": [
    "# creating set\n",
    "a={1,2,3,4,5} # set of integers\n",
    "b=set() # empty set\n",
    "c={1,2.0,'a','b'} # set of different data types\n",
    "d={1,(2,3)} # set with nested tuple and list\n",
    "\n",
    "print(type(a)) # type of a is set\n",
    "print(type(b)) # type of b is set\n",
    "print(type(c)) # type of c is set\n",
    "print(type(d)) # type of d is set\n",
    "\n",
    "\n",
    "#accessing set elements , since set is unordered we cannot access the elements of the set using index. we can access the elements using for loop    \n"
   ]
  },
  {
   "cell_type": "code",
   "execution_count": 43,
   "metadata": {},
   "outputs": [
    {
     "name": "stdout",
     "output_type": "stream",
     "text": [
      "{1, 2, 3, 4, 5, 6}\n",
      "{1, 2, 3, 4, 5, 6, 8, 9, 15}\n",
      "{1, 2, 3, 4, 5, 6, 8, 9}\n",
      "{1, 2, 3, 4, 5, 6, 9}\n",
      "{2, 3, 4, 5, 6, 9}\n",
      "set()\n"
     ]
    }
   ],
   "source": [
    "# modify set elements \n",
    "a={1,2,3,4,5}\n",
    "a.add(6) # adding 6 to the set\n",
    "print(a)\n",
    "\n",
    "a.update([15,8,9]) # adding multiple elements to the set\n",
    "print(a)\n",
    "\n",
    "a.remove(15) # removing element 15 from the set\n",
    "print(a)\n",
    "\n",
    "a.discard(8) # removing element 8 from the set\n",
    "print(a)\n",
    "\n",
    "# remove and discard are same except that discard does not raise error if element is not present in the set\n",
    "\n",
    "a.pop() # removing random element from the set\n",
    "print(a)\n",
    "\n",
    "a.clear() # removing all elements from the set\n",
    "print(a)\n",
    "\n",
    "\n",
    "\n"
   ]
  },
  {
   "cell_type": "code",
   "execution_count": 44,
   "metadata": {},
   "outputs": [
    {
     "name": "stdout",
     "output_type": "stream",
     "text": [
      "{1, 2, 3, 4, 5, 6, 7, 8}\n",
      "{1, 2, 3, 4, 5, 6, 7, 8}\n",
      "{4, 5}\n",
      "{4, 5}\n",
      "{1, 2, 3}\n",
      "{1, 2, 3}\n",
      "{1, 2, 3, 6, 7, 8}\n",
      "{1, 2, 3, 6, 7, 8}\n",
      "False\n",
      "False\n"
     ]
    }
   ],
   "source": [
    "# set operations\n",
    "a={1,2,3,4,5}\n",
    "b={4,5,6,7,8}\n",
    "print(a.union(b)) # union of a and b\n",
    "print(a|b) # union of a and b\n",
    "print(a.intersection(b)) # intersection of a and b\n",
    "print(a&b) # intersection of a and b\n",
    "print(a.difference(b)) # difference of a and b\n",
    "print(a-b) # difference of a and b returns elements present in a but not in b\n",
    "\n",
    "# difference and symmetric difference are same except that symmetric difference returns elements which are not common in both sets\n",
    "\n",
    "print(a.symmetric_difference(b)) # symmetric difference of a and b\n",
    "print(a^b) # symmetric difference of a and b\n",
    "print(a.isdisjoint(b)) # check if a and b are disjoint sets\n",
    "print(a.issubset(b)) # check if a is subset of b\n",
    "\n",
    "\n",
    "\n",
    "\n",
    "\n"
   ]
  },
  {
   "cell_type": "code",
   "execution_count": 45,
   "metadata": {},
   "outputs": [
    {
     "name": "stdout",
     "output_type": "stream",
     "text": [
      "5\n",
      "5\n",
      "1\n",
      "{1, 2, 3, 4, 5}\n",
      "1\n",
      "None\n"
     ]
    }
   ],
   "source": [
    "#set methods\n",
    "a={1,2,3,4,5}\n",
    "print(len(a)) # length of the set\n",
    "print(max(a)) # maximum element of the set\n",
    "print(min(a)) # minimum element of the set\n",
    "print(a.copy()) # copy of the set\n",
    "print(a.pop()) # removing random element from the set\n",
    "print(a.clear()) # removing all elements from the set\n"
   ]
  },
  {
   "cell_type": "markdown",
   "metadata": {},
   "source": [
    "### Dictionary\n"
   ]
  },
  {
   "cell_type": "code",
   "execution_count": 47,
   "metadata": {},
   "outputs": [
    {
     "name": "stdout",
     "output_type": "stream",
     "text": [
      "<class 'dict'>\n",
      "<class 'dict'>\n",
      "<class 'dict'>\n",
      "<class 'dict'>\n",
      "<class 'dict'>\n",
      "<class 'dict'>\n"
     ]
    }
   ],
   "source": [
    "#create dictionary\n",
    "a={1:'a',2:'b',3:'c'} # dictionary with integer keys\n",
    "b={'a':1,'b':2,'c':3} # dictionary with string keys\n",
    "c={1:'a','b':2,3:'c'} # dictionary with integer and string keys\n",
    "d={1:'a',2:'b',3:{'a':1,'b':2}} # dictionary with nested dictionary \n",
    "e={} # empty dictionary\n",
    "f=dict() # empty dictionary\n",
    "\n",
    "print(type(a)) \n",
    "print(type(b))\n",
    "print(type(c))\n",
    "print(type(d))\n",
    "print(type(e))\n",
    "print(type(f))\n",
    "\n",
    "\n"
   ]
  },
  {
   "cell_type": "code",
   "execution_count": 49,
   "metadata": {},
   "outputs": [
    {
     "name": "stdout",
     "output_type": "stream",
     "text": [
      "1\n",
      "four\n",
      "1\n"
     ]
    }
   ],
   "source": [
    "#accessing dictionary elements with keys\n",
    "D={'one':1,'two':2,'three':3,4:'four',5:'five'}\n",
    "print(D['one']) # accessing value of key 'one'\n",
    "print(D[4]) # accessing value of key 4\n",
    "print(D.get('one')) # accessing value of key 'one'\n",
    "\n",
    "\n"
   ]
  },
  {
   "cell_type": "code",
   "execution_count": 54,
   "metadata": {},
   "outputs": [
    {
     "name": "stdout",
     "output_type": "stream",
     "text": [
      "{'one': 10, 'two': 2, 'three': 3, 4: 'four', 5: 'five'}\n",
      "{'one': 10, 'two': 2, 'three': 3, 4: 40, 5: 'five'}\n",
      "dict_items([('one', 10), ('two', 2), ('three', 3), (4, 40), (5, 'five')])\n",
      "dict_keys(['one', 'two', 'three', 4, 5])\n",
      "dict_values([10, 2, 3, 40, 'five'])\n",
      "{'two': 2, 'three': 3, 4: 40, 5: 'five'}\n",
      "4\n"
     ]
    }
   ],
   "source": [
    "# dictionary is mutable , we can modify the elements of the dictionary\n",
    "D={'one':1,'two':2,'three':3,4:'four',5:'five'}\n",
    "D['one']=10 # modifying value of key 'one'\n",
    "print(D)\n",
    "\n",
    "D[4]=40 # modifying value of key 4\n",
    "print(D)\n",
    "\n",
    "D.items() # returns list of tuples of key value pairs\n",
    "print(D.items())\n",
    "\n",
    "D.keys() # returns list of keys\n",
    "print(D.keys())\n",
    "\n",
    "D.values() # returns list of values\n",
    "print(D.values())\n",
    "\n",
    "D.pop('one') # removes key value pair with key 'one'\n",
    "print(D)\n",
    "\n",
    "print(len(D))\n",
    "\n",
    "\n",
    "D.clear() # removes all key value pairs from the dictionary\n"
   ]
  },
  {
   "cell_type": "code",
   "execution_count": null,
   "metadata": {},
   "outputs": [],
   "source": []
  }
 ],
 "metadata": {
  "kernelspec": {
   "display_name": "Python 3.10.6 ('fuseenv': venv)",
   "language": "python",
   "name": "python3"
  },
  "language_info": {
   "codemirror_mode": {
    "name": "ipython",
    "version": 3
   },
   "file_extension": ".py",
   "mimetype": "text/x-python",
   "name": "python",
   "nbconvert_exporter": "python",
   "pygments_lexer": "ipython3",
   "version": "3.10.6"
  },
  "orig_nbformat": 4,
  "vscode": {
   "interpreter": {
    "hash": "69f0e7c2f68833cab2413a38a7ab4cd36a562471866a82103712b58ddc6e4e9a"
   }
  }
 },
 "nbformat": 4,
 "nbformat_minor": 2
}
