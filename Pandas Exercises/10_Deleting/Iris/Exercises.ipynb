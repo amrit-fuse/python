{
 "cells": [
  {
   "cell_type": "markdown",
   "metadata": {},
   "source": [
    "# Iris"
   ]
  },
  {
   "cell_type": "markdown",
   "metadata": {},
   "source": [
    "### Introduction:\n",
    "\n",
    "This exercise may seem a little bit strange, but keep doing it.\n",
    "\n",
    "### Step 1. Import the necessary libraries"
   ]
  },
  {
   "cell_type": "code",
   "execution_count": 2,
   "metadata": {
    "collapsed": false
   },
   "outputs": [],
   "source": [
    "import pandas as pd\n",
    "import numpy as np\n",
    "import matplotlib.pyplot as plt\n",
    "import seaborn as sns"
   ]
  },
  {
   "cell_type": "markdown",
   "metadata": {},
   "source": [
    "### Step 2. Import the dataset from this [address](https://archive.ics.uci.edu/ml/machine-learning-databases/iris/iris.data). "
   ]
  },
  {
   "cell_type": "code",
   "execution_count": 1,
   "metadata": {},
   "outputs": [],
   "source": [
    "url=\"https://archive.ics.uci.edu/ml/machine-learning-databases/iris/iris.data\""
   ]
  },
  {
   "cell_type": "markdown",
   "metadata": {},
   "source": [
    "### Step 3. Assign it to a variable called iris"
   ]
  },
  {
   "cell_type": "code",
   "execution_count": 3,
   "metadata": {
    "collapsed": false
   },
   "outputs": [],
   "source": [
    "\n",
    "iris=pd.read_csv(url)\n",
    "\n"
   ]
  },
  {
   "cell_type": "markdown",
   "metadata": {},
   "source": [
    "### Step 4. Create columns for the dataset"
   ]
  },
  {
   "cell_type": "code",
   "execution_count": 4,
   "metadata": {
    "collapsed": false
   },
   "outputs": [],
   "source": [
    "# 1. sepal_length (in cm)\n",
    "# 2. sepal_width (in cm)\n",
    "# 3. petal_length (in cm)\n",
    "# 4. petal_width (in cm)\n",
    "# 5. class\n",
    "\n",
    "iris.columns=['sepal_length','sepal_width','petal_length','petal_width','class']\n",
    "iris.head()\n",
    "\n",
    "iris.to_csv('iris.csv',index=False)"
   ]
  },
  {
   "cell_type": "markdown",
   "metadata": {},
   "source": [
    "### Step 5.  Is there any missing value in the dataframe?"
   ]
  },
  {
   "cell_type": "code",
   "execution_count": 5,
   "metadata": {
    "collapsed": false
   },
   "outputs": [
    {
     "data": {
      "text/plain": [
       "sepal_length    0\n",
       "sepal_width     0\n",
       "petal_length    0\n",
       "petal_width     0\n",
       "class           0\n",
       "dtype: int64"
      ]
     },
     "execution_count": 5,
     "metadata": {},
     "output_type": "execute_result"
    }
   ],
   "source": [
    "iris.isnull().sum()  # no missing values"
   ]
  },
  {
   "cell_type": "markdown",
   "metadata": {},
   "source": [
    "### Step 6.  Lets set the values of the rows 10 to 29 of the column 'petal_length' to NaN"
   ]
  },
  {
   "cell_type": "code",
   "execution_count": 37,
   "metadata": {
    "collapsed": false
   },
   "outputs": [
    {
     "data": {
      "text/plain": [
       "10   NaN\n",
       "11   NaN\n",
       "12   NaN\n",
       "13   NaN\n",
       "14   NaN\n",
       "15   NaN\n",
       "16   NaN\n",
       "17   NaN\n",
       "18   NaN\n",
       "19   NaN\n",
       "20   NaN\n",
       "21   NaN\n",
       "22   NaN\n",
       "23   NaN\n",
       "24   NaN\n",
       "25   NaN\n",
       "26   NaN\n",
       "27   NaN\n",
       "28   NaN\n",
       "29   NaN\n",
       "Name: petal_length, dtype: float64"
      ]
     },
     "execution_count": 37,
     "metadata": {},
     "output_type": "execute_result"
    }
   ],
   "source": [
    "iris.loc[10:29,'petal_length']=np.nan  # np.nan is  from numpy library and is used to represent missing values\n",
    "iris.loc[10:29,'petal_length'] #  loc[row,column]"
   ]
  },
  {
   "cell_type": "markdown",
   "metadata": {},
   "source": [
    "### Step 7. Good, now lets substitute the NaN values to 1.0"
   ]
  },
  {
   "cell_type": "code",
   "execution_count": 38,
   "metadata": {
    "collapsed": false
   },
   "outputs": [
    {
     "data": {
      "text/plain": [
       "10    1.0\n",
       "11    1.0\n",
       "12    1.0\n",
       "13    1.0\n",
       "14    1.0\n",
       "15    1.0\n",
       "16    1.0\n",
       "17    1.0\n",
       "18    1.0\n",
       "19    1.0\n",
       "20    1.0\n",
       "21    1.0\n",
       "22    1.0\n",
       "23    1.0\n",
       "24    1.0\n",
       "25    1.0\n",
       "26    1.0\n",
       "27    1.0\n",
       "28    1.0\n",
       "29    1.0\n",
       "Name: petal_length, dtype: float64"
      ]
     },
     "execution_count": 38,
     "metadata": {},
     "output_type": "execute_result"
    }
   ],
   "source": [
    "iris.fillna(1.0,inplace=True)  \n",
    "iris.loc[10:29,'petal_length']\n"
   ]
  },
  {
   "cell_type": "markdown",
   "metadata": {},
   "source": [
    "### Step 8. Now let's delete the column class"
   ]
  },
  {
   "cell_type": "code",
   "execution_count": 39,
   "metadata": {
    "collapsed": false
   },
   "outputs": [
    {
     "data": {
      "text/html": [
       "<div>\n",
       "<style scoped>\n",
       "    .dataframe tbody tr th:only-of-type {\n",
       "        vertical-align: middle;\n",
       "    }\n",
       "\n",
       "    .dataframe tbody tr th {\n",
       "        vertical-align: top;\n",
       "    }\n",
       "\n",
       "    .dataframe thead th {\n",
       "        text-align: right;\n",
       "    }\n",
       "</style>\n",
       "<table border=\"1\" class=\"dataframe\">\n",
       "  <thead>\n",
       "    <tr style=\"text-align: right;\">\n",
       "      <th></th>\n",
       "      <th>sepal_length</th>\n",
       "      <th>sepal_width</th>\n",
       "      <th>petal_length</th>\n",
       "      <th>petal_width</th>\n",
       "    </tr>\n",
       "  </thead>\n",
       "  <tbody>\n",
       "    <tr>\n",
       "      <th>0</th>\n",
       "      <td>4.9</td>\n",
       "      <td>3.0</td>\n",
       "      <td>1.4</td>\n",
       "      <td>0.2</td>\n",
       "    </tr>\n",
       "    <tr>\n",
       "      <th>1</th>\n",
       "      <td>4.7</td>\n",
       "      <td>3.2</td>\n",
       "      <td>1.3</td>\n",
       "      <td>0.2</td>\n",
       "    </tr>\n",
       "    <tr>\n",
       "      <th>2</th>\n",
       "      <td>4.6</td>\n",
       "      <td>3.1</td>\n",
       "      <td>1.5</td>\n",
       "      <td>0.2</td>\n",
       "    </tr>\n",
       "    <tr>\n",
       "      <th>3</th>\n",
       "      <td>5.0</td>\n",
       "      <td>3.6</td>\n",
       "      <td>1.4</td>\n",
       "      <td>0.2</td>\n",
       "    </tr>\n",
       "    <tr>\n",
       "      <th>4</th>\n",
       "      <td>5.4</td>\n",
       "      <td>3.9</td>\n",
       "      <td>1.7</td>\n",
       "      <td>0.4</td>\n",
       "    </tr>\n",
       "  </tbody>\n",
       "</table>\n",
       "</div>"
      ],
      "text/plain": [
       "   sepal_length  sepal_width  petal_length  petal_width\n",
       "0           4.9          3.0           1.4          0.2\n",
       "1           4.7          3.2           1.3          0.2\n",
       "2           4.6          3.1           1.5          0.2\n",
       "3           5.0          3.6           1.4          0.2\n",
       "4           5.4          3.9           1.7          0.4"
      ]
     },
     "execution_count": 39,
     "metadata": {},
     "output_type": "execute_result"
    }
   ],
   "source": [
    "iris.drop('class',axis=1,inplace=True) # axis=1 means column\n",
    "iris.head()"
   ]
  },
  {
   "cell_type": "markdown",
   "metadata": {},
   "source": [
    "### Step 9.  Set the first 3 rows as NaN"
   ]
  },
  {
   "cell_type": "code",
   "execution_count": 41,
   "metadata": {
    "collapsed": false
   },
   "outputs": [
    {
     "data": {
      "text/html": [
       "<div>\n",
       "<style scoped>\n",
       "    .dataframe tbody tr th:only-of-type {\n",
       "        vertical-align: middle;\n",
       "    }\n",
       "\n",
       "    .dataframe tbody tr th {\n",
       "        vertical-align: top;\n",
       "    }\n",
       "\n",
       "    .dataframe thead th {\n",
       "        text-align: right;\n",
       "    }\n",
       "</style>\n",
       "<table border=\"1\" class=\"dataframe\">\n",
       "  <thead>\n",
       "    <tr style=\"text-align: right;\">\n",
       "      <th></th>\n",
       "      <th>sepal_length</th>\n",
       "      <th>sepal_width</th>\n",
       "      <th>petal_length</th>\n",
       "      <th>petal_width</th>\n",
       "    </tr>\n",
       "  </thead>\n",
       "  <tbody>\n",
       "    <tr>\n",
       "      <th>0</th>\n",
       "      <td>NaN</td>\n",
       "      <td>NaN</td>\n",
       "      <td>NaN</td>\n",
       "      <td>NaN</td>\n",
       "    </tr>\n",
       "    <tr>\n",
       "      <th>1</th>\n",
       "      <td>NaN</td>\n",
       "      <td>NaN</td>\n",
       "      <td>NaN</td>\n",
       "      <td>NaN</td>\n",
       "    </tr>\n",
       "    <tr>\n",
       "      <th>2</th>\n",
       "      <td>NaN</td>\n",
       "      <td>NaN</td>\n",
       "      <td>NaN</td>\n",
       "      <td>NaN</td>\n",
       "    </tr>\n",
       "    <tr>\n",
       "      <th>3</th>\n",
       "      <td>5.0</td>\n",
       "      <td>3.6</td>\n",
       "      <td>1.4</td>\n",
       "      <td>0.2</td>\n",
       "    </tr>\n",
       "    <tr>\n",
       "      <th>4</th>\n",
       "      <td>5.4</td>\n",
       "      <td>3.9</td>\n",
       "      <td>1.7</td>\n",
       "      <td>0.4</td>\n",
       "    </tr>\n",
       "  </tbody>\n",
       "</table>\n",
       "</div>"
      ],
      "text/plain": [
       "   sepal_length  sepal_width  petal_length  petal_width\n",
       "0           NaN          NaN           NaN          NaN\n",
       "1           NaN          NaN           NaN          NaN\n",
       "2           NaN          NaN           NaN          NaN\n",
       "3           5.0          3.6           1.4          0.2\n",
       "4           5.4          3.9           1.7          0.4"
      ]
     },
     "execution_count": 41,
     "metadata": {},
     "output_type": "execute_result"
    }
   ],
   "source": [
    "iris.loc[0:2,:]=np.nan   # ALERT !!!!   start:stop(including) means 0,1,2\n",
    "iris.head()"
   ]
  },
  {
   "cell_type": "markdown",
   "metadata": {},
   "source": [
    "### Step 10.  Delete the rows that have NaN"
   ]
  },
  {
   "cell_type": "code",
   "execution_count": 42,
   "metadata": {
    "collapsed": false
   },
   "outputs": [
    {
     "data": {
      "text/html": [
       "<div>\n",
       "<style scoped>\n",
       "    .dataframe tbody tr th:only-of-type {\n",
       "        vertical-align: middle;\n",
       "    }\n",
       "\n",
       "    .dataframe tbody tr th {\n",
       "        vertical-align: top;\n",
       "    }\n",
       "\n",
       "    .dataframe thead th {\n",
       "        text-align: right;\n",
       "    }\n",
       "</style>\n",
       "<table border=\"1\" class=\"dataframe\">\n",
       "  <thead>\n",
       "    <tr style=\"text-align: right;\">\n",
       "      <th></th>\n",
       "      <th>sepal_length</th>\n",
       "      <th>sepal_width</th>\n",
       "      <th>petal_length</th>\n",
       "      <th>petal_width</th>\n",
       "    </tr>\n",
       "  </thead>\n",
       "  <tbody>\n",
       "    <tr>\n",
       "      <th>3</th>\n",
       "      <td>5.0</td>\n",
       "      <td>3.6</td>\n",
       "      <td>1.4</td>\n",
       "      <td>0.2</td>\n",
       "    </tr>\n",
       "    <tr>\n",
       "      <th>4</th>\n",
       "      <td>5.4</td>\n",
       "      <td>3.9</td>\n",
       "      <td>1.7</td>\n",
       "      <td>0.4</td>\n",
       "    </tr>\n",
       "    <tr>\n",
       "      <th>5</th>\n",
       "      <td>4.6</td>\n",
       "      <td>3.4</td>\n",
       "      <td>1.4</td>\n",
       "      <td>0.3</td>\n",
       "    </tr>\n",
       "    <tr>\n",
       "      <th>6</th>\n",
       "      <td>5.0</td>\n",
       "      <td>3.4</td>\n",
       "      <td>1.5</td>\n",
       "      <td>0.2</td>\n",
       "    </tr>\n",
       "    <tr>\n",
       "      <th>7</th>\n",
       "      <td>4.4</td>\n",
       "      <td>2.9</td>\n",
       "      <td>1.4</td>\n",
       "      <td>0.2</td>\n",
       "    </tr>\n",
       "  </tbody>\n",
       "</table>\n",
       "</div>"
      ],
      "text/plain": [
       "   sepal_length  sepal_width  petal_length  petal_width\n",
       "3           5.0          3.6           1.4          0.2\n",
       "4           5.4          3.9           1.7          0.4\n",
       "5           4.6          3.4           1.4          0.3\n",
       "6           5.0          3.4           1.5          0.2\n",
       "7           4.4          2.9           1.4          0.2"
      ]
     },
     "execution_count": 42,
     "metadata": {},
     "output_type": "execute_result"
    }
   ],
   "source": [
    "iris.dropna(axis=0,inplace=True)\n",
    "iris.head()"
   ]
  },
  {
   "cell_type": "markdown",
   "metadata": {},
   "source": [
    "### Step 11. Reset the index so it begins with 0 again"
   ]
  },
  {
   "cell_type": "code",
   "execution_count": 43,
   "metadata": {
    "collapsed": false
   },
   "outputs": [
    {
     "data": {
      "text/html": [
       "<div>\n",
       "<style scoped>\n",
       "    .dataframe tbody tr th:only-of-type {\n",
       "        vertical-align: middle;\n",
       "    }\n",
       "\n",
       "    .dataframe tbody tr th {\n",
       "        vertical-align: top;\n",
       "    }\n",
       "\n",
       "    .dataframe thead th {\n",
       "        text-align: right;\n",
       "    }\n",
       "</style>\n",
       "<table border=\"1\" class=\"dataframe\">\n",
       "  <thead>\n",
       "    <tr style=\"text-align: right;\">\n",
       "      <th></th>\n",
       "      <th>sepal_length</th>\n",
       "      <th>sepal_width</th>\n",
       "      <th>petal_length</th>\n",
       "      <th>petal_width</th>\n",
       "    </tr>\n",
       "  </thead>\n",
       "  <tbody>\n",
       "    <tr>\n",
       "      <th>0</th>\n",
       "      <td>5.0</td>\n",
       "      <td>3.6</td>\n",
       "      <td>1.4</td>\n",
       "      <td>0.2</td>\n",
       "    </tr>\n",
       "    <tr>\n",
       "      <th>1</th>\n",
       "      <td>5.4</td>\n",
       "      <td>3.9</td>\n",
       "      <td>1.7</td>\n",
       "      <td>0.4</td>\n",
       "    </tr>\n",
       "    <tr>\n",
       "      <th>2</th>\n",
       "      <td>4.6</td>\n",
       "      <td>3.4</td>\n",
       "      <td>1.4</td>\n",
       "      <td>0.3</td>\n",
       "    </tr>\n",
       "    <tr>\n",
       "      <th>3</th>\n",
       "      <td>5.0</td>\n",
       "      <td>3.4</td>\n",
       "      <td>1.5</td>\n",
       "      <td>0.2</td>\n",
       "    </tr>\n",
       "    <tr>\n",
       "      <th>4</th>\n",
       "      <td>4.4</td>\n",
       "      <td>2.9</td>\n",
       "      <td>1.4</td>\n",
       "      <td>0.2</td>\n",
       "    </tr>\n",
       "  </tbody>\n",
       "</table>\n",
       "</div>"
      ],
      "text/plain": [
       "   sepal_length  sepal_width  petal_length  petal_width\n",
       "0           5.0          3.6           1.4          0.2\n",
       "1           5.4          3.9           1.7          0.4\n",
       "2           4.6          3.4           1.4          0.3\n",
       "3           5.0          3.4           1.5          0.2\n",
       "4           4.4          2.9           1.4          0.2"
      ]
     },
     "execution_count": 43,
     "metadata": {},
     "output_type": "execute_result"
    }
   ],
   "source": [
    "iris.reset_index(drop=True,inplace=True) # drop=True means drop the old index column\n",
    "# inplace=True means change the original dataframe  as we have rested the index\n",
    "iris.head()"
   ]
  },
  {
   "cell_type": "markdown",
   "metadata": {},
   "source": [
    "### BONUS: Create your own question and answer it."
   ]
  },
  {
   "cell_type": "code",
   "execution_count": 44,
   "metadata": {
    "collapsed": true
   },
   "outputs": [
    {
     "data": {
      "text/html": [
       "<div>\n",
       "<style scoped>\n",
       "    .dataframe tbody tr th:only-of-type {\n",
       "        vertical-align: middle;\n",
       "    }\n",
       "\n",
       "    .dataframe tbody tr th {\n",
       "        vertical-align: top;\n",
       "    }\n",
       "\n",
       "    .dataframe thead th {\n",
       "        text-align: right;\n",
       "    }\n",
       "</style>\n",
       "<table border=\"1\" class=\"dataframe\">\n",
       "  <thead>\n",
       "    <tr style=\"text-align: right;\">\n",
       "      <th></th>\n",
       "      <th>sepal_length</th>\n",
       "      <th>sepal_width</th>\n",
       "      <th>petal_length</th>\n",
       "      <th>petal_width</th>\n",
       "      <th>sepal_ratio</th>\n",
       "    </tr>\n",
       "  </thead>\n",
       "  <tbody>\n",
       "    <tr>\n",
       "      <th>0</th>\n",
       "      <td>5.0</td>\n",
       "      <td>3.6</td>\n",
       "      <td>1.4</td>\n",
       "      <td>0.2</td>\n",
       "      <td>1.388889</td>\n",
       "    </tr>\n",
       "    <tr>\n",
       "      <th>1</th>\n",
       "      <td>5.4</td>\n",
       "      <td>3.9</td>\n",
       "      <td>1.7</td>\n",
       "      <td>0.4</td>\n",
       "      <td>1.384615</td>\n",
       "    </tr>\n",
       "    <tr>\n",
       "      <th>2</th>\n",
       "      <td>4.6</td>\n",
       "      <td>3.4</td>\n",
       "      <td>1.4</td>\n",
       "      <td>0.3</td>\n",
       "      <td>1.352941</td>\n",
       "    </tr>\n",
       "    <tr>\n",
       "      <th>3</th>\n",
       "      <td>5.0</td>\n",
       "      <td>3.4</td>\n",
       "      <td>1.5</td>\n",
       "      <td>0.2</td>\n",
       "      <td>1.470588</td>\n",
       "    </tr>\n",
       "    <tr>\n",
       "      <th>4</th>\n",
       "      <td>4.4</td>\n",
       "      <td>2.9</td>\n",
       "      <td>1.4</td>\n",
       "      <td>0.2</td>\n",
       "      <td>1.517241</td>\n",
       "    </tr>\n",
       "  </tbody>\n",
       "</table>\n",
       "</div>"
      ],
      "text/plain": [
       "   sepal_length  sepal_width  petal_length  petal_width  sepal_ratio\n",
       "0           5.0          3.6           1.4          0.2     1.388889\n",
       "1           5.4          3.9           1.7          0.4     1.384615\n",
       "2           4.6          3.4           1.4          0.3     1.352941\n",
       "3           5.0          3.4           1.5          0.2     1.470588\n",
       "4           4.4          2.9           1.4          0.2     1.517241"
      ]
     },
     "execution_count": 44,
     "metadata": {},
     "output_type": "execute_result"
    }
   ],
   "source": [
    "#bonus question create a   seperate column of sepal ratio\n",
    "iris['sepal_ratio']=iris['sepal_length']/iris['sepal_width']\n",
    "iris.head()\n",
    "\n"
   ]
  },
  {
   "cell_type": "code",
   "execution_count": 48,
   "metadata": {},
   "outputs": [
    {
     "data": {
      "image/png": "[encoded data removed]",
      "image/svg+xml": "<?xml version=\"1.0\" encoding=\"utf-8\" standalone=\"no\"?>\n<!DOCTYPE svg PUBLIC \"-//W3C//DTD SVG 1.1//EN\"\n  \"http://www.w3.org/Graphics/SVG/1.1/DTD/svg11.dtd\">\n<svg xmlns:xlink=\"http://www.w3.org/1999/xlink\" width=\"405.565313pt\" height=\"311.482719pt\" viewBox=\"0 0 405.565313 311.482719\" xmlns=\"http://www.w3.org/2000/svg\" version=\"1.1\">\n <metadata>\n  <rdf:RDF xmlns:dc=\"http://purl.org/dc/elements/1.1/\" xmlns:cc=\"http://creativecommons.org/ns#\" xmlns:rdf=\"http://www.w3.org/1999/02/22-rdf-syntax-ns#\">\n   <cc:Work>\n    <dc:type rdf:resource=\"http://purl.org/dc/dcmitype/StillImage\"/>\n    <dc:date>2022-09-22T08:53:08.593001</dc:date>\n    <dc:format>image/svg+xml</dc:format>\n    <dc:creator>\n     <cc:Agent>\n      <dc:title>Matplotlib v3.6.0, https://matplotlib.org/</dc:title>\n     </cc:Agent>\n    </dc:creator>\n   </cc:Work>\n  </rdf:RDF>\n </metadata>\n <defs>\n  <style type=\"text/css\">*{stroke-linejoin: round; stroke-linecap: butt}</style>\n </defs>\n <g id=\"figure_1\">\n  <g id=\"patch_1\">\n   <path d=\"M 0 311.482719 \nL 405.565313 311.482719 \nL 405.565313 0 \nL 0 0 \nz\n\" style=\"fill: #ffffff\"/>\n  </g>\n  <g id=\"axes_1\">\n   <g id=\"patch_2\">\n    <path d=\"M 41.245312 274.874906 \nL 398.365313 274.874906 \nL 398.365313 8.762906 \nL 41.245312 8.762906 \nz\n\" style=\"fill: #ffffff\"/>\n   </g>\n   <g id=\"matplotlib.axis_1\">\n    <g id=\"xtick_1\">\n     <g id=\"line2d_1\">\n      <path d=\"M 75.514403 274.874906 \nL 75.514403 8.762906 \n\" clip-path=\"url(#p740a12ccef)\" style=\"fill: none; stroke: #cccccc; stroke-width: 0.8; stroke-linecap: round\"/>\n     </g>\n     <g id=\"text_1\">\n      <!-- 4.5 -->\n      <g style=\"fill: #262626\" transform=\"translate(68.564403 289.032719) scale(0.1 -0.1)\">\n       <defs>\n        <path id=\"ArialMT-34\" d=\"M 2069 0 \nL 2069 1097 \nL 81 1097 \nL 81 1613 \nL 2172 4581 \nL 2631 4581 \nL 2631 1613 \nL 3250 1613 \nL 3250 1097 \nL 2631 1097 \nL 2631 0 \nL 2069 0 \nz\nM 2069 1613 \nL 2069 3678 \nL 634 1613 \nL 2069 1613 \nz\n\" transform=\"scale(0.015625)\"/>\n        <path id=\"ArialMT-2e\" d=\"M 581 0 \nL 581 641 \nL 1222 641 \nL 1222 0 \nL 581 0 \nz\n\" transform=\"scale(0.015625)\"/>\n        <path id=\"ArialMT-35\" d=\"M 266 1200 \nL 856 1250 \nQ 922 819 1161 601 \nQ 1400 384 1738 384 \nQ 2144 384 2425 690 \nQ 2706 997 2706 1503 \nQ 2706 1984 2436 2262 \nQ 2166 2541 1728 2541 \nQ 1456 2541 1237 2417 \nQ 1019 2294 894 2097 \nL 366 2166 \nL 809 4519 \nL 3088 4519 \nL 3088 3981 \nL 1259 3981 \nL 1013 2750 \nQ 1425 3038 1878 3038 \nQ 2478 3038 2890 2622 \nQ 3303 2206 3303 1553 \nQ 3303 931 2941 478 \nQ 2500 -78 1738 -78 \nQ 1113 -78 717 272 \nQ 322 622 266 1200 \nz\n\" transform=\"scale(0.015625)\"/>\n       </defs>\n       <use xlink:href=\"#ArialMT-34\"/>\n       <use xlink:href=\"#ArialMT-2e\" x=\"55.615234\"/>\n       <use xlink:href=\"#ArialMT-35\" x=\"83.398438\"/>\n      </g>\n     </g>\n    </g>\n    <g id=\"xtick_2\">\n     <g id=\"line2d_2\">\n      <path d=\"M 120.605313 274.874906 \nL 120.605313 8.762906 \n\" clip-path=\"url(#p740a12ccef)\" style=\"fill: none; stroke: #cccccc; stroke-width: 0.8; stroke-linecap: round\"/>\n     </g>\n     <g id=\"text_2\">\n      <!-- 5.0 -->\n      <g style=\"fill: #262626\" transform=\"translate(113.655313 289.032719) scale(0.1 -0.1)\">\n       <defs>\n        <path id=\"ArialMT-30\" d=\"M 266 2259 \nQ 266 3072 433 3567 \nQ 600 4063 929 4331 \nQ 1259 4600 1759 4600 \nQ 2128 4600 2406 4451 \nQ 2684 4303 2865 4023 \nQ 3047 3744 3150 3342 \nQ 3253 2941 3253 2259 \nQ 3253 1453 3087 958 \nQ 2922 463 2592 192 \nQ 2263 -78 1759 -78 \nQ 1097 -78 719 397 \nQ 266 969 266 2259 \nz\nM 844 2259 \nQ 844 1131 1108 757 \nQ 1372 384 1759 384 \nQ 2147 384 2411 759 \nQ 2675 1134 2675 2259 \nQ 2675 3391 2411 3762 \nQ 2147 4134 1753 4134 \nQ 1366 4134 1134 3806 \nQ 844 3388 844 2259 \nz\n\" transform=\"scale(0.015625)\"/>\n       </defs>\n       <use xlink:href=\"#ArialMT-35\"/>\n       <use xlink:href=\"#ArialMT-2e\" x=\"55.615234\"/>\n       <use xlink:href=\"#ArialMT-30\" x=\"83.398438\"/>\n      </g>\n     </g>\n    </g>\n    <g id=\"xtick_3\">\n     <g id=\"line2d_3\">\n      <path d=\"M 165.696222 274.874906 \nL 165.696222 8.762906 \n\" clip-path=\"url(#p740a12ccef)\" style=\"fill: none; stroke: #cccccc; stroke-width: 0.8; stroke-linecap: round\"/>\n     </g>\n     <g id=\"text_3\">\n      <!-- 5.5 -->\n      <g style=\"fill: #262626\" transform=\"translate(158.746222 289.032719) scale(0.1 -0.1)\">\n       <use xlink:href=\"#ArialMT-35\"/>\n       <use xlink:href=\"#ArialMT-2e\" x=\"55.615234\"/>\n       <use xlink:href=\"#ArialMT-35\" x=\"83.398438\"/>\n      </g>\n     </g>\n    </g>\n    <g id=\"xtick_4\">\n     <g id=\"line2d_4\">\n      <path d=\"M 210.787131 274.874906 \nL 210.787131 8.762906 \n\" clip-path=\"url(#p740a12ccef)\" style=\"fill: none; stroke: #cccccc; stroke-width: 0.8; stroke-linecap: round\"/>\n     </g>\n     <g id=\"text_4\">\n      <!-- 6.0 -->\n      <g style=\"fill: #262626\" transform=\"translate(203.837131 289.032719) scale(0.1 -0.1)\">\n       <defs>\n        <path id=\"ArialMT-36\" d=\"M 3184 3459 \nL 2625 3416 \nQ 2550 3747 2413 3897 \nQ 2184 4138 1850 4138 \nQ 1581 4138 1378 3988 \nQ 1113 3794 959 3422 \nQ 806 3050 800 2363 \nQ 1003 2672 1297 2822 \nQ 1591 2972 1913 2972 \nQ 2475 2972 2870 2558 \nQ 3266 2144 3266 1488 \nQ 3266 1056 3080 686 \nQ 2894 316 2569 119 \nQ 2244 -78 1831 -78 \nQ 1128 -78 684 439 \nQ 241 956 241 2144 \nQ 241 3472 731 4075 \nQ 1159 4600 1884 4600 \nQ 2425 4600 2770 4297 \nQ 3116 3994 3184 3459 \nz\nM 888 1484 \nQ 888 1194 1011 928 \nQ 1134 663 1356 523 \nQ 1578 384 1822 384 \nQ 2178 384 2434 671 \nQ 2691 959 2691 1453 \nQ 2691 1928 2437 2201 \nQ 2184 2475 1800 2475 \nQ 1419 2475 1153 2201 \nQ 888 1928 888 1484 \nz\n\" transform=\"scale(0.015625)\"/>\n       </defs>\n       <use xlink:href=\"#ArialMT-36\"/>\n       <use xlink:href=\"#ArialMT-2e\" x=\"55.615234\"/>\n       <use xlink:href=\"#ArialMT-30\" x=\"83.398438\"/>\n      </g>\n     </g>\n    </g>\n    <g id=\"xtick_5\">\n     <g id=\"line2d_5\">\n      <path d=\"M 255.87804 274.874906 \nL 255.87804 8.762906 \n\" clip-path=\"url(#p740a12ccef)\" style=\"fill: none; stroke: #cccccc; stroke-width: 0.8; stroke-linecap: round\"/>\n     </g>\n     <g id=\"text_5\">\n      <!-- 6.5 -->\n      <g style=\"fill: #262626\" transform=\"translate(248.92804 289.032719) scale(0.1 -0.1)\">\n       <use xlink:href=\"#ArialMT-36\"/>\n       <use xlink:href=\"#ArialMT-2e\" x=\"55.615234\"/>\n       <use xlink:href=\"#ArialMT-35\" x=\"83.398438\"/>\n      </g>\n     </g>\n    </g>\n    <g id=\"xtick_6\">\n     <g id=\"line2d_6\">\n      <path d=\"M 300.968949 274.874906 \nL 300.968949 8.762906 \n\" clip-path=\"url(#p740a12ccef)\" style=\"fill: none; stroke: #cccccc; stroke-width: 0.8; stroke-linecap: round\"/>\n     </g>\n     <g id=\"text_6\">\n      <!-- 7.0 -->\n      <g style=\"fill: #262626\" transform=\"translate(294.018949 289.032719) scale(0.1 -0.1)\">\n       <defs>\n        <path id=\"ArialMT-37\" d=\"M 303 3981 \nL 303 4522 \nL 3269 4522 \nL 3269 4084 \nQ 2831 3619 2401 2847 \nQ 1972 2075 1738 1259 \nQ 1569 684 1522 0 \nL 944 0 \nQ 953 541 1156 1306 \nQ 1359 2072 1739 2783 \nQ 2119 3494 2547 3981 \nL 303 3981 \nz\n\" transform=\"scale(0.015625)\"/>\n       </defs>\n       <use xlink:href=\"#ArialMT-37\"/>\n       <use xlink:href=\"#ArialMT-2e\" x=\"55.615234\"/>\n       <use xlink:href=\"#ArialMT-30\" x=\"83.398438\"/>\n      </g>\n     </g>\n    </g>\n    <g id=\"xtick_7\">\n     <g id=\"line2d_7\">\n      <path d=\"M 346.059858 274.874906 \nL 346.059858 8.762906 \n\" clip-path=\"url(#p740a12ccef)\" style=\"fill: none; stroke: #cccccc; stroke-width: 0.8; stroke-linecap: round\"/>\n     </g>\n     <g id=\"text_7\">\n      <!-- 7.5 -->\n      <g style=\"fill: #262626\" transform=\"translate(339.109858 289.032719) scale(0.1 -0.1)\">\n       <use xlink:href=\"#ArialMT-37\"/>\n       <use xlink:href=\"#ArialMT-2e\" x=\"55.615234\"/>\n       <use xlink:href=\"#ArialMT-35\" x=\"83.398438\"/>\n      </g>\n     </g>\n    </g>\n    <g id=\"xtick_8\">\n     <g id=\"line2d_8\">\n      <path d=\"M 391.150767 274.874906 \nL 391.150767 8.762906 \n\" clip-path=\"url(#p740a12ccef)\" style=\"fill: none; stroke: #cccccc; stroke-width: 0.8; stroke-linecap: round\"/>\n     </g>\n     <g id=\"text_8\">\n      <!-- 8.0 -->\n      <g style=\"fill: #262626\" transform=\"translate(384.200767 289.032719) scale(0.1 -0.1)\">\n       <defs>\n        <path id=\"ArialMT-38\" d=\"M 1131 2484 \nQ 781 2613 612 2850 \nQ 444 3088 444 3419 \nQ 444 3919 803 4259 \nQ 1163 4600 1759 4600 \nQ 2359 4600 2725 4251 \nQ 3091 3903 3091 3403 \nQ 3091 3084 2923 2848 \nQ 2756 2613 2416 2484 \nQ 2838 2347 3058 2040 \nQ 3278 1734 3278 1309 \nQ 3278 722 2862 322 \nQ 2447 -78 1769 -78 \nQ 1091 -78 675 323 \nQ 259 725 259 1325 \nQ 259 1772 486 2073 \nQ 713 2375 1131 2484 \nz\nM 1019 3438 \nQ 1019 3113 1228 2906 \nQ 1438 2700 1772 2700 \nQ 2097 2700 2305 2904 \nQ 2513 3109 2513 3406 \nQ 2513 3716 2298 3927 \nQ 2084 4138 1766 4138 \nQ 1444 4138 1231 3931 \nQ 1019 3725 1019 3438 \nz\nM 838 1322 \nQ 838 1081 952 856 \nQ 1066 631 1291 507 \nQ 1516 384 1775 384 \nQ 2178 384 2440 643 \nQ 2703 903 2703 1303 \nQ 2703 1709 2433 1975 \nQ 2163 2241 1756 2241 \nQ 1359 2241 1098 1978 \nQ 838 1716 838 1322 \nz\n\" transform=\"scale(0.015625)\"/>\n       </defs>\n       <use xlink:href=\"#ArialMT-38\"/>\n       <use xlink:href=\"#ArialMT-2e\" x=\"55.615234\"/>\n       <use xlink:href=\"#ArialMT-30\" x=\"83.398438\"/>\n      </g>\n     </g>\n    </g>\n    <g id=\"text_9\">\n     <!-- sepal_length -->\n     <g style=\"fill: #262626\" transform=\"translate(191.450625 302.178031) scale(0.1 -0.1)\">\n      <defs>\n       <path id=\"ArialMT-73\" d=\"M 197 991 \nL 753 1078 \nQ 800 744 1014 566 \nQ 1228 388 1613 388 \nQ 2000 388 2187 545 \nQ 2375 703 2375 916 \nQ 2375 1106 2209 1216 \nQ 2094 1291 1634 1406 \nQ 1016 1563 777 1677 \nQ 538 1791 414 1992 \nQ 291 2194 291 2438 \nQ 291 2659 392 2848 \nQ 494 3038 669 3163 \nQ 800 3259 1026 3326 \nQ 1253 3394 1513 3394 \nQ 1903 3394 2198 3281 \nQ 2494 3169 2634 2976 \nQ 2775 2784 2828 2463 \nL 2278 2388 \nQ 2241 2644 2061 2787 \nQ 1881 2931 1553 2931 \nQ 1166 2931 1000 2803 \nQ 834 2675 834 2503 \nQ 834 2394 903 2306 \nQ 972 2216 1119 2156 \nQ 1203 2125 1616 2013 \nQ 2213 1853 2448 1751 \nQ 2684 1650 2818 1456 \nQ 2953 1263 2953 975 \nQ 2953 694 2789 445 \nQ 2625 197 2315 61 \nQ 2006 -75 1616 -75 \nQ 969 -75 630 194 \nQ 291 463 197 991 \nz\n\" transform=\"scale(0.015625)\"/>\n       <path id=\"ArialMT-65\" d=\"M 2694 1069 \nL 3275 997 \nQ 3138 488 2766 206 \nQ 2394 -75 1816 -75 \nQ 1088 -75 661 373 \nQ 234 822 234 1631 \nQ 234 2469 665 2931 \nQ 1097 3394 1784 3394 \nQ 2450 3394 2872 2941 \nQ 3294 2488 3294 1666 \nQ 3294 1616 3291 1516 \nL 816 1516 \nQ 847 969 1125 678 \nQ 1403 388 1819 388 \nQ 2128 388 2347 550 \nQ 2566 713 2694 1069 \nz\nM 847 1978 \nL 2700 1978 \nQ 2663 2397 2488 2606 \nQ 2219 2931 1791 2931 \nQ 1403 2931 1139 2672 \nQ 875 2413 847 1978 \nz\n\" transform=\"scale(0.015625)\"/>\n       <path id=\"ArialMT-70\" d=\"M 422 -1272 \nL 422 3319 \nL 934 3319 \nL 934 2888 \nQ 1116 3141 1344 3267 \nQ 1572 3394 1897 3394 \nQ 2322 3394 2647 3175 \nQ 2972 2956 3137 2557 \nQ 3303 2159 3303 1684 \nQ 3303 1175 3120 767 \nQ 2938 359 2589 142 \nQ 2241 -75 1856 -75 \nQ 1575 -75 1351 44 \nQ 1128 163 984 344 \nL 984 -1272 \nL 422 -1272 \nz\nM 931 1641 \nQ 931 1000 1190 694 \nQ 1450 388 1819 388 \nQ 2194 388 2461 705 \nQ 2728 1022 2728 1688 \nQ 2728 2322 2467 2637 \nQ 2206 2953 1844 2953 \nQ 1484 2953 1207 2617 \nQ 931 2281 931 1641 \nz\n\" transform=\"scale(0.015625)\"/>\n       <path id=\"ArialMT-61\" d=\"M 2588 409 \nQ 2275 144 1986 34 \nQ 1697 -75 1366 -75 \nQ 819 -75 525 192 \nQ 231 459 231 875 \nQ 231 1119 342 1320 \nQ 453 1522 633 1644 \nQ 813 1766 1038 1828 \nQ 1203 1872 1538 1913 \nQ 2219 1994 2541 2106 \nQ 2544 2222 2544 2253 \nQ 2544 2597 2384 2738 \nQ 2169 2928 1744 2928 \nQ 1347 2928 1158 2789 \nQ 969 2650 878 2297 \nL 328 2372 \nQ 403 2725 575 2942 \nQ 747 3159 1072 3276 \nQ 1397 3394 1825 3394 \nQ 2250 3394 2515 3294 \nQ 2781 3194 2906 3042 \nQ 3031 2891 3081 2659 \nQ 3109 2516 3109 2141 \nL 3109 1391 \nQ 3109 606 3145 398 \nQ 3181 191 3288 0 \nL 2700 0 \nQ 2613 175 2588 409 \nz\nM 2541 1666 \nQ 2234 1541 1622 1453 \nQ 1275 1403 1131 1340 \nQ 988 1278 909 1158 \nQ 831 1038 831 891 \nQ 831 666 1001 516 \nQ 1172 366 1500 366 \nQ 1825 366 2078 508 \nQ 2331 650 2450 897 \nQ 2541 1088 2541 1459 \nL 2541 1666 \nz\n\" transform=\"scale(0.015625)\"/>\n       <path id=\"ArialMT-6c\" d=\"M 409 0 \nL 409 4581 \nL 972 4581 \nL 972 0 \nL 409 0 \nz\n\" transform=\"scale(0.015625)\"/>\n       <path id=\"ArialMT-5f\" d=\"M -97 -1272 \nL -97 -866 \nL 3631 -866 \nL 3631 -1272 \nL -97 -1272 \nz\n\" transform=\"scale(0.015625)\"/>\n       <path id=\"ArialMT-6e\" d=\"M 422 0 \nL 422 3319 \nL 928 3319 \nL 928 2847 \nQ 1294 3394 1984 3394 \nQ 2284 3394 2536 3286 \nQ 2788 3178 2913 3003 \nQ 3038 2828 3088 2588 \nQ 3119 2431 3119 2041 \nL 3119 0 \nL 2556 0 \nL 2556 2019 \nQ 2556 2363 2490 2533 \nQ 2425 2703 2258 2804 \nQ 2091 2906 1866 2906 \nQ 1506 2906 1245 2678 \nQ 984 2450 984 1813 \nL 984 0 \nL 422 0 \nz\n\" transform=\"scale(0.015625)\"/>\n       <path id=\"ArialMT-67\" d=\"M 319 -275 \nL 866 -356 \nQ 900 -609 1056 -725 \nQ 1266 -881 1628 -881 \nQ 2019 -881 2231 -725 \nQ 2444 -569 2519 -288 \nQ 2563 -116 2559 434 \nQ 2191 0 1641 0 \nQ 956 0 581 494 \nQ 206 988 206 1678 \nQ 206 2153 378 2554 \nQ 550 2956 876 3175 \nQ 1203 3394 1644 3394 \nQ 2231 3394 2613 2919 \nL 2613 3319 \nL 3131 3319 \nL 3131 450 \nQ 3131 -325 2973 -648 \nQ 2816 -972 2473 -1159 \nQ 2131 -1347 1631 -1347 \nQ 1038 -1347 672 -1080 \nQ 306 -813 319 -275 \nz\nM 784 1719 \nQ 784 1066 1043 766 \nQ 1303 466 1694 466 \nQ 2081 466 2343 764 \nQ 2606 1063 2606 1700 \nQ 2606 2309 2336 2618 \nQ 2066 2928 1684 2928 \nQ 1309 2928 1046 2623 \nQ 784 2319 784 1719 \nz\n\" transform=\"scale(0.015625)\"/>\n       <path id=\"ArialMT-74\" d=\"M 1650 503 \nL 1731 6 \nQ 1494 -44 1306 -44 \nQ 1000 -44 831 53 \nQ 663 150 594 308 \nQ 525 466 525 972 \nL 525 2881 \nL 113 2881 \nL 113 3319 \nL 525 3319 \nL 525 4141 \nL 1084 4478 \nL 1084 3319 \nL 1650 3319 \nL 1650 2881 \nL 1084 2881 \nL 1084 941 \nQ 1084 700 1114 631 \nQ 1144 563 1211 522 \nQ 1278 481 1403 481 \nQ 1497 481 1650 503 \nz\n\" transform=\"scale(0.015625)\"/>\n       <path id=\"ArialMT-68\" d=\"M 422 0 \nL 422 4581 \nL 984 4581 \nL 984 2938 \nQ 1378 3394 1978 3394 \nQ 2347 3394 2619 3248 \nQ 2891 3103 3008 2847 \nQ 3125 2591 3125 2103 \nL 3125 0 \nL 2563 0 \nL 2563 2103 \nQ 2563 2525 2380 2717 \nQ 2197 2909 1863 2909 \nQ 1613 2909 1392 2779 \nQ 1172 2650 1078 2428 \nQ 984 2206 984 1816 \nL 984 0 \nL 422 0 \nz\n\" transform=\"scale(0.015625)\"/>\n      </defs>\n      <use xlink:href=\"#ArialMT-73\"/>\n      <use xlink:href=\"#ArialMT-65\" x=\"50\"/>\n      <use xlink:href=\"#ArialMT-70\" x=\"105.615234\"/>\n      <use xlink:href=\"#ArialMT-61\" x=\"161.230469\"/>\n      <use xlink:href=\"#ArialMT-6c\" x=\"216.845703\"/>\n      <use xlink:href=\"#ArialMT-5f\" x=\"239.0625\"/>\n      <use xlink:href=\"#ArialMT-6c\" x=\"294.677734\"/>\n      <use xlink:href=\"#ArialMT-65\" x=\"316.894531\"/>\n      <use xlink:href=\"#ArialMT-6e\" x=\"372.509766\"/>\n      <use xlink:href=\"#ArialMT-67\" x=\"428.125\"/>\n      <use xlink:href=\"#ArialMT-74\" x=\"483.740234\"/>\n      <use xlink:href=\"#ArialMT-68\" x=\"511.523438\"/>\n     </g>\n    </g>\n   </g>\n   <g id=\"matplotlib.axis_2\">\n    <g id=\"ytick_1\">\n     <g id=\"line2d_9\">\n      <path d=\"M 41.245312 262.778906 \nL 398.365313 262.778906 \n\" clip-path=\"url(#p740a12ccef)\" style=\"fill: none; stroke: #cccccc; stroke-width: 0.8; stroke-linecap: round\"/>\n     </g>\n     <g id=\"text_10\">\n      <!-- 2.0 -->\n      <g style=\"fill: #262626\" transform=\"translate(20.345312 266.357812) scale(0.1 -0.1)\">\n       <defs>\n        <path id=\"ArialMT-32\" d=\"M 3222 541 \nL 3222 0 \nL 194 0 \nQ 188 203 259 391 \nQ 375 700 629 1000 \nQ 884 1300 1366 1694 \nQ 2113 2306 2375 2664 \nQ 2638 3022 2638 3341 \nQ 2638 3675 2398 3904 \nQ 2159 4134 1775 4134 \nQ 1369 4134 1125 3890 \nQ 881 3647 878 3216 \nL 300 3275 \nQ 359 3922 746 4261 \nQ 1134 4600 1788 4600 \nQ 2447 4600 2831 4234 \nQ 3216 3869 3216 3328 \nQ 3216 3053 3103 2787 \nQ 2991 2522 2730 2228 \nQ 2469 1934 1863 1422 \nQ 1356 997 1212 845 \nQ 1069 694 975 541 \nL 3222 541 \nz\n\" transform=\"scale(0.015625)\"/>\n       </defs>\n       <use xlink:href=\"#ArialMT-32\"/>\n       <use xlink:href=\"#ArialMT-2e\" x=\"55.615234\"/>\n       <use xlink:href=\"#ArialMT-30\" x=\"83.398438\"/>\n      </g>\n     </g>\n    </g>\n    <g id=\"ytick_2\">\n     <g id=\"line2d_10\">\n      <path d=\"M 41.245312 212.378906 \nL 398.365313 212.378906 \n\" clip-path=\"url(#p740a12ccef)\" style=\"fill: none; stroke: #cccccc; stroke-width: 0.8; stroke-linecap: round\"/>\n     </g>\n     <g id=\"text_11\">\n      <!-- 2.5 -->\n      <g style=\"fill: #262626\" transform=\"translate(20.345312 215.957812) scale(0.1 -0.1)\">\n       <use xlink:href=\"#ArialMT-32\"/>\n       <use xlink:href=\"#ArialMT-2e\" x=\"55.615234\"/>\n       <use xlink:href=\"#ArialMT-35\" x=\"83.398438\"/>\n      </g>\n     </g>\n    </g>\n    <g id=\"ytick_3\">\n     <g id=\"line2d_11\">\n      <path d=\"M 41.245312 161.978906 \nL 398.365313 161.978906 \n\" clip-path=\"url(#p740a12ccef)\" style=\"fill: none; stroke: #cccccc; stroke-width: 0.8; stroke-linecap: round\"/>\n     </g>\n     <g id=\"text_12\">\n      <!-- 3.0 -->\n      <g style=\"fill: #262626\" transform=\"translate(20.345312 165.557812) scale(0.1 -0.1)\">\n       <defs>\n        <path id=\"ArialMT-33\" d=\"M 269 1209 \nL 831 1284 \nQ 928 806 1161 595 \nQ 1394 384 1728 384 \nQ 2125 384 2398 659 \nQ 2672 934 2672 1341 \nQ 2672 1728 2419 1979 \nQ 2166 2231 1775 2231 \nQ 1616 2231 1378 2169 \nL 1441 2663 \nQ 1497 2656 1531 2656 \nQ 1891 2656 2178 2843 \nQ 2466 3031 2466 3422 \nQ 2466 3731 2256 3934 \nQ 2047 4138 1716 4138 \nQ 1388 4138 1169 3931 \nQ 950 3725 888 3313 \nL 325 3413 \nQ 428 3978 793 4289 \nQ 1159 4600 1703 4600 \nQ 2078 4600 2393 4439 \nQ 2709 4278 2876 4000 \nQ 3044 3722 3044 3409 \nQ 3044 3113 2884 2869 \nQ 2725 2625 2413 2481 \nQ 2819 2388 3044 2092 \nQ 3269 1797 3269 1353 \nQ 3269 753 2831 336 \nQ 2394 -81 1725 -81 \nQ 1122 -81 723 278 \nQ 325 638 269 1209 \nz\n\" transform=\"scale(0.015625)\"/>\n       </defs>\n       <use xlink:href=\"#ArialMT-33\"/>\n       <use xlink:href=\"#ArialMT-2e\" x=\"55.615234\"/>\n       <use xlink:href=\"#ArialMT-30\" x=\"83.398438\"/>\n      </g>\n     </g>\n    </g>\n    <g id=\"ytick_4\">\n     <g id=\"line2d_12\">\n      <path d=\"M 41.245312 111.578906 \nL 398.365313 111.578906 \n\" clip-path=\"url(#p740a12ccef)\" style=\"fill: none; stroke: #cccccc; stroke-width: 0.8; stroke-linecap: round\"/>\n     </g>\n     <g id=\"text_13\">\n      <!-- 3.5 -->\n      <g style=\"fill: #262626\" transform=\"translate(20.345312 115.157812) scale(0.1 -0.1)\">\n       <use xlink:href=\"#ArialMT-33\"/>\n       <use xlink:href=\"#ArialMT-2e\" x=\"55.615234\"/>\n       <use xlink:href=\"#ArialMT-35\" x=\"83.398438\"/>\n      </g>\n     </g>\n    </g>\n    <g id=\"ytick_5\">\n     <g id=\"line2d_13\">\n      <path d=\"M 41.245312 61.178906 \nL 398.365313 61.178906 \n\" clip-path=\"url(#p740a12ccef)\" style=\"fill: none; stroke: #cccccc; stroke-width: 0.8; stroke-linecap: round\"/>\n     </g>\n     <g id=\"text_14\">\n      <!-- 4.0 -->\n      <g style=\"fill: #262626\" transform=\"translate(20.345312 64.757812) scale(0.1 -0.1)\">\n       <use xlink:href=\"#ArialMT-34\"/>\n       <use xlink:href=\"#ArialMT-2e\" x=\"55.615234\"/>\n       <use xlink:href=\"#ArialMT-30\" x=\"83.398438\"/>\n      </g>\n     </g>\n    </g>\n    <g id=\"ytick_6\">\n     <g id=\"line2d_14\">\n      <path d=\"M 41.245312 10.778906 \nL 398.365313 10.778906 \n\" clip-path=\"url(#p740a12ccef)\" style=\"fill: none; stroke: #cccccc; stroke-width: 0.8; stroke-linecap: round\"/>\n     </g>\n     <g id=\"text_15\">\n      <!-- 4.5 -->\n      <g style=\"fill: #262626\" transform=\"translate(20.345312 14.357812) scale(0.1 -0.1)\">\n       <use xlink:href=\"#ArialMT-34\"/>\n       <use xlink:href=\"#ArialMT-2e\" x=\"55.615234\"/>\n       <use xlink:href=\"#ArialMT-35\" x=\"83.398438\"/>\n      </g>\n     </g>\n    </g>\n    <g id=\"text_16\">\n     <!-- sepal_width -->\n     <g style=\"fill: #262626\" transform=\"translate(14.357812 168.223594) rotate(-90) scale(0.1 -0.1)\">\n      <defs>\n       <path id=\"ArialMT-77\" d=\"M 1034 0 \nL 19 3319 \nL 600 3319 \nL 1128 1403 \nL 1325 691 \nQ 1338 744 1497 1375 \nL 2025 3319 \nL 2603 3319 \nL 3100 1394 \nL 3266 759 \nL 3456 1400 \nL 4025 3319 \nL 4572 3319 \nL 3534 0 \nL 2950 0 \nL 2422 1988 \nL 2294 2553 \nL 1622 0 \nL 1034 0 \nz\n\" transform=\"scale(0.015625)\"/>\n       <path id=\"ArialMT-69\" d=\"M 425 3934 \nL 425 4581 \nL 988 4581 \nL 988 3934 \nL 425 3934 \nz\nM 425 0 \nL 425 3319 \nL 988 3319 \nL 988 0 \nL 425 0 \nz\n\" transform=\"scale(0.015625)\"/>\n       <path id=\"ArialMT-64\" d=\"M 2575 0 \nL 2575 419 \nQ 2259 -75 1647 -75 \nQ 1250 -75 917 144 \nQ 584 363 401 755 \nQ 219 1147 219 1656 \nQ 219 2153 384 2558 \nQ 550 2963 881 3178 \nQ 1213 3394 1622 3394 \nQ 1922 3394 2156 3267 \nQ 2391 3141 2538 2938 \nL 2538 4581 \nL 3097 4581 \nL 3097 0 \nL 2575 0 \nz\nM 797 1656 \nQ 797 1019 1065 703 \nQ 1334 388 1700 388 \nQ 2069 388 2326 689 \nQ 2584 991 2584 1609 \nQ 2584 2291 2321 2609 \nQ 2059 2928 1675 2928 \nQ 1300 2928 1048 2622 \nQ 797 2316 797 1656 \nz\n\" transform=\"scale(0.015625)\"/>\n      </defs>\n      <use xlink:href=\"#ArialMT-73\"/>\n      <use xlink:href=\"#ArialMT-65\" x=\"50\"/>\n      <use xlink:href=\"#ArialMT-70\" x=\"105.615234\"/>\n      <use xlink:href=\"#ArialMT-61\" x=\"161.230469\"/>\n      <use xlink:href=\"#ArialMT-6c\" x=\"216.845703\"/>\n      <use xlink:href=\"#ArialMT-5f\" x=\"239.0625\"/>\n      <use xlink:href=\"#ArialMT-77\" x=\"294.677734\"/>\n      <use xlink:href=\"#ArialMT-69\" x=\"366.894531\"/>\n      <use xlink:href=\"#ArialMT-64\" x=\"389.111328\"/>\n      <use xlink:href=\"#ArialMT-74\" x=\"444.726562\"/>\n      <use xlink:href=\"#ArialMT-68\" x=\"472.509766\"/>\n     </g>\n    </g>\n   </g>\n   <g id=\"PathCollection_1\">\n    <defs>\n     <path id=\"m54171e9318\" d=\"M 0 2.236068 \nC 0.593012 2.236068 1.161816 2.000462 1.581139 1.581139 \nC 2.000462 1.161816 2.236068 0.593012 2.236068 0 \nC 2.236068 -0.593012 2.000462 -1.161816 1.581139 -1.581139 \nC 1.161816 -2.000462 0.593012 -2.236068 0 -2.236068 \nC -0.593012 -2.236068 -1.161816 -2.000462 -1.581139 -1.581139 \nC -2.000462 -1.161816 -2.236068 -0.593012 -2.236068 0 \nC -2.236068 0.593012 -2.000462 1.161816 -1.581139 1.581139 \nC -1.161816 2.000462 -0.593012 2.236068 0 2.236068 \nz\n\" style=\"stroke: #ff0000\"/>\n    </defs>\n    <g clip-path=\"url(#p740a12ccef)\">\n     <use xlink:href=\"#m54171e9318\" x=\"120.605313\" y=\"101.498906\" style=\"fill: #ff0000; stroke: #ff0000\"/>\n     <use xlink:href=\"#m54171e9318\" x=\"156.67804\" y=\"71.258906\" style=\"fill: #ff0000; stroke: #ff0000\"/>\n     <use xlink:href=\"#m54171e9318\" x=\"84.532585\" y=\"121.658906\" style=\"fill: #ff0000; stroke: #ff0000\"/>\n     <use xlink:href=\"#m54171e9318\" x=\"120.605313\" y=\"121.658906\" style=\"fill: #ff0000; stroke: #ff0000\"/>\n     <use xlink:href=\"#m54171e9318\" x=\"66.496222\" y=\"172.058906\" style=\"fill: #ff0000; stroke: #ff0000\"/>\n     <use xlink:href=\"#m54171e9318\" x=\"111.587131\" y=\"151.898906\" style=\"fill: #ff0000; stroke: #ff0000\"/>\n     <use xlink:href=\"#m54171e9318\" x=\"156.67804\" y=\"91.418906\" style=\"fill: #ff0000; stroke: #ff0000\"/>\n     <use xlink:href=\"#m54171e9318\" x=\"102.568949\" y=\"121.658906\" style=\"fill: #ff0000; stroke: #ff0000\"/>\n     <use xlink:href=\"#m54171e9318\" x=\"102.568949\" y=\"161.978906\" style=\"fill: #ff0000; stroke: #ff0000\"/>\n     <use xlink:href=\"#m54171e9318\" x=\"57.47804\" y=\"161.978906\" style=\"fill: #ff0000; stroke: #ff0000\"/>\n     <use xlink:href=\"#m54171e9318\" x=\"192.750767\" y=\"61.178906\" style=\"fill: #ff0000; stroke: #ff0000\"/>\n     <use xlink:href=\"#m54171e9318\" x=\"183.732585\" y=\"20.858906\" style=\"fill: #ff0000; stroke: #ff0000\"/>\n     <use xlink:href=\"#m54171e9318\" x=\"156.67804\" y=\"71.258906\" style=\"fill: #ff0000; stroke: #ff0000\"/>\n     <use xlink:href=\"#m54171e9318\" x=\"129.623494\" y=\"111.578906\" style=\"fill: #ff0000; stroke: #ff0000\"/>\n     <use xlink:href=\"#m54171e9318\" x=\"183.732585\" y=\"81.338906\" style=\"fill: #ff0000; stroke: #ff0000\"/>\n     <use xlink:href=\"#m54171e9318\" x=\"129.623494\" y=\"81.338906\" style=\"fill: #ff0000; stroke: #ff0000\"/>\n     <use xlink:href=\"#m54171e9318\" x=\"156.67804\" y=\"121.658906\" style=\"fill: #ff0000; stroke: #ff0000\"/>\n     <use xlink:href=\"#m54171e9318\" x=\"129.623494\" y=\"91.418906\" style=\"fill: #ff0000; stroke: #ff0000\"/>\n     <use xlink:href=\"#m54171e9318\" x=\"84.532585\" y=\"101.498906\" style=\"fill: #ff0000; stroke: #ff0000\"/>\n     <use xlink:href=\"#m54171e9318\" x=\"129.623494\" y=\"131.738906\" style=\"fill: #ff0000; stroke: #ff0000\"/>\n     <use xlink:href=\"#m54171e9318\" x=\"102.568949\" y=\"121.658906\" style=\"fill: #ff0000; stroke: #ff0000\"/>\n     <use xlink:href=\"#m54171e9318\" x=\"120.605313\" y=\"161.978906\" style=\"fill: #ff0000; stroke: #ff0000\"/>\n     <use xlink:href=\"#m54171e9318\" x=\"120.605313\" y=\"121.658906\" style=\"fill: #ff0000; stroke: #ff0000\"/>\n     <use xlink:href=\"#m54171e9318\" x=\"138.641676\" y=\"111.578906\" style=\"fill: #ff0000; stroke: #ff0000\"/>\n     <use xlink:href=\"#m54171e9318\" x=\"138.641676\" y=\"121.658906\" style=\"fill: #ff0000; stroke: #ff0000\"/>\n     <use xlink:href=\"#m54171e9318\" x=\"93.550767\" y=\"141.818906\" style=\"fill: #ff0000; stroke: #ff0000\"/>\n     <use xlink:href=\"#m54171e9318\" x=\"102.568949\" y=\"151.898906\" style=\"fill: #ff0000; stroke: #ff0000\"/>\n     <use xlink:href=\"#m54171e9318\" x=\"156.67804\" y=\"121.658906\" style=\"fill: #ff0000; stroke: #ff0000\"/>\n     <use xlink:href=\"#m54171e9318\" x=\"138.641676\" y=\"51.098906\" style=\"fill: #ff0000; stroke: #ff0000\"/>\n     <use xlink:href=\"#m54171e9318\" x=\"165.696222\" y=\"41.018906\" style=\"fill: #ff0000; stroke: #ff0000\"/>\n     <use xlink:href=\"#m54171e9318\" x=\"111.587131\" y=\"151.898906\" style=\"fill: #ff0000; stroke: #ff0000\"/>\n     <use xlink:href=\"#m54171e9318\" x=\"120.605313\" y=\"141.818906\" style=\"fill: #ff0000; stroke: #ff0000\"/>\n     <use xlink:href=\"#m54171e9318\" x=\"165.696222\" y=\"111.578906\" style=\"fill: #ff0000; stroke: #ff0000\"/>\n     <use xlink:href=\"#m54171e9318\" x=\"111.587131\" y=\"151.898906\" style=\"fill: #ff0000; stroke: #ff0000\"/>\n     <use xlink:href=\"#m54171e9318\" x=\"66.496222\" y=\"161.978906\" style=\"fill: #ff0000; stroke: #ff0000\"/>\n     <use xlink:href=\"#m54171e9318\" x=\"129.623494\" y=\"121.658906\" style=\"fill: #ff0000; stroke: #ff0000\"/>\n     <use xlink:href=\"#m54171e9318\" x=\"120.605313\" y=\"111.578906\" style=\"fill: #ff0000; stroke: #ff0000\"/>\n     <use xlink:href=\"#m54171e9318\" x=\"75.514403\" y=\"232.538906\" style=\"fill: #ff0000; stroke: #ff0000\"/>\n     <use xlink:href=\"#m54171e9318\" x=\"66.496222\" y=\"141.818906\" style=\"fill: #ff0000; stroke: #ff0000\"/>\n     <use xlink:href=\"#m54171e9318\" x=\"120.605313\" y=\"111.578906\" style=\"fill: #ff0000; stroke: #ff0000\"/>\n     <use xlink:href=\"#m54171e9318\" x=\"129.623494\" y=\"81.338906\" style=\"fill: #ff0000; stroke: #ff0000\"/>\n     <use xlink:href=\"#m54171e9318\" x=\"102.568949\" y=\"161.978906\" style=\"fill: #ff0000; stroke: #ff0000\"/>\n     <use xlink:href=\"#m54171e9318\" x=\"129.623494\" y=\"81.338906\" style=\"fill: #ff0000; stroke: #ff0000\"/>\n     <use xlink:href=\"#m54171e9318\" x=\"84.532585\" y=\"141.818906\" style=\"fill: #ff0000; stroke: #ff0000\"/>\n     <use xlink:href=\"#m54171e9318\" x=\"147.659858\" y=\"91.418906\" style=\"fill: #ff0000; stroke: #ff0000\"/>\n     <use xlink:href=\"#m54171e9318\" x=\"120.605313\" y=\"131.738906\" style=\"fill: #ff0000; stroke: #ff0000\"/>\n     <use xlink:href=\"#m54171e9318\" x=\"300.968949\" y=\"141.818906\" style=\"fill: #ff0000; stroke: #ff0000\"/>\n     <use xlink:href=\"#m54171e9318\" x=\"246.859858\" y=\"141.818906\" style=\"fill: #ff0000; stroke: #ff0000\"/>\n     <use xlink:href=\"#m54171e9318\" x=\"291.950767\" y=\"151.898906\" style=\"fill: #ff0000; stroke: #ff0000\"/>\n     <use xlink:href=\"#m54171e9318\" x=\"165.696222\" y=\"232.538906\" style=\"fill: #ff0000; stroke: #ff0000\"/>\n     <use xlink:href=\"#m54171e9318\" x=\"255.87804\" y=\"182.138906\" style=\"fill: #ff0000; stroke: #ff0000\"/>\n     <use xlink:href=\"#m54171e9318\" x=\"183.732585\" y=\"182.138906\" style=\"fill: #ff0000; stroke: #ff0000\"/>\n     <use xlink:href=\"#m54171e9318\" x=\"237.841676\" y=\"131.738906\" style=\"fill: #ff0000; stroke: #ff0000\"/>\n     <use xlink:href=\"#m54171e9318\" x=\"111.587131\" y=\"222.458906\" style=\"fill: #ff0000; stroke: #ff0000\"/>\n     <use xlink:href=\"#m54171e9318\" x=\"264.896222\" y=\"172.058906\" style=\"fill: #ff0000; stroke: #ff0000\"/>\n     <use xlink:href=\"#m54171e9318\" x=\"138.641676\" y=\"192.218906\" style=\"fill: #ff0000; stroke: #ff0000\"/>\n     <use xlink:href=\"#m54171e9318\" x=\"120.605313\" y=\"262.778906\" style=\"fill: #ff0000; stroke: #ff0000\"/>\n     <use xlink:href=\"#m54171e9318\" x=\"201.768949\" y=\"161.978906\" style=\"fill: #ff0000; stroke: #ff0000\"/>\n     <use xlink:href=\"#m54171e9318\" x=\"210.787131\" y=\"242.618906\" style=\"fill: #ff0000; stroke: #ff0000\"/>\n     <use xlink:href=\"#m54171e9318\" x=\"219.805313\" y=\"172.058906\" style=\"fill: #ff0000; stroke: #ff0000\"/>\n     <use xlink:href=\"#m54171e9318\" x=\"174.714403\" y=\"172.058906\" style=\"fill: #ff0000; stroke: #ff0000\"/>\n     <use xlink:href=\"#m54171e9318\" x=\"273.914403\" y=\"151.898906\" style=\"fill: #ff0000; stroke: #ff0000\"/>\n     <use xlink:href=\"#m54171e9318\" x=\"174.714403\" y=\"161.978906\" style=\"fill: #ff0000; stroke: #ff0000\"/>\n     <use xlink:href=\"#m54171e9318\" x=\"192.750767\" y=\"192.218906\" style=\"fill: #ff0000; stroke: #ff0000\"/>\n     <use xlink:href=\"#m54171e9318\" x=\"228.823494\" y=\"242.618906\" style=\"fill: #ff0000; stroke: #ff0000\"/>\n     <use xlink:href=\"#m54171e9318\" x=\"174.714403\" y=\"212.378906\" style=\"fill: #ff0000; stroke: #ff0000\"/>\n     <use xlink:href=\"#m54171e9318\" x=\"201.768949\" y=\"141.818906\" style=\"fill: #ff0000; stroke: #ff0000\"/>\n     <use xlink:href=\"#m54171e9318\" x=\"219.805313\" y=\"182.138906\" style=\"fill: #ff0000; stroke: #ff0000\"/>\n     <use xlink:href=\"#m54171e9318\" x=\"237.841676\" y=\"212.378906\" style=\"fill: #ff0000; stroke: #ff0000\"/>\n     <use xlink:href=\"#m54171e9318\" x=\"219.805313\" y=\"182.138906\" style=\"fill: #ff0000; stroke: #ff0000\"/>\n     <use xlink:href=\"#m54171e9318\" x=\"246.859858\" y=\"172.058906\" style=\"fill: #ff0000; stroke: #ff0000\"/>\n     <use xlink:href=\"#m54171e9318\" x=\"264.896222\" y=\"161.978906\" style=\"fill: #ff0000; stroke: #ff0000\"/>\n     <use xlink:href=\"#m54171e9318\" x=\"282.932585\" y=\"182.138906\" style=\"fill: #ff0000; stroke: #ff0000\"/>\n     <use xlink:href=\"#m54171e9318\" x=\"273.914403\" y=\"161.978906\" style=\"fill: #ff0000; stroke: #ff0000\"/>\n     <use xlink:href=\"#m54171e9318\" x=\"210.787131\" y=\"172.058906\" style=\"fill: #ff0000; stroke: #ff0000\"/>\n     <use xlink:href=\"#m54171e9318\" x=\"183.732585\" y=\"202.298906\" style=\"fill: #ff0000; stroke: #ff0000\"/>\n     <use xlink:href=\"#m54171e9318\" x=\"165.696222\" y=\"222.458906\" style=\"fill: #ff0000; stroke: #ff0000\"/>\n     <use xlink:href=\"#m54171e9318\" x=\"165.696222\" y=\"222.458906\" style=\"fill: #ff0000; stroke: #ff0000\"/>\n     <use xlink:href=\"#m54171e9318\" x=\"192.750767\" y=\"192.218906\" style=\"fill: #ff0000; stroke: #ff0000\"/>\n     <use xlink:href=\"#m54171e9318\" x=\"210.787131\" y=\"192.218906\" style=\"fill: #ff0000; stroke: #ff0000\"/>\n     <use xlink:href=\"#m54171e9318\" x=\"156.67804\" y=\"161.978906\" style=\"fill: #ff0000; stroke: #ff0000\"/>\n     <use xlink:href=\"#m54171e9318\" x=\"210.787131\" y=\"121.658906\" style=\"fill: #ff0000; stroke: #ff0000\"/>\n     <use xlink:href=\"#m54171e9318\" x=\"273.914403\" y=\"151.898906\" style=\"fill: #ff0000; stroke: #ff0000\"/>\n     <use xlink:href=\"#m54171e9318\" x=\"237.841676\" y=\"232.538906\" style=\"fill: #ff0000; stroke: #ff0000\"/>\n     <use xlink:href=\"#m54171e9318\" x=\"174.714403\" y=\"161.978906\" style=\"fill: #ff0000; stroke: #ff0000\"/>\n     <use xlink:href=\"#m54171e9318\" x=\"165.696222\" y=\"212.378906\" style=\"fill: #ff0000; stroke: #ff0000\"/>\n     <use xlink:href=\"#m54171e9318\" x=\"165.696222\" y=\"202.298906\" style=\"fill: #ff0000; stroke: #ff0000\"/>\n     <use xlink:href=\"#m54171e9318\" x=\"219.805313\" y=\"161.978906\" style=\"fill: #ff0000; stroke: #ff0000\"/>\n     <use xlink:href=\"#m54171e9318\" x=\"192.750767\" y=\"202.298906\" style=\"fill: #ff0000; stroke: #ff0000\"/>\n     <use xlink:href=\"#m54171e9318\" x=\"120.605313\" y=\"232.538906\" style=\"fill: #ff0000; stroke: #ff0000\"/>\n     <use xlink:href=\"#m54171e9318\" x=\"174.714403\" y=\"192.218906\" style=\"fill: #ff0000; stroke: #ff0000\"/>\n     <use xlink:href=\"#m54171e9318\" x=\"183.732585\" y=\"161.978906\" style=\"fill: #ff0000; stroke: #ff0000\"/>\n     <use xlink:href=\"#m54171e9318\" x=\"183.732585\" y=\"172.058906\" style=\"fill: #ff0000; stroke: #ff0000\"/>\n     <use xlink:href=\"#m54171e9318\" x=\"228.823494\" y=\"172.058906\" style=\"fill: #ff0000; stroke: #ff0000\"/>\n     <use xlink:href=\"#m54171e9318\" x=\"129.623494\" y=\"212.378906\" style=\"fill: #ff0000; stroke: #ff0000\"/>\n     <use xlink:href=\"#m54171e9318\" x=\"183.732585\" y=\"182.138906\" style=\"fill: #ff0000; stroke: #ff0000\"/>\n     <use xlink:href=\"#m54171e9318\" x=\"237.841676\" y=\"131.738906\" style=\"fill: #ff0000; stroke: #ff0000\"/>\n     <use xlink:href=\"#m54171e9318\" x=\"192.750767\" y=\"192.218906\" style=\"fill: #ff0000; stroke: #ff0000\"/>\n     <use xlink:href=\"#m54171e9318\" x=\"309.987131\" y=\"161.978906\" style=\"fill: #ff0000; stroke: #ff0000\"/>\n     <use xlink:href=\"#m54171e9318\" x=\"237.841676\" y=\"172.058906\" style=\"fill: #ff0000; stroke: #ff0000\"/>\n     <use xlink:href=\"#m54171e9318\" x=\"255.87804\" y=\"161.978906\" style=\"fill: #ff0000; stroke: #ff0000\"/>\n     <use xlink:href=\"#m54171e9318\" x=\"355.07804\" y=\"161.978906\" style=\"fill: #ff0000; stroke: #ff0000\"/>\n     <use xlink:href=\"#m54171e9318\" x=\"111.587131\" y=\"212.378906\" style=\"fill: #ff0000; stroke: #ff0000\"/>\n     <use xlink:href=\"#m54171e9318\" x=\"328.023494\" y=\"172.058906\" style=\"fill: #ff0000; stroke: #ff0000\"/>\n     <use xlink:href=\"#m54171e9318\" x=\"273.914403\" y=\"212.378906\" style=\"fill: #ff0000; stroke: #ff0000\"/>\n     <use xlink:href=\"#m54171e9318\" x=\"319.005313\" y=\"101.498906\" style=\"fill: #ff0000; stroke: #ff0000\"/>\n     <use xlink:href=\"#m54171e9318\" x=\"255.87804\" y=\"141.818906\" style=\"fill: #ff0000; stroke: #ff0000\"/>\n     <use xlink:href=\"#m54171e9318\" x=\"246.859858\" y=\"192.218906\" style=\"fill: #ff0000; stroke: #ff0000\"/>\n     <use xlink:href=\"#m54171e9318\" x=\"282.932585\" y=\"161.978906\" style=\"fill: #ff0000; stroke: #ff0000\"/>\n     <use xlink:href=\"#m54171e9318\" x=\"183.732585\" y=\"212.378906\" style=\"fill: #ff0000; stroke: #ff0000\"/>\n     <use xlink:href=\"#m54171e9318\" x=\"192.750767\" y=\"182.138906\" style=\"fill: #ff0000; stroke: #ff0000\"/>\n     <use xlink:href=\"#m54171e9318\" x=\"246.859858\" y=\"141.818906\" style=\"fill: #ff0000; stroke: #ff0000\"/>\n     <use xlink:href=\"#m54171e9318\" x=\"255.87804\" y=\"161.978906\" style=\"fill: #ff0000; stroke: #ff0000\"/>\n     <use xlink:href=\"#m54171e9318\" x=\"364.096222\" y=\"81.338906\" style=\"fill: #ff0000; stroke: #ff0000\"/>\n     <use xlink:href=\"#m54171e9318\" x=\"364.096222\" y=\"202.298906\" style=\"fill: #ff0000; stroke: #ff0000\"/>\n     <use xlink:href=\"#m54171e9318\" x=\"210.787131\" y=\"242.618906\" style=\"fill: #ff0000; stroke: #ff0000\"/>\n     <use xlink:href=\"#m54171e9318\" x=\"291.950767\" y=\"141.818906\" style=\"fill: #ff0000; stroke: #ff0000\"/>\n     <use xlink:href=\"#m54171e9318\" x=\"174.714403\" y=\"182.138906\" style=\"fill: #ff0000; stroke: #ff0000\"/>\n     <use xlink:href=\"#m54171e9318\" x=\"364.096222\" y=\"182.138906\" style=\"fill: #ff0000; stroke: #ff0000\"/>\n     <use xlink:href=\"#m54171e9318\" x=\"237.841676\" y=\"192.218906\" style=\"fill: #ff0000; stroke: #ff0000\"/>\n     <use xlink:href=\"#m54171e9318\" x=\"273.914403\" y=\"131.738906\" style=\"fill: #ff0000; stroke: #ff0000\"/>\n     <use xlink:href=\"#m54171e9318\" x=\"319.005313\" y=\"141.818906\" style=\"fill: #ff0000; stroke: #ff0000\"/>\n     <use xlink:href=\"#m54171e9318\" x=\"228.823494\" y=\"182.138906\" style=\"fill: #ff0000; stroke: #ff0000\"/>\n     <use xlink:href=\"#m54171e9318\" x=\"219.805313\" y=\"161.978906\" style=\"fill: #ff0000; stroke: #ff0000\"/>\n     <use xlink:href=\"#m54171e9318\" x=\"246.859858\" y=\"182.138906\" style=\"fill: #ff0000; stroke: #ff0000\"/>\n     <use xlink:href=\"#m54171e9318\" x=\"319.005313\" y=\"161.978906\" style=\"fill: #ff0000; stroke: #ff0000\"/>\n     <use xlink:href=\"#m54171e9318\" x=\"337.041676\" y=\"182.138906\" style=\"fill: #ff0000; stroke: #ff0000\"/>\n     <use xlink:href=\"#m54171e9318\" x=\"382.132585\" y=\"81.338906\" style=\"fill: #ff0000; stroke: #ff0000\"/>\n     <use xlink:href=\"#m54171e9318\" x=\"246.859858\" y=\"182.138906\" style=\"fill: #ff0000; stroke: #ff0000\"/>\n     <use xlink:href=\"#m54171e9318\" x=\"237.841676\" y=\"182.138906\" style=\"fill: #ff0000; stroke: #ff0000\"/>\n     <use xlink:href=\"#m54171e9318\" x=\"219.805313\" y=\"202.298906\" style=\"fill: #ff0000; stroke: #ff0000\"/>\n     <use xlink:href=\"#m54171e9318\" x=\"364.096222\" y=\"161.978906\" style=\"fill: #ff0000; stroke: #ff0000\"/>\n     <use xlink:href=\"#m54171e9318\" x=\"237.841676\" y=\"121.658906\" style=\"fill: #ff0000; stroke: #ff0000\"/>\n     <use xlink:href=\"#m54171e9318\" x=\"246.859858\" y=\"151.898906\" style=\"fill: #ff0000; stroke: #ff0000\"/>\n     <use xlink:href=\"#m54171e9318\" x=\"210.787131\" y=\"161.978906\" style=\"fill: #ff0000; stroke: #ff0000\"/>\n     <use xlink:href=\"#m54171e9318\" x=\"291.950767\" y=\"151.898906\" style=\"fill: #ff0000; stroke: #ff0000\"/>\n     <use xlink:href=\"#m54171e9318\" x=\"273.914403\" y=\"151.898906\" style=\"fill: #ff0000; stroke: #ff0000\"/>\n     <use xlink:href=\"#m54171e9318\" x=\"291.950767\" y=\"151.898906\" style=\"fill: #ff0000; stroke: #ff0000\"/>\n     <use xlink:href=\"#m54171e9318\" x=\"192.750767\" y=\"192.218906\" style=\"fill: #ff0000; stroke: #ff0000\"/>\n     <use xlink:href=\"#m54171e9318\" x=\"282.932585\" y=\"141.818906\" style=\"fill: #ff0000; stroke: #ff0000\"/>\n     <use xlink:href=\"#m54171e9318\" x=\"273.914403\" y=\"131.738906\" style=\"fill: #ff0000; stroke: #ff0000\"/>\n     <use xlink:href=\"#m54171e9318\" x=\"273.914403\" y=\"161.978906\" style=\"fill: #ff0000; stroke: #ff0000\"/>\n     <use xlink:href=\"#m54171e9318\" x=\"237.841676\" y=\"212.378906\" style=\"fill: #ff0000; stroke: #ff0000\"/>\n     <use xlink:href=\"#m54171e9318\" x=\"255.87804\" y=\"161.978906\" style=\"fill: #ff0000; stroke: #ff0000\"/>\n     <use xlink:href=\"#m54171e9318\" x=\"228.823494\" y=\"121.658906\" style=\"fill: #ff0000; stroke: #ff0000\"/>\n     <use xlink:href=\"#m54171e9318\" x=\"201.768949\" y=\"161.978906\" style=\"fill: #ff0000; stroke: #ff0000\"/>\n    </g>\n   </g>\n   <g id=\"patch_3\">\n    <path d=\"M 41.245312 274.874906 \nL 41.245312 8.762906 \n\" style=\"fill: none; stroke: #cccccc; stroke-width: 0.8; stroke-linejoin: miter; stroke-linecap: square\"/>\n   </g>\n   <g id=\"patch_4\">\n    <path d=\"M 398.365313 274.874906 \nL 398.365313 8.762906 \n\" style=\"fill: none; stroke: #cccccc; stroke-width: 0.8; stroke-linejoin: miter; stroke-linecap: square\"/>\n   </g>\n   <g id=\"patch_5\">\n    <path d=\"M 41.245313 274.874906 \nL 398.365313 274.874906 \n\" style=\"fill: none; stroke: #cccccc; stroke-width: 0.8; stroke-linejoin: miter; stroke-linecap: square\"/>\n   </g>\n   <g id=\"patch_6\">\n    <path d=\"M 41.245313 8.762906 \nL 398.365313 8.762906 \n\" style=\"fill: none; stroke: #cccccc; stroke-width: 0.8; stroke-linejoin: miter; stroke-linecap: square\"/>\n   </g>\n   <g id=\"legend_1\">\n    <g id=\"patch_7\">\n     <path d=\"M 333.790313 31.030094 \nL 391.365313 31.030094 \nQ 393.365313 31.030094 393.365313 29.030094 \nL 393.365313 15.762906 \nQ 393.365313 13.762906 391.365313 13.762906 \nL 333.790313 13.762906 \nQ 331.790313 13.762906 331.790313 15.762906 \nL 331.790313 29.030094 \nQ 331.790313 31.030094 333.790313 31.030094 \nz\n\" style=\"fill: #ffffff; opacity: 0.8; stroke: #cccccc; stroke-linejoin: miter\"/>\n    </g>\n    <g id=\"PathCollection_2\">\n     <g>\n      <use xlink:href=\"#m54171e9318\" x=\"345.790313\" y=\"22.417594\" style=\"fill: #ff0000; stroke: #ff0000\"/>\n     </g>\n    </g>\n    <g id=\"text_17\">\n     <!-- Sepal -->\n     <g style=\"fill: #262626\" transform=\"translate(363.790313 25.042594) scale(0.1 -0.1)\">\n      <defs>\n       <path id=\"ArialMT-53\" d=\"M 288 1472 \nL 859 1522 \nQ 900 1178 1048 958 \nQ 1197 738 1509 602 \nQ 1822 466 2213 466 \nQ 2559 466 2825 569 \nQ 3091 672 3220 851 \nQ 3350 1031 3350 1244 \nQ 3350 1459 3225 1620 \nQ 3100 1781 2813 1891 \nQ 2628 1963 1997 2114 \nQ 1366 2266 1113 2400 \nQ 784 2572 623 2826 \nQ 463 3081 463 3397 \nQ 463 3744 659 4045 \nQ 856 4347 1234 4503 \nQ 1613 4659 2075 4659 \nQ 2584 4659 2973 4495 \nQ 3363 4331 3572 4012 \nQ 3781 3694 3797 3291 \nL 3216 3247 \nQ 3169 3681 2898 3903 \nQ 2628 4125 2100 4125 \nQ 1550 4125 1298 3923 \nQ 1047 3722 1047 3438 \nQ 1047 3191 1225 3031 \nQ 1400 2872 2139 2705 \nQ 2878 2538 3153 2413 \nQ 3553 2228 3743 1945 \nQ 3934 1663 3934 1294 \nQ 3934 928 3725 604 \nQ 3516 281 3123 101 \nQ 2731 -78 2241 -78 \nQ 1619 -78 1198 103 \nQ 778 284 539 648 \nQ 300 1013 288 1472 \nz\n\" transform=\"scale(0.015625)\"/>\n      </defs>\n      <use xlink:href=\"#ArialMT-53\"/>\n      <use xlink:href=\"#ArialMT-65\" x=\"66.699219\"/>\n      <use xlink:href=\"#ArialMT-70\" x=\"122.314453\"/>\n      <use xlink:href=\"#ArialMT-61\" x=\"177.929688\"/>\n      <use xlink:href=\"#ArialMT-6c\" x=\"233.544922\"/>\n     </g>\n    </g>\n   </g>\n  </g>\n </g>\n <defs>\n  <clipPath id=\"p740a12ccef\">\n   <rect x=\"41.245312\" y=\"8.762906\" width=\"357.12\" height=\"266.112\"/>\n  </clipPath>\n </defs>\n</svg>\n",
      "text/plain": [
       "<Figure size 640x480 with 1 Axes>"
      ]
     },
     "metadata": {},
     "output_type": "display_data"
    }
   ],
   "source": [
    "# plot the sepals\n",
    "iris.plot(kind='scatter',x='sepal_length',y='sepal_width',color='red',label='Sepal')\n",
    "plt.legend()\n",
    "plt.show()"
   ]
  },
  {
   "cell_type": "code",
   "execution_count": null,
   "metadata": {},
   "outputs": [],
   "source": []
  }
 ],
 "metadata": {
  "kernelspec": {
   "display_name": "Python 3.10.7 ('fuseenv': venv)",
   "language": "python",
   "name": "python3"
  },
  "language_info": {
   "codemirror_mode": {
    "name": "ipython",
    "version": 3
   },
   "file_extension": ".py",
   "mimetype": "text/x-python",
   "name": "python",
   "nbconvert_exporter": "python",
   "pygments_lexer": "ipython3",
   "version": "3.10.7"
  },
  "vscode": {
   "interpreter": {
    "hash": "235ff4895111486f0fa3900be5e4aea032cfb3f81c83401085e31d72be069099"
   }
  }
 },
 "nbformat": 4,
 "nbformat_minor": 0
}
