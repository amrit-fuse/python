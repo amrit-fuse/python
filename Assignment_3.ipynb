{
 "cells": [
  {
   "cell_type": "markdown",
   "metadata": {},
   "source": [
    "Dataset: HR dataset https://docs.google.com/spreadsheets/d/1PW-b9PF0j_x6yTwgLFWdv5-mjm2egnyYmfDftW9H0Pg/edit?usp=sharing \n",
    "\n",
    "Sheets:\n",
    "\n",
    "\t1. Employee\n",
    "\t2. Department\n",
    "\t3. Locations\n",
    "\t4. Job_history\n",
    "\t5. Jobs\n",
    "\n"
   ]
  },
  {
   "cell_type": "markdown",
   "metadata": {},
   "source": [
    "## All Imports"
   ]
  },
  {
   "cell_type": "code",
   "execution_count": 19,
   "metadata": {},
   "outputs": [],
   "source": [
    "import pandas as pd\n",
    "import openpyxl"
   ]
  },
  {
   "cell_type": "code",
   "execution_count": 20,
   "metadata": {},
   "outputs": [
    {
     "data": {
      "text/plain": [
       "['Employee', 'Department', 'Job_history', 'Locations', 'Jobs']"
      ]
     },
     "execution_count": 20,
     "metadata": {},
     "output_type": "execute_result"
    }
   ],
   "source": [
    "file_name = pd.ExcelFile('HR Dataset.xlsx')\n",
    "file_name.sheet_names"
   ]
  },
  {
   "cell_type": "code",
   "execution_count": 21,
   "metadata": {},
   "outputs": [
    {
     "data": {
      "text/html": [
       "<div>\n",
       "<style scoped>\n",
       "    .dataframe tbody tr th:only-of-type {\n",
       "        vertical-align: middle;\n",
       "    }\n",
       "\n",
       "    .dataframe tbody tr th {\n",
       "        vertical-align: top;\n",
       "    }\n",
       "\n",
       "    .dataframe thead th {\n",
       "        text-align: right;\n",
       "    }\n",
       "</style>\n",
       "<table border=\"1\" class=\"dataframe\">\n",
       "  <thead>\n",
       "    <tr style=\"text-align: right;\">\n",
       "      <th></th>\n",
       "      <th>employ_id</th>\n",
       "      <th>first_name</th>\n",
       "      <th>last_name</th>\n",
       "      <th>email</th>\n",
       "      <th>phone_number</th>\n",
       "      <th>hire_date</th>\n",
       "      <th>job_id</th>\n",
       "      <th>salary</th>\n",
       "      <th>commission_pct</th>\n",
       "      <th>manager_id</th>\n",
       "      <th>department_id</th>\n",
       "    </tr>\n",
       "  </thead>\n",
       "  <tbody>\n",
       "    <tr>\n",
       "      <th>0</th>\n",
       "      <td>100</td>\n",
       "      <td>Steven</td>\n",
       "      <td>King</td>\n",
       "      <td>SKING</td>\n",
       "      <td>515.123.4567</td>\n",
       "      <td>2003-06-17</td>\n",
       "      <td>AD_PRES</td>\n",
       "      <td>24000</td>\n",
       "      <td>NaN</td>\n",
       "      <td>NaN</td>\n",
       "      <td>90.0</td>\n",
       "    </tr>\n",
       "    <tr>\n",
       "      <th>1</th>\n",
       "      <td>101</td>\n",
       "      <td>Neena</td>\n",
       "      <td>Kochhar</td>\n",
       "      <td>NKOCHHAR</td>\n",
       "      <td>515.123.4568</td>\n",
       "      <td>2005-09-21</td>\n",
       "      <td>AD_VP</td>\n",
       "      <td>17000</td>\n",
       "      <td>NaN</td>\n",
       "      <td>100.0</td>\n",
       "      <td>90.0</td>\n",
       "    </tr>\n",
       "    <tr>\n",
       "      <th>2</th>\n",
       "      <td>102</td>\n",
       "      <td>Lex</td>\n",
       "      <td>De Haan</td>\n",
       "      <td>LDEHAAN</td>\n",
       "      <td>515.123.4569</td>\n",
       "      <td>2001-01-13</td>\n",
       "      <td>AD_VP</td>\n",
       "      <td>17000</td>\n",
       "      <td>NaN</td>\n",
       "      <td>100.0</td>\n",
       "      <td>90.0</td>\n",
       "    </tr>\n",
       "    <tr>\n",
       "      <th>3</th>\n",
       "      <td>103</td>\n",
       "      <td>Alexander</td>\n",
       "      <td>Hunold</td>\n",
       "      <td>AHUNOLD</td>\n",
       "      <td>590.423.4567</td>\n",
       "      <td>2006-01-03</td>\n",
       "      <td>IT_PROG</td>\n",
       "      <td>9000</td>\n",
       "      <td>NaN</td>\n",
       "      <td>102.0</td>\n",
       "      <td>60.0</td>\n",
       "    </tr>\n",
       "    <tr>\n",
       "      <th>4</th>\n",
       "      <td>104</td>\n",
       "      <td>Bruce</td>\n",
       "      <td>Ernst</td>\n",
       "      <td>BERNST</td>\n",
       "      <td>590.423.4568</td>\n",
       "      <td>2007-05-21</td>\n",
       "      <td>IT_PROG</td>\n",
       "      <td>6000</td>\n",
       "      <td>NaN</td>\n",
       "      <td>103.0</td>\n",
       "      <td>60.0</td>\n",
       "    </tr>\n",
       "  </tbody>\n",
       "</table>\n",
       "</div>"
      ],
      "text/plain": [
       "   employ_id first_name last_name     email  phone_number  hire_date   job_id  \\\n",
       "0        100     Steven      King     SKING  515.123.4567 2003-06-17  AD_PRES   \n",
       "1        101      Neena   Kochhar  NKOCHHAR  515.123.4568 2005-09-21    AD_VP   \n",
       "2        102        Lex   De Haan   LDEHAAN  515.123.4569 2001-01-13    AD_VP   \n",
       "3        103  Alexander    Hunold   AHUNOLD  590.423.4567 2006-01-03  IT_PROG   \n",
       "4        104      Bruce     Ernst    BERNST  590.423.4568 2007-05-21  IT_PROG   \n",
       "\n",
       "   salary  commission_pct  manager_id  department_id  \n",
       "0   24000             NaN         NaN           90.0  \n",
       "1   17000             NaN       100.0           90.0  \n",
       "2   17000             NaN       100.0           90.0  \n",
       "3    9000             NaN       102.0           60.0  \n",
       "4    6000             NaN       103.0           60.0  "
      ]
     },
     "execution_count": 21,
     "metadata": {},
     "output_type": "execute_result"
    }
   ],
   "source": [
    "Employee_df= file_name.parse('Employee')\n",
    "Department_df= file_name.parse('Department')\n",
    "Job_history_df= file_name.parse('Job_history')\n",
    "Locations_df= file_name.parse('Locations')\n",
    "Jobs_df= file_name.parse('Jobs')\n",
    "Employee_df.head()\n"
   ]
  },
  {
   "cell_type": "markdown",
   "metadata": {},
   "source": [
    "### 1. Count the NaN values of all the columns of locations file"
   ]
  },
  {
   "cell_type": "code",
   "execution_count": 22,
   "metadata": {},
   "outputs": [
    {
     "data": {
      "text/plain": [
       "location_id       0\n",
       "street_address    0\n",
       "postal_code       1\n",
       "city              0\n",
       "state_province    6\n",
       "country_id        0\n",
       "dtype: int64"
      ]
     },
     "execution_count": 22,
     "metadata": {},
     "output_type": "execute_result"
    }
   ],
   "source": [
    "Locations_df.isnull().sum() \n",
    "#isnull() returns a boolean value for each cell in the dataframe.\n",
    "# and sum() returns the sum of all the True values in each column."
   ]
  },
  {
   "cell_type": "markdown",
   "metadata": {},
   "source": [
    "### 2. Display the name, salary and department number for those employees whose first name ends with the letter 'm'"
   ]
  },
  {
   "cell_type": "code",
   "execution_count": 23,
   "metadata": {},
   "outputs": [
    {
     "data": {
      "text/html": [
       "<div>\n",
       "<style scoped>\n",
       "    .dataframe tbody tr th:only-of-type {\n",
       "        vertical-align: middle;\n",
       "    }\n",
       "\n",
       "    .dataframe tbody tr th {\n",
       "        vertical-align: top;\n",
       "    }\n",
       "\n",
       "    .dataframe thead th {\n",
       "        text-align: right;\n",
       "    }\n",
       "</style>\n",
       "<table border=\"1\" class=\"dataframe\">\n",
       "  <thead>\n",
       "    <tr style=\"text-align: right;\">\n",
       "      <th></th>\n",
       "      <th>first_name</th>\n",
       "      <th>last_name</th>\n",
       "      <th>salary</th>\n",
       "      <th>department_id</th>\n",
       "    </tr>\n",
       "  </thead>\n",
       "  <tbody>\n",
       "    <tr>\n",
       "      <th>20</th>\n",
       "      <td>Matthew</td>\n",
       "      <td>Weiss</td>\n",
       "      <td>8000</td>\n",
       "      <td>50.0</td>\n",
       "    </tr>\n",
       "    <tr>\n",
       "      <th>30</th>\n",
       "      <td>Mozhe</td>\n",
       "      <td>Atkinson</td>\n",
       "      <td>2800</td>\n",
       "      <td>50.0</td>\n",
       "    </tr>\n",
       "    <tr>\n",
       "      <th>34</th>\n",
       "      <td>Michael</td>\n",
       "      <td>Rogers</td>\n",
       "      <td>2900</td>\n",
       "      <td>50.0</td>\n",
       "    </tr>\n",
       "    <tr>\n",
       "      <th>64</th>\n",
       "      <td>Mattea</td>\n",
       "      <td>Marvins</td>\n",
       "      <td>7200</td>\n",
       "      <td>80.0</td>\n",
       "    </tr>\n",
       "    <tr>\n",
       "      <th>82</th>\n",
       "      <td>Martha</td>\n",
       "      <td>Sullivan</td>\n",
       "      <td>2500</td>\n",
       "      <td>50.0</td>\n",
       "    </tr>\n",
       "  </tbody>\n",
       "</table>\n",
       "</div>"
      ],
      "text/plain": [
       "   first_name last_name  salary  department_id\n",
       "20    Matthew     Weiss    8000           50.0\n",
       "30      Mozhe  Atkinson    2800           50.0\n",
       "34    Michael    Rogers    2900           50.0\n",
       "64     Mattea   Marvins    7200           80.0\n",
       "82     Martha  Sullivan    2500           50.0"
      ]
     },
     "execution_count": 23,
     "metadata": {},
     "output_type": "execute_result"
    }
   ],
   "source": [
    "selected_df=Employee_df[['first_name','last_name','salary','department_id']]\n",
    "#[[  ]] double brackets are used to select multiple columns  \n",
    "# selected_df.head()\n",
    "letter_m_df=selected_df[selected_df['first_name'].str.startswith('M')]\n",
    "\n",
    "letter_m_df.head()\n",
    "\n"
   ]
  },
  {
   "cell_type": "markdown",
   "metadata": {},
   "source": [
    "### 3. display the first name, last name, salary and department number for those employees whose first name ends with the letter 'd' or 'n' or 's' and also arrange the result in descending order by department id.\n"
   ]
  },
  {
   "cell_type": "code",
   "execution_count": 24,
   "metadata": {},
   "outputs": [
    {
     "data": {
      "text/html": [
       "<div>\n",
       "<style scoped>\n",
       "    .dataframe tbody tr th:only-of-type {\n",
       "        vertical-align: middle;\n",
       "    }\n",
       "\n",
       "    .dataframe tbody tr th {\n",
       "        vertical-align: top;\n",
       "    }\n",
       "\n",
       "    .dataframe thead th {\n",
       "        text-align: right;\n",
       "    }\n",
       "</style>\n",
       "<table border=\"1\" class=\"dataframe\">\n",
       "  <thead>\n",
       "    <tr style=\"text-align: right;\">\n",
       "      <th></th>\n",
       "      <th>first_name</th>\n",
       "      <th>last_name</th>\n",
       "      <th>salary</th>\n",
       "      <th>department_id</th>\n",
       "    </tr>\n",
       "  </thead>\n",
       "  <tbody>\n",
       "    <tr>\n",
       "      <th>105</th>\n",
       "      <td>Shelley</td>\n",
       "      <td>Higgins</td>\n",
       "      <td>12000</td>\n",
       "      <td>110.0</td>\n",
       "    </tr>\n",
       "    <tr>\n",
       "      <th>10</th>\n",
       "      <td>John</td>\n",
       "      <td>Chen</td>\n",
       "      <td>8200</td>\n",
       "      <td>100.0</td>\n",
       "    </tr>\n",
       "    <tr>\n",
       "      <th>12</th>\n",
       "      <td>Jose Manuel</td>\n",
       "      <td>Urman</td>\n",
       "      <td>7800</td>\n",
       "      <td>100.0</td>\n",
       "    </tr>\n",
       "    <tr>\n",
       "      <th>2</th>\n",
       "      <td>Lex</td>\n",
       "      <td>De Haan</td>\n",
       "      <td>17000</td>\n",
       "      <td>90.0</td>\n",
       "    </tr>\n",
       "    <tr>\n",
       "      <th>53</th>\n",
       "      <td>Christopher</td>\n",
       "      <td>Olsen</td>\n",
       "      <td>8000</td>\n",
       "      <td>80.0</td>\n",
       "    </tr>\n",
       "  </tbody>\n",
       "</table>\n",
       "</div>"
      ],
      "text/plain": [
       "      first_name last_name  salary  department_id\n",
       "105      Shelley   Higgins   12000          110.0\n",
       "10          John      Chen    8200          100.0\n",
       "12   Jose Manuel     Urman    7800          100.0\n",
       "2            Lex   De Haan   17000           90.0\n",
       "53   Christopher     Olsen    8000           80.0"
      ]
     },
     "execution_count": 24,
     "metadata": {},
     "output_type": "execute_result"
    }
   ],
   "source": [
    "selected_df=Employee_df[['first_name','last_name','salary','department_id']]\n",
    "end_d_n_s_df= selected_df[selected_df['last_name'].str.endswith(('d','n','s'))]\n",
    "end_d_n_s_df.sort_values(by='department_id',ascending=False).head()"
   ]
  },
  {
   "cell_type": "markdown",
   "metadata": {},
   "source": [
    "### 4. Find the employees who work either in department 70 or 90.\n"
   ]
  },
  {
   "cell_type": "code",
   "execution_count": 25,
   "metadata": {},
   "outputs": [
    {
     "data": {
      "text/html": [
       "<div>\n",
       "<style scoped>\n",
       "    .dataframe tbody tr th:only-of-type {\n",
       "        vertical-align: middle;\n",
       "    }\n",
       "\n",
       "    .dataframe tbody tr th {\n",
       "        vertical-align: top;\n",
       "    }\n",
       "\n",
       "    .dataframe thead th {\n",
       "        text-align: right;\n",
       "    }\n",
       "</style>\n",
       "<table border=\"1\" class=\"dataframe\">\n",
       "  <thead>\n",
       "    <tr style=\"text-align: right;\">\n",
       "      <th></th>\n",
       "      <th>employ_id</th>\n",
       "      <th>first_name</th>\n",
       "      <th>last_name</th>\n",
       "      <th>email</th>\n",
       "      <th>phone_number</th>\n",
       "      <th>hire_date</th>\n",
       "      <th>job_id</th>\n",
       "      <th>salary</th>\n",
       "      <th>commission_pct</th>\n",
       "      <th>manager_id</th>\n",
       "      <th>department_id</th>\n",
       "    </tr>\n",
       "  </thead>\n",
       "  <tbody>\n",
       "    <tr>\n",
       "      <th>0</th>\n",
       "      <td>100</td>\n",
       "      <td>Steven</td>\n",
       "      <td>King</td>\n",
       "      <td>SKING</td>\n",
       "      <td>515.123.4567</td>\n",
       "      <td>2003-06-17</td>\n",
       "      <td>AD_PRES</td>\n",
       "      <td>24000</td>\n",
       "      <td>NaN</td>\n",
       "      <td>NaN</td>\n",
       "      <td>90.0</td>\n",
       "    </tr>\n",
       "    <tr>\n",
       "      <th>1</th>\n",
       "      <td>101</td>\n",
       "      <td>Neena</td>\n",
       "      <td>Kochhar</td>\n",
       "      <td>NKOCHHAR</td>\n",
       "      <td>515.123.4568</td>\n",
       "      <td>2005-09-21</td>\n",
       "      <td>AD_VP</td>\n",
       "      <td>17000</td>\n",
       "      <td>NaN</td>\n",
       "      <td>100.0</td>\n",
       "      <td>90.0</td>\n",
       "    </tr>\n",
       "    <tr>\n",
       "      <th>2</th>\n",
       "      <td>102</td>\n",
       "      <td>Lex</td>\n",
       "      <td>De Haan</td>\n",
       "      <td>LDEHAAN</td>\n",
       "      <td>515.123.4569</td>\n",
       "      <td>2001-01-13</td>\n",
       "      <td>AD_VP</td>\n",
       "      <td>17000</td>\n",
       "      <td>NaN</td>\n",
       "      <td>100.0</td>\n",
       "      <td>90.0</td>\n",
       "    </tr>\n",
       "    <tr>\n",
       "      <th>104</th>\n",
       "      <td>204</td>\n",
       "      <td>Hermann</td>\n",
       "      <td>Baer</td>\n",
       "      <td>HBAER</td>\n",
       "      <td>515.123.8888</td>\n",
       "      <td>2002-06-07</td>\n",
       "      <td>PR_REP</td>\n",
       "      <td>10000</td>\n",
       "      <td>NaN</td>\n",
       "      <td>101.0</td>\n",
       "      <td>70.0</td>\n",
       "    </tr>\n",
       "  </tbody>\n",
       "</table>\n",
       "</div>"
      ],
      "text/plain": [
       "     employ_id first_name last_name     email  phone_number  hire_date  \\\n",
       "0          100     Steven      King     SKING  515.123.4567 2003-06-17   \n",
       "1          101      Neena   Kochhar  NKOCHHAR  515.123.4568 2005-09-21   \n",
       "2          102        Lex   De Haan   LDEHAAN  515.123.4569 2001-01-13   \n",
       "104        204    Hermann      Baer     HBAER  515.123.8888 2002-06-07   \n",
       "\n",
       "      job_id  salary  commission_pct  manager_id  department_id  \n",
       "0    AD_PRES   24000             NaN         NaN           90.0  \n",
       "1      AD_VP   17000             NaN       100.0           90.0  \n",
       "2      AD_VP   17000             NaN       100.0           90.0  \n",
       "104   PR_REP   10000             NaN       101.0           70.0  "
      ]
     },
     "execution_count": 25,
     "metadata": {},
     "output_type": "execute_result"
    }
   ],
   "source": [
    "dep_70_90=Employee_df[(Employee_df['department_id'].isin([70,90]))]\n",
    "dep_70_90.head()"
   ]
  },
  {
   "cell_type": "markdown",
   "metadata": {},
   "source": [
    "### 5. Display the first, last name, salary and department number for those employees who hold a letter n as a 3rd character in their first name. \n"
   ]
  },
  {
   "cell_type": "code",
   "execution_count": 26,
   "metadata": {},
   "outputs": [
    {
     "data": {
      "text/html": [
       "<div>\n",
       "<style scoped>\n",
       "    .dataframe tbody tr th:only-of-type {\n",
       "        vertical-align: middle;\n",
       "    }\n",
       "\n",
       "    .dataframe tbody tr th {\n",
       "        vertical-align: top;\n",
       "    }\n",
       "\n",
       "    .dataframe thead th {\n",
       "        text-align: right;\n",
       "    }\n",
       "</style>\n",
       "<table border=\"1\" class=\"dataframe\">\n",
       "  <thead>\n",
       "    <tr style=\"text-align: right;\">\n",
       "      <th></th>\n",
       "      <th>first_name</th>\n",
       "      <th>last_name</th>\n",
       "      <th>salary</th>\n",
       "      <th>department_id</th>\n",
       "    </tr>\n",
       "  </thead>\n",
       "  <tbody>\n",
       "    <tr>\n",
       "      <th>8</th>\n",
       "      <td>Nancy</td>\n",
       "      <td>Greenberg</td>\n",
       "      <td>12000</td>\n",
       "      <td>100.0</td>\n",
       "    </tr>\n",
       "    <tr>\n",
       "      <th>9</th>\n",
       "      <td>Daniel</td>\n",
       "      <td>Faviet</td>\n",
       "      <td>9000</td>\n",
       "      <td>100.0</td>\n",
       "    </tr>\n",
       "    <tr>\n",
       "      <th>14</th>\n",
       "      <td>Den</td>\n",
       "      <td>Raphaely</td>\n",
       "      <td>11000</td>\n",
       "      <td>30.0</td>\n",
       "    </tr>\n",
       "    <tr>\n",
       "      <th>37</th>\n",
       "      <td>Renske</td>\n",
       "      <td>Ladwig</td>\n",
       "      <td>3600</td>\n",
       "      <td>50.0</td>\n",
       "    </tr>\n",
       "    <tr>\n",
       "      <th>43</th>\n",
       "      <td>Randall</td>\n",
       "      <td>Matos</td>\n",
       "      <td>2600</td>\n",
       "      <td>50.0</td>\n",
       "    </tr>\n",
       "  </tbody>\n",
       "</table>\n",
       "</div>"
      ],
      "text/plain": [
       "   first_name  last_name  salary  department_id\n",
       "8       Nancy  Greenberg   12000          100.0\n",
       "9      Daniel     Faviet    9000          100.0\n",
       "14        Den   Raphaely   11000           30.0\n",
       "37     Renske     Ladwig    3600           50.0\n",
       "43    Randall      Matos    2600           50.0"
      ]
     },
     "execution_count": 26,
     "metadata": {},
     "output_type": "execute_result"
    }
   ],
   "source": [
    "selected_df=Employee_df[['first_name','last_name','salary','department_id']]\n",
    "letter_n_df=selected_df[selected_df['first_name'].str[2]=='n']\n",
    "letter_n_df.head()\n"
   ]
  },
  {
   "cell_type": "markdown",
   "metadata": {},
   "source": [
    "### 6. Display the first name, job id, salary and department for those employees not working in the departments 50,30 and 80\n"
   ]
  },
  {
   "cell_type": "code",
   "execution_count": 27,
   "metadata": {},
   "outputs": [
    {
     "data": {
      "text/html": [
       "<div>\n",
       "<style scoped>\n",
       "    .dataframe tbody tr th:only-of-type {\n",
       "        vertical-align: middle;\n",
       "    }\n",
       "\n",
       "    .dataframe tbody tr th {\n",
       "        vertical-align: top;\n",
       "    }\n",
       "\n",
       "    .dataframe thead th {\n",
       "        text-align: right;\n",
       "    }\n",
       "</style>\n",
       "<table border=\"1\" class=\"dataframe\">\n",
       "  <thead>\n",
       "    <tr style=\"text-align: right;\">\n",
       "      <th></th>\n",
       "      <th>first_name</th>\n",
       "      <th>job_id</th>\n",
       "      <th>salary</th>\n",
       "      <th>department_id</th>\n",
       "    </tr>\n",
       "  </thead>\n",
       "  <tbody>\n",
       "    <tr>\n",
       "      <th>0</th>\n",
       "      <td>Steven</td>\n",
       "      <td>AD_PRES</td>\n",
       "      <td>24000</td>\n",
       "      <td>90.0</td>\n",
       "    </tr>\n",
       "    <tr>\n",
       "      <th>1</th>\n",
       "      <td>Neena</td>\n",
       "      <td>AD_VP</td>\n",
       "      <td>17000</td>\n",
       "      <td>90.0</td>\n",
       "    </tr>\n",
       "    <tr>\n",
       "      <th>2</th>\n",
       "      <td>Lex</td>\n",
       "      <td>AD_VP</td>\n",
       "      <td>17000</td>\n",
       "      <td>90.0</td>\n",
       "    </tr>\n",
       "    <tr>\n",
       "      <th>3</th>\n",
       "      <td>Alexander</td>\n",
       "      <td>IT_PROG</td>\n",
       "      <td>9000</td>\n",
       "      <td>60.0</td>\n",
       "    </tr>\n",
       "    <tr>\n",
       "      <th>4</th>\n",
       "      <td>Bruce</td>\n",
       "      <td>IT_PROG</td>\n",
       "      <td>6000</td>\n",
       "      <td>60.0</td>\n",
       "    </tr>\n",
       "    <tr>\n",
       "      <th>5</th>\n",
       "      <td>David</td>\n",
       "      <td>IT_PROG</td>\n",
       "      <td>4800</td>\n",
       "      <td>60.0</td>\n",
       "    </tr>\n",
       "    <tr>\n",
       "      <th>6</th>\n",
       "      <td>Valli</td>\n",
       "      <td>IT_PROG</td>\n",
       "      <td>4800</td>\n",
       "      <td>60.0</td>\n",
       "    </tr>\n",
       "    <tr>\n",
       "      <th>7</th>\n",
       "      <td>Diana</td>\n",
       "      <td>IT_PROG</td>\n",
       "      <td>4200</td>\n",
       "      <td>60.0</td>\n",
       "    </tr>\n",
       "    <tr>\n",
       "      <th>8</th>\n",
       "      <td>Nancy</td>\n",
       "      <td>FI_MGR</td>\n",
       "      <td>12000</td>\n",
       "      <td>100.0</td>\n",
       "    </tr>\n",
       "    <tr>\n",
       "      <th>9</th>\n",
       "      <td>Daniel</td>\n",
       "      <td>FI_ACCOUNT</td>\n",
       "      <td>9000</td>\n",
       "      <td>100.0</td>\n",
       "    </tr>\n",
       "    <tr>\n",
       "      <th>10</th>\n",
       "      <td>John</td>\n",
       "      <td>FI_ACCOUNT</td>\n",
       "      <td>8200</td>\n",
       "      <td>100.0</td>\n",
       "    </tr>\n",
       "    <tr>\n",
       "      <th>11</th>\n",
       "      <td>Ismael</td>\n",
       "      <td>FI_ACCOUNT</td>\n",
       "      <td>7700</td>\n",
       "      <td>100.0</td>\n",
       "    </tr>\n",
       "    <tr>\n",
       "      <th>12</th>\n",
       "      <td>Jose Manuel</td>\n",
       "      <td>FI_ACCOUNT</td>\n",
       "      <td>7800</td>\n",
       "      <td>100.0</td>\n",
       "    </tr>\n",
       "    <tr>\n",
       "      <th>13</th>\n",
       "      <td>Luis</td>\n",
       "      <td>FI_ACCOUNT</td>\n",
       "      <td>6900</td>\n",
       "      <td>100.0</td>\n",
       "    </tr>\n",
       "    <tr>\n",
       "      <th>78</th>\n",
       "      <td>Kimberely</td>\n",
       "      <td>SA_REP</td>\n",
       "      <td>7000</td>\n",
       "      <td>NaN</td>\n",
       "    </tr>\n",
       "    <tr>\n",
       "      <th>100</th>\n",
       "      <td>Jennifer</td>\n",
       "      <td>AD_ASST</td>\n",
       "      <td>4400</td>\n",
       "      <td>10.0</td>\n",
       "    </tr>\n",
       "    <tr>\n",
       "      <th>101</th>\n",
       "      <td>Michael</td>\n",
       "      <td>MK_MAN</td>\n",
       "      <td>13000</td>\n",
       "      <td>20.0</td>\n",
       "    </tr>\n",
       "    <tr>\n",
       "      <th>102</th>\n",
       "      <td>Pat</td>\n",
       "      <td>MK_REP</td>\n",
       "      <td>6000</td>\n",
       "      <td>20.0</td>\n",
       "    </tr>\n",
       "    <tr>\n",
       "      <th>103</th>\n",
       "      <td>Susan</td>\n",
       "      <td>HR_REP</td>\n",
       "      <td>6500</td>\n",
       "      <td>40.0</td>\n",
       "    </tr>\n",
       "    <tr>\n",
       "      <th>104</th>\n",
       "      <td>Hermann</td>\n",
       "      <td>PR_REP</td>\n",
       "      <td>10000</td>\n",
       "      <td>70.0</td>\n",
       "    </tr>\n",
       "    <tr>\n",
       "      <th>105</th>\n",
       "      <td>Shelley</td>\n",
       "      <td>AC_MGR</td>\n",
       "      <td>12000</td>\n",
       "      <td>110.0</td>\n",
       "    </tr>\n",
       "    <tr>\n",
       "      <th>106</th>\n",
       "      <td>William</td>\n",
       "      <td>AC_ACCOUNT</td>\n",
       "      <td>8300</td>\n",
       "      <td>110.0</td>\n",
       "    </tr>\n",
       "  </tbody>\n",
       "</table>\n",
       "</div>"
      ],
      "text/plain": [
       "      first_name      job_id  salary  department_id\n",
       "0         Steven     AD_PRES   24000           90.0\n",
       "1          Neena       AD_VP   17000           90.0\n",
       "2            Lex       AD_VP   17000           90.0\n",
       "3      Alexander     IT_PROG    9000           60.0\n",
       "4          Bruce     IT_PROG    6000           60.0\n",
       "5          David     IT_PROG    4800           60.0\n",
       "6          Valli     IT_PROG    4800           60.0\n",
       "7          Diana     IT_PROG    4200           60.0\n",
       "8          Nancy      FI_MGR   12000          100.0\n",
       "9         Daniel  FI_ACCOUNT    9000          100.0\n",
       "10          John  FI_ACCOUNT    8200          100.0\n",
       "11        Ismael  FI_ACCOUNT    7700          100.0\n",
       "12   Jose Manuel  FI_ACCOUNT    7800          100.0\n",
       "13          Luis  FI_ACCOUNT    6900          100.0\n",
       "78     Kimberely      SA_REP    7000            NaN\n",
       "100     Jennifer     AD_ASST    4400           10.0\n",
       "101      Michael      MK_MAN   13000           20.0\n",
       "102          Pat      MK_REP    6000           20.0\n",
       "103        Susan      HR_REP    6500           40.0\n",
       "104      Hermann      PR_REP   10000           70.0\n",
       "105      Shelley      AC_MGR   12000          110.0\n",
       "106      William  AC_ACCOUNT    8300          110.0"
      ]
     },
     "execution_count": 27,
     "metadata": {},
     "output_type": "execute_result"
    }
   ],
   "source": [
    "selected_df=Employee_df[['first_name','job_id','salary','department_id']]\n",
    "not_50_30_80_df=selected_df[~selected_df['department_id'].isin([50,30,80])]\n",
    "# ~ is used to negate the condition \n",
    "not_50_30_80_df"
   ]
  },
  {
   "cell_type": "markdown",
   "metadata": {},
   "source": [
    "### 7. Display the ID for those employees who did two or more jobs in the past.\n"
   ]
  },
  {
   "cell_type": "code",
   "execution_count": 28,
   "metadata": {},
   "outputs": [
    {
     "data": {
      "text/plain": [
       "101    True\n",
       "200    True\n",
       "176    True\n",
       "Name: employee_id, dtype: bool"
      ]
     },
     "execution_count": 28,
     "metadata": {},
     "output_type": "execute_result"
    }
   ],
   "source": [
    "two_more_series=Job_history_df['employee_id'].value_counts()>=2 # gives a series with employee_id as index and boolean value as value for >=2\n",
    "two_more_series[two_more_series==True]"
   ]
  },
  {
   "cell_type": "markdown",
   "metadata": {},
   "source": [
    "OR"
   ]
  },
  {
   "cell_type": "code",
   "execution_count": 29,
   "metadata": {},
   "outputs": [
    {
     "data": {
      "text/plain": [
       "array([101, 200, 176], dtype=int64)"
      ]
     },
     "execution_count": 29,
     "metadata": {},
     "output_type": "execute_result"
    }
   ],
   "source": [
    "two_more_df =Job_history_df.groupby('employee_id').filter(lambda x: len(x) >= 2)\n",
    "#here we are grouping the dataframe by employee_id and then filtering the dataframe based on the length of the group\n",
    "two_more_df.employee_id.unique()"
   ]
  },
  {
   "cell_type": "markdown",
   "metadata": {},
   "source": [
    "### 8. Calculate minimum, maximum and mean salary from employees file\n"
   ]
  },
  {
   "cell_type": "code",
   "execution_count": 30,
   "metadata": {},
   "outputs": [
    {
     "data": {
      "text/plain": [
       "min      2100.000000\n",
       "max     24000.000000\n",
       "mean     6461.682243\n",
       "Name: salary, dtype: float64"
      ]
     },
     "execution_count": 30,
     "metadata": {},
     "output_type": "execute_result"
    }
   ],
   "source": [
    "min_max_mean_series=Employee_df['salary'].agg(['min','max','mean'])\n",
    "min_max_mean_series "
   ]
  },
  {
   "cell_type": "markdown",
   "metadata": {},
   "source": [
    "### 9. display the first and last name and date of joining of the employees who is either Sales Representative or Sales Man."
   ]
  },
  {
   "cell_type": "code",
   "execution_count": 39,
   "metadata": {},
   "outputs": [
    {
     "data": {
      "text/html": [
       "<div>\n",
       "<style scoped>\n",
       "    .dataframe tbody tr th:only-of-type {\n",
       "        vertical-align: middle;\n",
       "    }\n",
       "\n",
       "    .dataframe tbody tr th {\n",
       "        vertical-align: top;\n",
       "    }\n",
       "\n",
       "    .dataframe thead th {\n",
       "        text-align: right;\n",
       "    }\n",
       "</style>\n",
       "<table border=\"1\" class=\"dataframe\">\n",
       "  <thead>\n",
       "    <tr style=\"text-align: right;\">\n",
       "      <th></th>\n",
       "      <th>first_name</th>\n",
       "      <th>last_name</th>\n",
       "      <th>hire_date</th>\n",
       "      <th>job_title</th>\n",
       "    </tr>\n",
       "  </thead>\n",
       "  <tbody>\n",
       "    <tr>\n",
       "      <th>50</th>\n",
       "      <td>Peter</td>\n",
       "      <td>Tucker</td>\n",
       "      <td>2005-01-30</td>\n",
       "      <td>Sales Representative</td>\n",
       "    </tr>\n",
       "    <tr>\n",
       "      <th>51</th>\n",
       "      <td>David</td>\n",
       "      <td>Bernstein</td>\n",
       "      <td>2005-03-24</td>\n",
       "      <td>Sales Representative</td>\n",
       "    </tr>\n",
       "    <tr>\n",
       "      <th>52</th>\n",
       "      <td>Peter</td>\n",
       "      <td>Hall</td>\n",
       "      <td>2005-08-20</td>\n",
       "      <td>Sales Representative</td>\n",
       "    </tr>\n",
       "    <tr>\n",
       "      <th>53</th>\n",
       "      <td>Christopher</td>\n",
       "      <td>Olsen</td>\n",
       "      <td>2006-03-30</td>\n",
       "      <td>Sales Representative</td>\n",
       "    </tr>\n",
       "    <tr>\n",
       "      <th>54</th>\n",
       "      <td>Nanette</td>\n",
       "      <td>Cambrault</td>\n",
       "      <td>2006-12-09</td>\n",
       "      <td>Sales Representative</td>\n",
       "    </tr>\n",
       "    <tr>\n",
       "      <th>55</th>\n",
       "      <td>Oliver</td>\n",
       "      <td>Tuvault</td>\n",
       "      <td>2007-11-23</td>\n",
       "      <td>Sales Representative</td>\n",
       "    </tr>\n",
       "    <tr>\n",
       "      <th>56</th>\n",
       "      <td>Janette</td>\n",
       "      <td>King</td>\n",
       "      <td>2004-01-30</td>\n",
       "      <td>Sales Representative</td>\n",
       "    </tr>\n",
       "    <tr>\n",
       "      <th>57</th>\n",
       "      <td>Patrick</td>\n",
       "      <td>Sully</td>\n",
       "      <td>2004-03-04</td>\n",
       "      <td>Sales Representative</td>\n",
       "    </tr>\n",
       "    <tr>\n",
       "      <th>58</th>\n",
       "      <td>Allan</td>\n",
       "      <td>McEwen</td>\n",
       "      <td>2004-08-01</td>\n",
       "      <td>Sales Representative</td>\n",
       "    </tr>\n",
       "    <tr>\n",
       "      <th>59</th>\n",
       "      <td>Lindsey</td>\n",
       "      <td>Smith</td>\n",
       "      <td>2005-03-10</td>\n",
       "      <td>Sales Representative</td>\n",
       "    </tr>\n",
       "    <tr>\n",
       "      <th>60</th>\n",
       "      <td>Louise</td>\n",
       "      <td>Doran</td>\n",
       "      <td>2005-12-15</td>\n",
       "      <td>Sales Representative</td>\n",
       "    </tr>\n",
       "    <tr>\n",
       "      <th>61</th>\n",
       "      <td>Sarath</td>\n",
       "      <td>Sewall</td>\n",
       "      <td>2006-11-03</td>\n",
       "      <td>Sales Representative</td>\n",
       "    </tr>\n",
       "    <tr>\n",
       "      <th>62</th>\n",
       "      <td>Clara</td>\n",
       "      <td>Vishney</td>\n",
       "      <td>2005-11-11</td>\n",
       "      <td>Sales Representative</td>\n",
       "    </tr>\n",
       "    <tr>\n",
       "      <th>63</th>\n",
       "      <td>Danielle</td>\n",
       "      <td>Greene</td>\n",
       "      <td>2007-03-19</td>\n",
       "      <td>Sales Representative</td>\n",
       "    </tr>\n",
       "    <tr>\n",
       "      <th>64</th>\n",
       "      <td>Mattea</td>\n",
       "      <td>Marvins</td>\n",
       "      <td>2008-01-24</td>\n",
       "      <td>Sales Representative</td>\n",
       "    </tr>\n",
       "    <tr>\n",
       "      <th>65</th>\n",
       "      <td>David</td>\n",
       "      <td>Lee</td>\n",
       "      <td>2008-02-23</td>\n",
       "      <td>Sales Representative</td>\n",
       "    </tr>\n",
       "    <tr>\n",
       "      <th>66</th>\n",
       "      <td>Sundar</td>\n",
       "      <td>Ande</td>\n",
       "      <td>2008-03-24</td>\n",
       "      <td>Sales Representative</td>\n",
       "    </tr>\n",
       "    <tr>\n",
       "      <th>67</th>\n",
       "      <td>Amit</td>\n",
       "      <td>Banda</td>\n",
       "      <td>2008-04-21</td>\n",
       "      <td>Sales Representative</td>\n",
       "    </tr>\n",
       "    <tr>\n",
       "      <th>68</th>\n",
       "      <td>Lisa</td>\n",
       "      <td>Ozer</td>\n",
       "      <td>2005-03-11</td>\n",
       "      <td>Sales Representative</td>\n",
       "    </tr>\n",
       "    <tr>\n",
       "      <th>69</th>\n",
       "      <td>Harrison</td>\n",
       "      <td>Bloom</td>\n",
       "      <td>2006-03-23</td>\n",
       "      <td>Sales Representative</td>\n",
       "    </tr>\n",
       "    <tr>\n",
       "      <th>70</th>\n",
       "      <td>Tayler</td>\n",
       "      <td>Fox</td>\n",
       "      <td>2006-01-24</td>\n",
       "      <td>Sales Representative</td>\n",
       "    </tr>\n",
       "    <tr>\n",
       "      <th>71</th>\n",
       "      <td>William</td>\n",
       "      <td>Smith</td>\n",
       "      <td>2007-02-23</td>\n",
       "      <td>Sales Representative</td>\n",
       "    </tr>\n",
       "    <tr>\n",
       "      <th>72</th>\n",
       "      <td>Elizabeth</td>\n",
       "      <td>Bates</td>\n",
       "      <td>2007-03-24</td>\n",
       "      <td>Sales Representative</td>\n",
       "    </tr>\n",
       "    <tr>\n",
       "      <th>73</th>\n",
       "      <td>Sundita</td>\n",
       "      <td>Kumar</td>\n",
       "      <td>2008-04-21</td>\n",
       "      <td>Sales Representative</td>\n",
       "    </tr>\n",
       "    <tr>\n",
       "      <th>74</th>\n",
       "      <td>Ellen</td>\n",
       "      <td>Abel</td>\n",
       "      <td>2004-05-11</td>\n",
       "      <td>Sales Representative</td>\n",
       "    </tr>\n",
       "    <tr>\n",
       "      <th>75</th>\n",
       "      <td>Alyssa</td>\n",
       "      <td>Hutton</td>\n",
       "      <td>2005-03-19</td>\n",
       "      <td>Sales Representative</td>\n",
       "    </tr>\n",
       "    <tr>\n",
       "      <th>76</th>\n",
       "      <td>Jonathon</td>\n",
       "      <td>Taylor</td>\n",
       "      <td>2006-03-24</td>\n",
       "      <td>Sales Representative</td>\n",
       "    </tr>\n",
       "    <tr>\n",
       "      <th>77</th>\n",
       "      <td>Jack</td>\n",
       "      <td>Livingston</td>\n",
       "      <td>2006-04-23</td>\n",
       "      <td>Sales Representative</td>\n",
       "    </tr>\n",
       "    <tr>\n",
       "      <th>78</th>\n",
       "      <td>Kimberely</td>\n",
       "      <td>Grant</td>\n",
       "      <td>2007-05-24</td>\n",
       "      <td>Sales Representative</td>\n",
       "    </tr>\n",
       "    <tr>\n",
       "      <th>79</th>\n",
       "      <td>Charles</td>\n",
       "      <td>Johnson</td>\n",
       "      <td>2008-01-04</td>\n",
       "      <td>Sales Representative</td>\n",
       "    </tr>\n",
       "  </tbody>\n",
       "</table>\n",
       "</div>"
      ],
      "text/plain": [
       "     first_name   last_name  hire_date             job_title\n",
       "50        Peter      Tucker 2005-01-30  Sales Representative\n",
       "51        David   Bernstein 2005-03-24  Sales Representative\n",
       "52        Peter        Hall 2005-08-20  Sales Representative\n",
       "53  Christopher       Olsen 2006-03-30  Sales Representative\n",
       "54      Nanette   Cambrault 2006-12-09  Sales Representative\n",
       "55       Oliver     Tuvault 2007-11-23  Sales Representative\n",
       "56      Janette        King 2004-01-30  Sales Representative\n",
       "57      Patrick       Sully 2004-03-04  Sales Representative\n",
       "58        Allan      McEwen 2004-08-01  Sales Representative\n",
       "59      Lindsey       Smith 2005-03-10  Sales Representative\n",
       "60       Louise       Doran 2005-12-15  Sales Representative\n",
       "61       Sarath      Sewall 2006-11-03  Sales Representative\n",
       "62        Clara     Vishney 2005-11-11  Sales Representative\n",
       "63     Danielle      Greene 2007-03-19  Sales Representative\n",
       "64       Mattea     Marvins 2008-01-24  Sales Representative\n",
       "65        David         Lee 2008-02-23  Sales Representative\n",
       "66       Sundar        Ande 2008-03-24  Sales Representative\n",
       "67         Amit       Banda 2008-04-21  Sales Representative\n",
       "68         Lisa        Ozer 2005-03-11  Sales Representative\n",
       "69     Harrison       Bloom 2006-03-23  Sales Representative\n",
       "70       Tayler         Fox 2006-01-24  Sales Representative\n",
       "71      William       Smith 2007-02-23  Sales Representative\n",
       "72    Elizabeth       Bates 2007-03-24  Sales Representative\n",
       "73      Sundita       Kumar 2008-04-21  Sales Representative\n",
       "74        Ellen        Abel 2004-05-11  Sales Representative\n",
       "75       Alyssa      Hutton 2005-03-19  Sales Representative\n",
       "76     Jonathon      Taylor 2006-03-24  Sales Representative\n",
       "77         Jack  Livingston 2006-04-23  Sales Representative\n",
       "78    Kimberely       Grant 2007-05-24  Sales Representative\n",
       "79      Charles     Johnson 2008-01-04  Sales Representative"
      ]
     },
     "execution_count": 39,
     "metadata": {},
     "output_type": "execute_result"
    }
   ],
   "source": [
    "\n",
    "join_employee_jobs_df=pd.merge(Employee_df,Jobs_df,how='inner',on='job_id')\n",
    "\n",
    "selected_df=join_employee_jobs_df[['first_name','last_name','hire_date','job_title']].query ('job_title in [\"Sales Representative\",\"Sales Man\"]') \n",
    "\n",
    "selected_df "
   ]
  },
  {
   "cell_type": "markdown",
   "metadata": {},
   "source": [
    "### 10. display the first and last name, and department number for all employees whose last name is \"McEwen\".\n"
   ]
  },
  {
   "cell_type": "code",
   "execution_count": 51,
   "metadata": {},
   "outputs": [
    {
     "data": {
      "text/html": [
       "<div>\n",
       "<style scoped>\n",
       "    .dataframe tbody tr th:only-of-type {\n",
       "        vertical-align: middle;\n",
       "    }\n",
       "\n",
       "    .dataframe tbody tr th {\n",
       "        vertical-align: top;\n",
       "    }\n",
       "\n",
       "    .dataframe thead th {\n",
       "        text-align: right;\n",
       "    }\n",
       "</style>\n",
       "<table border=\"1\" class=\"dataframe\">\n",
       "  <thead>\n",
       "    <tr style=\"text-align: right;\">\n",
       "      <th></th>\n",
       "      <th>first_name</th>\n",
       "      <th>last_name</th>\n",
       "      <th>department_id</th>\n",
       "    </tr>\n",
       "  </thead>\n",
       "  <tbody>\n",
       "    <tr>\n",
       "      <th>58</th>\n",
       "      <td>Allan</td>\n",
       "      <td>McEwen</td>\n",
       "      <td>80.0</td>\n",
       "    </tr>\n",
       "  </tbody>\n",
       "</table>\n",
       "</div>"
      ],
      "text/plain": [
       "   first_name last_name  department_id\n",
       "58      Allan    McEwen           80.0"
      ]
     },
     "execution_count": 51,
     "metadata": {},
     "output_type": "execute_result"
    }
   ],
   "source": [
    "selected_df=Employee_df[['first_name','last_name','department_id']].query(\"last_name=='McEwen'\")\n",
    "# selected_df=selected_df.query(\"last_name=='McEwen'\")\n",
    "selected_df.head()\n"
   ]
  },
  {
   "cell_type": "markdown",
   "metadata": {},
   "source": [
    "### 11. create and display a boolean series, where True for not null and False for null values or missing values in state_province column of locations file.\n"
   ]
  },
  {
   "cell_type": "code",
   "execution_count": 52,
   "metadata": {},
   "outputs": [
    {
     "data": {
      "text/plain": [
       "0      True\n",
       "1      True\n",
       "2     False\n",
       "3      True\n",
       "4     False\n",
       "5     False\n",
       "6     False\n",
       "7     False\n",
       "8     False\n",
       "9     False\n",
       "10     True\n",
       "11    False\n",
       "12    False\n",
       "13     True\n",
       "14     True\n",
       "15    False\n",
       "16    False\n",
       "17    False\n",
       "18    False\n",
       "19    False\n",
       "20    False\n",
       "21    False\n",
       "22    False\n",
       "Name: state_province, dtype: bool"
      ]
     },
     "execution_count": 52,
     "metadata": {},
     "output_type": "execute_result"
    }
   ],
   "source": [
    "Locations_df.state_province.isnull()"
   ]
  },
  {
   "cell_type": "markdown",
   "metadata": {},
   "source": [
    "### 12. Compute the average salary earned by each department with department name\n"
   ]
  },
  {
   "cell_type": "code",
   "execution_count": 57,
   "metadata": {},
   "outputs": [
    {
     "data": {
      "text/plain": [
       "department_name\n",
       "Accounting          10150.000000\n",
       "Administration       4400.000000\n",
       "Executive           19333.333333\n",
       "Finance              8600.000000\n",
       "Human Resources      6500.000000\n",
       "IT                   5760.000000\n",
       "Marketing            9500.000000\n",
       "Public Relations    10000.000000\n",
       "Purchasing           4150.000000\n",
       "Sales                8955.882353\n",
       "Shipping             3475.555556\n",
       "Name: salary, dtype: float64"
      ]
     },
     "execution_count": 57,
     "metadata": {},
     "output_type": "execute_result"
    }
   ],
   "source": [
    "join_employee_department=pd.merge (Employee_df,Department_df,how='inner',on='department_id')\n",
    "join_employee_department.groupby('department_name')['salary'].mean()"
   ]
  },
  {
   "cell_type": "markdown",
   "metadata": {},
   "source": [
    "### 13. Compute the number of departments located in Seattle city.\n"
   ]
  },
  {
   "cell_type": "code",
   "execution_count": 68,
   "metadata": {},
   "outputs": [
    {
     "data": {
      "text/plain": [
       "21"
      ]
     },
     "execution_count": 68,
     "metadata": {},
     "output_type": "execute_result"
    }
   ],
   "source": [
    "join_department_location=pd.merge(Department_df,Locations_df,how='inner',on='location_id').query(\"city=='Seattle'\")\n",
    "\n",
    "join_department_location.department_name.nunique()\n"
   ]
  },
  {
   "cell_type": "markdown",
   "metadata": {},
   "source": [
    "### 14. What is the average salary of job ‘Finance Manager’\n"
   ]
  },
  {
   "cell_type": "code",
   "execution_count": 73,
   "metadata": {},
   "outputs": [
    {
     "data": {
      "text/plain": [
       "12000.0"
      ]
     },
     "execution_count": 73,
     "metadata": {},
     "output_type": "execute_result"
    }
   ],
   "source": [
    "join_employee_jobs_df=pd.merge(Employee_df,Jobs_df,how='inner',on='job_id')\n",
    "\n",
    "join_employee_jobs_df.query(\"job_title=='Finance Manager'\")['salary'].mean()\n"
   ]
  },
  {
   "cell_type": "markdown",
   "metadata": {},
   "source": [
    "### 15. You are offered a position either as ‘Sales Representative’ or ‘Marketing Representative’. You want to join a position with a smaller number of employees. Which position will you join?\n"
   ]
  },
  {
   "cell_type": "code",
   "execution_count": 81,
   "metadata": {},
   "outputs": [
    {
     "data": {
      "text/plain": [
       "job_title\n",
       "Sales Representative        30\n",
       "Marketing Representative     1\n",
       "dtype: int64"
      ]
     },
     "execution_count": 81,
     "metadata": {},
     "output_type": "execute_result"
    }
   ],
   "source": [
    "join_employee_jobs_df=pd.merge(Employee_df,Jobs_df,how='inner',on='job_id')\n",
    "\n",
    "join_employee_jobs_df=join_employee_jobs_df.query(\"job_title in ['Sales Representative','Marketing Representative']\")\n",
    "join_employee_jobs_df.value_counts('job_title')"
   ]
  },
  {
   "cell_type": "code",
   "execution_count": null,
   "metadata": {},
   "outputs": [],
   "source": []
  }
 ],
 "metadata": {
  "kernelspec": {
   "display_name": "Python 3.10.7 ('fuseenv': venv)",
   "language": "python",
   "name": "python3"
  },
  "language_info": {
   "codemirror_mode": {
    "name": "ipython",
    "version": 3
   },
   "file_extension": ".py",
   "mimetype": "text/x-python",
   "name": "python",
   "nbconvert_exporter": "python",
   "pygments_lexer": "ipython3",
   "version": "3.10.7"
  },
  "orig_nbformat": 4,
  "vscode": {
   "interpreter": {
    "hash": "235ff4895111486f0fa3900be5e4aea032cfb3f81c83401085e31d72be069099"
   }
  }
 },
 "nbformat": 4,
 "nbformat_minor": 2
}
