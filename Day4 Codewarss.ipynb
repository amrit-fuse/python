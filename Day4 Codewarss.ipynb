{
 "cells": [
  {
   "cell_type": "markdown",
   "metadata": {},
   "source": [
    "## Reverse words (7kyu)"
   ]
  },
  {
   "cell_type": "code",
   "execution_count": 17,
   "metadata": {},
   "outputs": [
    {
     "data": {
      "text/plain": [
       "'olleh ym eman si tirmA'"
      ]
     },
     "execution_count": 17,
     "metadata": {},
     "output_type": "execute_result"
    }
   ],
   "source": [
    "#reverse words\n",
    "def reverse_words(text):\n",
    "    words = text.split(' ') #split the text into words\n",
    "    rev_words=[] #create an empty list to store the reversed words\n",
    "    for word in words: #loop through the words\n",
    "        rev_word = word[::-1] #reverse the word\n",
    "        rev_words=rev_words+[rev_word] #add the reversed word to the list\n",
    "    return ' '.join(rev_words) #join the list into a string\n",
    "\n",
    "reverse_words('hello my name is Amrit')"
   ]
  },
  {
   "cell_type": "markdown",
   "metadata": {},
   "source": [
    "## Extract the domain name from a URL (5Kyu)"
   ]
  },
  {
   "cell_type": "code",
   "execution_count": 25,
   "metadata": {},
   "outputs": [
    {
     "data": {
      "text/plain": [
       "'downloadly'"
      ]
     },
     "execution_count": 25,
     "metadata": {},
     "output_type": "execute_result"
    }
   ],
   "source": [
    "#Write a function that when given a URL as a string, parses out just the domain name and returns it as a string\n",
    "\n",
    "#using python string replace method\n",
    "def domain_name(url):\n",
    "    url = url.replace('https://','') #replace https:// with nothing\n",
    "    url = url.replace('http://','') #replace http:// with nothing\n",
    "    url = url.replace('www.','')    #replace www. with nothing\n",
    "    url = url.split('.')[0]        #split the url into words  using '.' and take the first word \n",
    "    return url\n",
    "\n",
    "# domain_name('http://google.com')\n",
    "# domain_name('https://googleksihd.co.jp')\n",
    "domain_name('www.downloadly.ir')\n",
    "\n"
   ]
  },
  {
   "cell_type": "markdown",
   "metadata": {},
   "source": [
    "## Delete occurrences of an element if it occurs more than n times (6kyu)"
   ]
  },
  {
   "cell_type": "code",
   "execution_count": 28,
   "metadata": {},
   "outputs": [
    {
     "data": {
      "text/plain": [
       "[20, 37, 21]"
      ]
     },
     "execution_count": 28,
     "metadata": {},
     "output_type": "execute_result"
    }
   ],
   "source": [
    "# Delete occurrences of an element if it occurs more than n times\n",
    "def delete_nth(order,max_e):\n",
    "    new_order = [] #create an empty list to store the new order \n",
    "    for item in order: #loop through the order\n",
    "        if new_order.count(item) < max_e: #count and check  if the item is less than max_e\n",
    "            new_order.append(item) # f yes then only add it to the new order list\n",
    "    return new_order \n",
    "\n",
    "\n",
    "delete_nth([20,37,20,21],1)\n",
    "# delete_nth([1,1,3,3,7,2,2,2,2],3)"
   ]
  },
  {
   "cell_type": "markdown",
   "metadata": {},
   "source": [
    "## Josephus Survivor (5kyu)"
   ]
  },
  {
   "cell_type": "code",
   "execution_count": 30,
   "metadata": {},
   "outputs": [
    {
     "data": {
      "text/plain": [
       "4"
      ]
     },
     "execution_count": 30,
     "metadata": {},
     "output_type": "execute_result"
    }
   ],
   "source": [
    "def josephus_survivor(n,k):\n",
    "    people = list(range(1,n+1)) #create a list of people from 1 to n ( pyhton list exclude the last number)\n",
    "    i=0 #start from  the first person\n",
    "    while len(people)>1: #loop through the list of people\n",
    "        i=(i+k-1)%len(people) #calculate the next person to be removed and update the i \n",
    "        people.pop(i) #remove the person (dont get confused with the index and number)\n",
    "    return people[0] #return the last person\n",
    "\n",
    "josephus_survivor(7,3)\n",
    "# josephus_survivor(14, 2)\n",
    "\n",
    "#sequence \n",
    "# i=(0+3-1)%7=2 and element at index 2 is removed i.e 3\n",
    "# i=(2+3-1)%6=4 and element at index 4 is removed i.e 6 \n",
    "# i=(4+3-1)%5=1 and element at index 1 is removed i.e 2\n",
    "\n"
   ]
  },
  {
   "cell_type": "code",
   "execution_count": 38,
   "metadata": {},
   "outputs": [
    {
     "data": {
      "text/plain": [
       "1"
      ]
     },
     "execution_count": 38,
     "metadata": {},
     "output_type": "execute_result"
    }
   ],
   "source": [
    "#python mod operator %  has  unique properties \n",
    "2%5  ## 2  (remainder is 2)\n",
    "5%2  ## 1\n",
    "\n",
    "# so , i=i+k-1%len(people)  works even if i+k-1 is greater than len(people)"
   ]
  },
  {
   "cell_type": "markdown",
   "metadata": {},
   "source": [
    "## unique in order (6kyu)"
   ]
  },
  {
   "cell_type": "code",
   "execution_count": 44,
   "metadata": {},
   "outputs": [
    {
     "data": {
      "text/plain": [
       "['A', 'B', 'C', 'D', 'A', 'B']"
      ]
     },
     "execution_count": 44,
     "metadata": {},
     "output_type": "execute_result"
    }
   ],
   "source": [
    "def unique_in_order(iterable):\n",
    "    \n",
    "    unique = [] #create an empty list to store the unique items\n",
    "    for i in range(len(iterable)): #loop through the iterable\n",
    "        if i == 0 or iterable[i] != iterable[i-1]:  #if it is the first element then add it to the list\n",
    "            unique.append(iterable[i]) #add the element to the list\n",
    "    return unique #return the list\n",
    "\n",
    "unique_in_order('AAAABBBCCDAABBB')"
   ]
  },
  {
   "cell_type": "markdown",
   "metadata": {},
   "source": [
    "## Your order, please (6kyu)"
   ]
  },
  {
   "cell_type": "code",
   "execution_count": 46,
   "metadata": {},
   "outputs": [
    {
     "data": {
      "text/plain": [
       "'Fo1r the2 g3ood 4of th5e pe6ople'"
      ]
     },
     "execution_count": 46,
     "metadata": {},
     "output_type": "execute_result"
    }
   ],
   "source": [
    "def order(sentence):\n",
    "    words = sentence.split(' ') #split the sentence into words\n",
    "    ordered = [] #create an empty list to store the ordered words\n",
    "    for i in range(1,len(words)+1): #loop through the words\n",
    "        for word in words: #loop through the words\n",
    "            if str(i) in word: #check if the word contains the number i\n",
    "                ordered.append(word) #if yes then add it to the ordered list\n",
    "    return ' '.join(ordered) #return the ordered list as a string\n",
    "\n",
    "order('4of Fo1r pe6ople g3ood th5e the2')\n",
    "\n"
   ]
  },
  {
   "cell_type": "markdown",
   "metadata": {},
   "source": [
    "## RGS to HEX  Conversion (5kyu)"
   ]
  },
  {
   "cell_type": "code",
   "execution_count": 64,
   "metadata": {},
   "outputs": [
    {
     "data": {
      "text/plain": [
       "'9400D3'"
      ]
     },
     "execution_count": 64,
     "metadata": {},
     "output_type": "execute_result"
    }
   ],
   "source": [
    "def rgb(r, g, b):\n",
    "    def check(x): #define a function to check the value  if it is less than 0 or greater than 255\n",
    "        if x < 0:\n",
    "            return 0\n",
    "        if x > 255:\n",
    "            return 255\n",
    "        else:\n",
    "            return x\n",
    "    return \"{:02X}{:02X}{:02X}\".format(check(r), check(g), check(b)) #format the rgb values into hex\n",
    "\n",
    "# {:02X}  means at least 2 digits  and use zeros to met length requirtement and 'X' to write  uppercase\n",
    "\n",
    "# rgb(255, 255, 300)\n",
    "rgb(148, 0, 211)"
   ]
  },
  {
   "cell_type": "markdown",
   "metadata": {},
   "source": []
  },
  {
   "cell_type": "code",
   "execution_count": null,
   "metadata": {},
   "outputs": [],
   "source": []
  }
 ],
 "metadata": {
  "kernelspec": {
   "display_name": "Python 3.10.6 ('fuseenv': venv)",
   "language": "python",
   "name": "python3"
  },
  "language_info": {
   "codemirror_mode": {
    "name": "ipython",
    "version": 3
   },
   "file_extension": ".py",
   "mimetype": "text/x-python",
   "name": "python",
   "nbconvert_exporter": "python",
   "pygments_lexer": "ipython3",
   "version": "3.10.6"
  },
  "orig_nbformat": 4,
  "vscode": {
   "interpreter": {
    "hash": "69f0e7c2f68833cab2413a38a7ab4cd36a562471866a82103712b58ddc6e4e9a"
   }
  }
 },
 "nbformat": 4,
 "nbformat_minor": 2
}
